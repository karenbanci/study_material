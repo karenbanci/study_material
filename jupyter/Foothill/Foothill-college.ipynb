{
 "cells": [
  {
   "cell_type": "markdown",
   "metadata": {},
   "source": [
    "# October 3, 2022"
   ]
  },
  {
   "cell_type": "code",
   "execution_count": null,
   "metadata": {},
   "outputs": [],
   "source": [
    "a= 15\n",
    "\n",
    "res = 'a < 10' if a < 10 else 'a >= 10'\n",
    "\n",
    "print(res)"
   ]
  },
  {
   "cell_type": "code",
   "execution_count": null,
   "metadata": {},
   "outputs": [],
   "source": [
    "a = 5\n",
    "if a < 10:\n",
    "    print('a < 10 ')\n",
    "else:\n",
    "    print('a >= 10 ') \n"
   ]
  },
  {
   "cell_type": "code",
   "execution_count": null,
   "metadata": {},
   "outputs": [],
   "source": [
    "def say_hello():\n",
    "    print('Hello!')\n",
    "    print('My name is Karen')\n",
    "    a = 99\n",
    "    b = 1\n",
    "    print( a + b )\n",
    "    \n",
    "def say_goodbye():\n",
    "    print('Goodbye')        "
   ]
  },
  {
   "cell_type": "code",
   "execution_count": null,
   "metadata": {},
   "outputs": [],
   "source": [
    "a = 1\n",
    "say_hello() if a < 10 else say_goodbye()"
   ]
  },
  {
   "cell_type": "code",
   "execution_count": null,
   "metadata": {},
   "outputs": [],
   "source": [
    "say_hello()"
   ]
  },
  {
   "cell_type": "code",
   "execution_count": null,
   "metadata": {},
   "outputs": [],
   "source": [
    "a = 16\n",
    "say_hello() if a < 10 else say_goodbye()"
   ]
  },
  {
   "cell_type": "code",
   "execution_count": null,
   "metadata": {},
   "outputs": [],
   "source": [
    "x = input(\"please enter a number \") \n",
    "print(\"the number that you entered is\", x)\n",
    "x = int(x)"
   ]
  },
  {
   "cell_type": "code",
   "execution_count": null,
   "metadata": {},
   "outputs": [],
   "source": [
    "print(type(x))"
   ]
  },
  {
   "cell_type": "code",
   "execution_count": null,
   "metadata": {},
   "outputs": [],
   "source": [
    "print (20 + x)"
   ]
  },
  {
   "cell_type": "code",
   "execution_count": null,
   "metadata": {},
   "outputs": [],
   "source": [
    "x = input(\"please enter a number \")\n",
    "print(\"the number that you entered is\", x)\n",
    "print(type(x))"
   ]
  },
  {
   "cell_type": "code",
   "execution_count": null,
   "metadata": {},
   "outputs": [],
   "source": [
    "m = 2\n",
    "n = 4\n",
    "print(type(m * m == n))\n",
    "print(m * m ==n)"
   ]
  },
  {
   "cell_type": "code",
   "execution_count": null,
   "metadata": {},
   "outputs": [],
   "source": [
    "#Comparing integers\n",
    "m = 2\n",
    "n = 4\n",
    "\n",
    "if m * m == n:\n",
    "    print(\"2 times 2 is four\")"
   ]
  },
  {
   "cell_type": "code",
   "execution_count": null,
   "metadata": {},
   "outputs": [],
   "source": [
    "from math import sqrt\n",
    "x = sqrt(9)\n",
    "print(x)"
   ]
  },
  {
   "cell_type": "code",
   "execution_count": null,
   "metadata": {},
   "outputs": [],
   "source": [
    "from math import sqrt\n",
    "x = sqrt(9)\n",
    "y = 2.0\n",
    "\n",
    "\n",
    "if x * x == y:\n",
    "    print(\"sqrt(2) times sqrt(2) is 2 \")\n",
    "else:\n",
    "    print(\"sqrt(2) times sqrt(2) is not 2 %.18f \" % (x * x))  \n",
    "    \n",
    "EPSILON = 1E-14\n",
    "if abs(x * x - y ) < EPSILON :\n",
    "    print(\"sqrt(2) times sqrt(2) is aproximately 2 \")  \n"
   ]
  },
  {
   "cell_type": "code",
   "execution_count": null,
   "metadata": {},
   "outputs": [],
   "source": [
    "while True:\n",
    "    x = int(input(\"Please enter an int greater the 10\"))\n",
    "    if type(x) == int and x > 10:\n",
    "        print(\"Nice work\")\n",
    "        break\n",
    "    else:\n",
    "        print(\"Not quite\")\n",
    "\n",
    "print(\"End of example\")"
   ]
  },
  {
   "cell_type": "code",
   "execution_count": null,
   "metadata": {},
   "outputs": [],
   "source": [
    "x = \"error\"\n",
    "\n",
    "while cond == \"error\":\n",
    "    x = int(input(\"Please enter an int greater the 10\"))\n",
    "    if type(x) == int and x > 10:\n",
    "        print(\"Nice work\")\n",
    "        break\n",
    "    else:\n",
    "        print(\"Not quite\")\n",
    "\n",
    "print(\"End of example\")"
   ]
  },
  {
   "cell_type": "code",
   "execution_count": null,
   "metadata": {},
   "outputs": [],
   "source": [
    "cond = \"error\"\n",
    "\n",
    "while cond == \"error\":\n",
    "    x = int(input(\"Please enter an int greater the 10\"))\n",
    "    if type(x) == int and x > 10:\n",
    "        print(\"Nice work\")\n",
    "        cond = \"\"\n",
    "    else:\n",
    "        print(\"Not quite\")\n",
    "\n",
    "print(\"End of example\")"
   ]
  },
  {
   "cell_type": "markdown",
   "metadata": {},
   "source": [
    "# October 5, 2022"
   ]
  },
  {
   "cell_type": "code",
   "execution_count": null,
   "metadata": {},
   "outputs": [],
   "source": [
    "s = \"120\"\n",
    "t = \"20\"\n",
    "\n",
    "if s == t :\n",
    "    comparison = \"is the same as\"\n",
    "else :\n",
    "    comparison = \"is not the same as\"\n",
    "\n",
    "print(f\"The string '{s}' the string { comparison }'{t}'\") \n"
   ]
  },
  {
   "cell_type": "code",
   "execution_count": null,
   "metadata": {},
   "outputs": [],
   "source": [
    "s = \"120\"\n",
    "t = \"20\"\n",
    "u = \"1\"+ t\n",
    "print(u)\n",
    "\n",
    "if s != u :\n",
    "    comparison = \"not\"\n",
    "else :\n",
    "    comparison = \"\"\n",
    "\n",
    "print(f\"The string '{s}' and '{ u }' are { comparison } identical\") \n"
   ]
  },
  {
   "cell_type": "code",
   "execution_count": 2,
   "metadata": {},
   "outputs": [
    {
     "name": "stdout",
     "output_type": "stream",
     "text": [
      "120\n",
      "The string '120' and '120' are  identical\n"
     ]
    }
   ],
   "source": [
    "s = \"120\"\n",
    "t = \"20\"\n",
    "u = \"1\"+ t\n",
    "print(u)\n",
    "\n",
    "if s != u :\n",
    "    values_equal = \"not\"\n",
    "else :\n",
    "    values_equal = \"\"\n",
    "\n",
    "print(f\"The string '{s}' and '{ u }' are { values_equal } identical\") "
   ]
  },
  {
   "cell_type": "code",
   "execution_count": null,
   "metadata": {},
   "outputs": [],
   "source": [
    "s = \"120\"\n",
    "t = float(input())\n",
    "u = t + float(\"1\")\n",
    "print(\"t = \", t)\n",
    "print(\"u = \", u)"
   ]
  },
  {
   "cell_type": "code",
   "execution_count": null,
   "metadata": {},
   "outputs": [],
   "source": [
    "class Person():\n",
    "    age = \"\"\n",
    "    hair_color = \"\"\n",
    "\n",
    "mike = Person()\n",
    "karen = Person()\n",
    "\n",
    "print(type(mike))\n",
    "print(id(mike))\n",
    "\n",
    "print(type(karen))\n",
    "print(id(karen))\n"
   ]
  },
  {
   "cell_type": "markdown",
   "metadata": {},
   "source": [
    "# October 10, 2002"
   ]
  },
  {
   "cell_type": "code",
   "execution_count": 4,
   "metadata": {},
   "outputs": [
    {
     "name": "stdout",
     "output_type": "stream",
     "text": [
      "<class 'bool'>\n",
      "2863520\n"
     ]
    }
   ],
   "source": [
    "#Example\n",
    "example = True\n",
    "print(type(example))\n",
    "print(id(example))"
   ]
  },
  {
   "cell_type": "code",
   "execution_count": 7,
   "metadata": {},
   "outputs": [
    {
     "name": "stdout",
     "output_type": "stream",
     "text": [
      "True\n",
      "47540056\n",
      "57518368\n"
     ]
    }
   ],
   "source": [
    "j = \"hel\"\n",
    "print( j + \"lo\" == \"hello\") \n",
    "print(id(\"hello\"))\n",
    "print(id( j + \"lo\"))"
   ]
  },
  {
   "cell_type": "code",
   "execution_count": 9,
   "metadata": {},
   "outputs": [
    {
     "name": "stdout",
     "output_type": "stream",
     "text": [
      "Karen Karen Karen Karen Karen Karen Karen Karen Karen Karen Karen Karen Karen Karen Karen Karen Karen Karen Karen Karen \n"
     ]
    }
   ],
   "source": [
    "print( \"Karen \" * 20 )"
   ]
  },
  {
   "cell_type": "code",
   "execution_count": 13,
   "metadata": {},
   "outputs": [
    {
     "name": "stdout",
     "output_type": "stream",
     "text": [
      "Hey, you're too young to get a driving licence!\n"
     ]
    }
   ],
   "source": [
    "age = 18\n",
    "if (age >= 17):\n",
    "   print(\"Hey, you're too young to get a driving licence!\")"
   ]
  },
  {
   "cell_type": "code",
   "execution_count": 15,
   "metadata": {},
   "outputs": [
    {
     "name": "stdout",
     "output_type": "stream",
     "text": [
      "20\n"
     ]
    }
   ],
   "source": [
    "print( 2 + 3 * 6) "
   ]
  },
  {
   "cell_type": "code",
   "execution_count": 24,
   "metadata": {},
   "outputs": [
    {
     "name": "stdout",
     "output_type": "stream",
     "text": [
      "x =  4\n"
     ]
    }
   ],
   "source": [
    "x = 4 \n",
    "if x == 4:\n",
    "    print(\"x = \", 4)\n",
    "else:\n",
    "    print(\"x !=\",  4)"
   ]
  },
  {
   "cell_type": "code",
   "execution_count": 32,
   "metadata": {},
   "outputs": [
    {
     "name": "stdout",
     "output_type": "stream",
     "text": [
      "This is always printed\n"
     ]
    }
   ],
   "source": [
    "x = 10\n",
    "if x < 0:\n",
    "    print(\"The negative number \",  x, \" is not valid here.\")\n",
    "elif x <= 9:\n",
    "    print(x, \" is a positive number\")\n",
    "else:\n",
    "    print(\"This is always printed\")"
   ]
  },
  {
   "cell_type": "code",
   "execution_count": 38,
   "metadata": {},
   "outputs": [
    {
     "name": "stdout",
     "output_type": "stream",
     "text": [
      "x is less than y\n"
     ]
    }
   ],
   "source": [
    "x = 9\n",
    "y = 10\n",
    "\n",
    "if x < y:\n",
    "    print(\"x is less than y\")\n",
    "else:\n",
    "    if x > y:\n",
    "        print(\"x is greater than y\")\n",
    "    else:\n",
    "        print(\"x and y must be equal\")"
   ]
  },
  {
   "cell_type": "markdown",
   "metadata": {},
   "source": [
    "# October 12, 2022"
   ]
  },
  {
   "cell_type": "code",
   "execution_count": 39,
   "metadata": {},
   "outputs": [
    {
     "name": "stdout",
     "output_type": "stream",
     "text": [
      "14\n"
     ]
    }
   ],
   "source": [
    "print(16 - 2 * 5 // 3 + 1)\n"
   ]
  },
  {
   "cell_type": "code",
   "execution_count": 40,
   "metadata": {},
   "outputs": [
    {
     "name": "stdout",
     "output_type": "stream",
     "text": [
      "768\n"
     ]
    }
   ],
   "source": [
    "print(2 ** 2 ** 3 * 3)"
   ]
  },
  {
   "cell_type": "code",
   "execution_count": 41,
   "metadata": {},
   "outputs": [
    {
     "name": "stdout",
     "output_type": "stream",
     "text": [
      "8538976\n",
      "8538976\n",
      "8539096\n",
      "8539096\n",
      "10\n"
     ]
    }
   ],
   "source": [
    "a = 5\n",
    "print(id(5))\n",
    "print(id(a))\n",
    "print(id(10))\n",
    "a = a + 5\n",
    "print(id(a))\n",
    "print(a)"
   ]
  },
  {
   "cell_type": "code",
   "execution_count": 43,
   "metadata": {},
   "outputs": [
    {
     "name": "stdout",
     "output_type": "stream",
     "text": [
      "Hi Joe Please come to my party on Saturday!\n",
      "Hi Amy Please come to my party on Saturday!\n",
      "Hi Brad Please come to my party on Saturday!\n",
      "Hi Angelina Please come to my party on Saturday!\n",
      "Hi Zuki Please come to my party on Saturday!\n",
      "Hi Thandi Please come to my party on Saturday!\n",
      "Hi Paris Please come to my party on Saturday!\n"
     ]
    }
   ],
   "source": [
    "for name in [\"Joe\", \"Amy\", \"Brad\", \"Angelina\", \"Zuki\", \"Thandi\", \"Paris\"]:\n",
    "    print(\"Hi\", name, \"Please come to my party on Saturday!\")\n",
    " "
   ]
  },
  {
   "cell_type": "code",
   "execution_count": 45,
   "metadata": {},
   "outputs": [
    {
     "name": "stdout",
     "output_type": "stream",
     "text": [
      "0\n",
      "1\n",
      "2\n",
      "3\n",
      "0\n",
      "1\n",
      "2\n",
      "3\n",
      "4\n",
      "5\n",
      "6\n",
      "7\n",
      "8\n",
      "9\n"
     ]
    }
   ],
   "source": [
    "for i in range(4):\n",
    "    print(i)\n",
    "for x in range(10):\n",
    "    print(x)"
   ]
  },
  {
   "cell_type": "code",
   "execution_count": 50,
   "metadata": {},
   "outputs": [
    {
     "name": "stdout",
     "output_type": "stream",
     "text": [
      "number =  0\n",
      "number =  1\n",
      "number =  2\n",
      "number =  3\n",
      "number =  4\n",
      "number =  5\n",
      "number =  6\n",
      "number =  7\n",
      "number =  8\n",
      "number =  9\n",
      " =  =  =  =  =  =  =  =  =  = \n",
      "number =  3\n",
      "number =  4\n",
      "number =  5\n",
      "number =  6\n",
      "number =  7\n",
      "number =  8\n",
      "number =  9\n"
     ]
    }
   ],
   "source": [
    "for i in range(10):\n",
    "    print(\"number = \", i)\n",
    "\n",
    "print(\" = \" * 10)\n",
    "\n",
    "for i in range(3, 10):\n",
    "    print(\"number = \", i)"
   ]
  },
  {
   "cell_type": "code",
   "execution_count": 51,
   "metadata": {},
   "outputs": [
    {
     "name": "stdout",
     "output_type": "stream",
     "text": [
      "number =  0\n",
      "number =  2\n",
      "number =  4\n",
      "number =  6\n",
      "number =  8\n"
     ]
    }
   ],
   "source": [
    "for i in range(0,10,2):\n",
    "    print(\"number = \", i)"
   ]
  },
  {
   "cell_type": "code",
   "execution_count": 52,
   "metadata": {},
   "outputs": [
    {
     "name": "stdout",
     "output_type": "stream",
     "text": [
      "number =  3\n",
      "number =  5\n",
      "number =  7\n",
      "number =  9\n"
     ]
    }
   ],
   "source": [
    "for i in range(3,10,2):\n",
    "    print(\"number = \", i)"
   ]
  },
  {
   "cell_type": "code",
   "execution_count": 53,
   "metadata": {},
   "outputs": [
    {
     "name": "stdout",
     "output_type": "stream",
     "text": [
      "[0, 2, 4, 6, 8, 10, 12, 14, 16, 18]\n",
      "[0, 2, 4, 6, 8, 10, 12, 14, 16, 18]\n",
      "[10, 9, 8, 7, 6, 5, 4, 3, 2, 1]\n"
     ]
    }
   ],
   "source": [
    "print(list(range(0, 19, 2)))\n",
    "print(list(range(0, 20, 2)))\n",
    "print(list(range(10, 0, -1)))"
   ]
  },
  {
   "cell_type": "code",
   "execution_count": 56,
   "metadata": {},
   "outputs": [
    {
     "name": "stdout",
     "output_type": "stream",
     "text": [
      "[20, 15, 10, 5]\n"
     ]
    }
   ],
   "source": [
    "print(list(range(20,3,-5)))\n"
   ]
  },
  {
   "cell_type": "code",
   "execution_count": null,
   "metadata": {},
   "outputs": [],
   "source": []
  },
  {
   "cell_type": "code",
   "execution_count": null,
   "metadata": {},
   "outputs": [],
   "source": []
  },
  {
   "cell_type": "code",
   "execution_count": null,
   "metadata": {},
   "outputs": [],
   "source": []
  }
 ],
 "metadata": {
  "kernelspec": {
   "display_name": "Python (Pyodide)",
   "language": "python",
   "name": "python"
  },
  "language_info": {
   "codemirror_mode": {
    "name": "python",
    "version": 3
   },
   "file_extension": ".py",
   "mimetype": "text/x-python",
   "name": "python",
   "nbconvert_exporter": "python",
   "pygments_lexer": "ipython3",
   "version": "3.8"
  }
 },
 "nbformat": 4,
 "nbformat_minor": 4
}
