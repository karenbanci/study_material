{
 "cells": [
  {
   "cell_type": "markdown",
   "id": "1b6fad8c",
   "metadata": {},
   "source": [
    "## if statement\n",
    "- the if statement allows for conditional executing of program statements\n",
    "- if  \\<boolean expression>:    \n",
    "  statements\n",
    "  \n",
    " - \\<boolean expression> is any expression that evaluates to True or False"
   ]
  },
  {
   "cell_type": "code",
   "execution_count": 1,
   "id": "3884c0cf",
   "metadata": {},
   "outputs": [
    {
     "name": "stdout",
     "output_type": "stream",
     "text": [
      "The person is an adult\n"
     ]
    }
   ],
   "source": [
    "age = 21\n",
    "if age >= 21:\n",
    "    print(\"The person is an adult\")"
   ]
  },
  {
   "cell_type": "markdown",
   "id": "0cd73062",
   "metadata": {},
   "source": [
    "if/else statement"
   ]
  },
  {
   "cell_type": "code",
   "execution_count": 2,
   "id": "02a28cc4",
   "metadata": {},
   "outputs": [
    {
     "name": "stdout",
     "output_type": "stream",
     "text": [
      "number is between 1 and 10\n"
     ]
    }
   ],
   "source": [
    "number = 10\n",
    "if number>=1 and number <=10:\n",
    "    print (\"number is between 1 and 10\")\n",
    "else:\n",
    "    print (\"number is not between 1 and 10\")"
   ]
  },
  {
   "cell_type": "markdown",
   "id": "c238a6e3",
   "metadata": {},
   "source": [
    "if/elif/else"
   ]
  },
  {
   "cell_type": "code",
   "execution_count": null,
   "id": "241905f2",
   "metadata": {},
   "outputs": [],
   "source": [
    "if number>=1 and number <=10:\n",
    "       print (\"number is between 1 and 10\")\n",
    "elif number >10 and number <=20:\n",
    "       print (\"number is between 11 and 20\")\n",
    "else: \n",
    "       print (\"number is not between 1 and 20\")"
   ]
  },
  {
   "cell_type": "markdown",
   "id": "8824c99c",
   "metadata": {},
   "source": [
    "Minimizing comparisons"
   ]
  },
  {
   "cell_type": "markdown",
   "id": "554f3ebf",
   "metadata": {},
   "source": [
    "Boolean expressions"
   ]
  },
  {
   "cell_type": "code",
   "execution_count": null,
   "id": "fb6ae195",
   "metadata": {},
   "outputs": [],
   "source": []
  },
  {
   "cell_type": "code",
   "execution_count": null,
   "id": "feaa9115",
   "metadata": {},
   "outputs": [],
   "source": []
  },
  {
   "cell_type": "code",
   "execution_count": null,
   "id": "b07cc5cd",
   "metadata": {},
   "outputs": [],
   "source": []
  },
  {
   "cell_type": "code",
   "execution_count": null,
   "id": "0dfb2865",
   "metadata": {},
   "outputs": [],
   "source": []
  },
  {
   "cell_type": "code",
   "execution_count": null,
   "id": "2403daab",
   "metadata": {},
   "outputs": [],
   "source": []
  },
  {
   "cell_type": "code",
   "execution_count": null,
   "id": "3cd7a9ee",
   "metadata": {},
   "outputs": [],
   "source": []
  }
 ],
 "metadata": {
  "kernelspec": {
   "display_name": "Python 3 (ipykernel)",
   "language": "python",
   "name": "python3"
  },
  "language_info": {
   "codemirror_mode": {
    "name": "ipython",
    "version": 3
   },
   "file_extension": ".py",
   "mimetype": "text/x-python",
   "name": "python",
   "nbconvert_exporter": "python",
   "pygments_lexer": "ipython3",
   "version": "3.9.12"
  }
 },
 "nbformat": 4,
 "nbformat_minor": 5
}
