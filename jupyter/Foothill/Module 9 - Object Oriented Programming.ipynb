{
 "cells": [
  {
   "cell_type": "markdown",
   "id": "c4a309c0",
   "metadata": {},
   "source": [
    "# Object Oriented Programming"
   ]
  },
  {
   "cell_type": "markdown",
   "id": "88f63530",
   "metadata": {},
   "source": [
    "## What is object-oriented programming?\n",
    "- Object-Oriented Programming(OOP), is all about creating “objects”. \n",
    " - An object is a group of interrelated variables and behavior (methods). \n",
    " - These variables are often referred to as properties of the object and functions are referred to as the behavior of the objects. These objects provide a better and clear structure for the program.\n",
    "\n",
    "- For example, a car can be an object. \n",
    " - If we consider the car as an object then  \n",
    " - its properties would be – its color, its model, its price, its brand, etc. \n",
    " - And its behavior/function would be acceleration, slowing down, gear change.\n",
    "\n",
    "- Another example- If we consider a dog as an object then \n",
    " - its properties would be - his color, his breed, his name, his weight, etc. \n",
    " - And his behavior/function would be walking, barking, playing, etc."
   ]
  },
  {
   "cell_type": "markdown",
   "id": "3c3ceb28",
   "metadata": {},
   "source": [
    "- A generalization ---> A class is the same as a data type, and an object is the same as a variable.\n",
    "\n",
    "- More precisely   --->  A class is the definition of a type, and a variable name is a reference to an object.   \n",
    " - A variable name provides a reference to the object id of the object.\n",
    "\n",
    "- \"An Object is an Instance of a Class.\"     5 is an instance of the int class"
   ]
  },
  {
   "cell_type": "markdown",
   "id": "7b5a69d3",
   "metadata": {},
   "source": [
    "## Predefined Classes\n",
    "- Python comes with many predefined classes such as int, float, str, list, dict, set...\n",
    " - objects consist of state and behavior\n",
    " - state is defined by the \"attributes\"\n",
    " - behavior is controlled by the methods (functions) which are part of the object"
   ]
  },
  {
   "cell_type": "markdown",
   "id": "9bd933e3",
   "metadata": {},
   "source": [
    "### The str class and a few of the str methods"
   ]
  },
  {
   "cell_type": "code",
   "execution_count": 40,
   "id": "fb02ddf2",
   "metadata": {},
   "outputs": [
    {
     "data": {
      "text/plain": [
       "'        Foothill        '"
      ]
     },
     "execution_count": 40,
     "metadata": {},
     "output_type": "execute_result"
    }
   ],
   "source": [
    "s = 'Foothill'   # state\n",
    "s.center(24)     # behavior  (a method)"
   ]
  },
  {
   "cell_type": "code",
   "execution_count": 38,
   "id": "4ee04e5c",
   "metadata": {},
   "outputs": [
    {
     "name": "stdout",
     "output_type": "stream",
     "text": [
      "Foothill\n"
     ]
    }
   ],
   "source": [
    "s = \"foothill\"\n",
    "s = s.capitalize()\n",
    "print(s)"
   ]
  },
  {
   "cell_type": "code",
   "execution_count": 39,
   "id": "d586edd0",
   "metadata": {},
   "outputs": [
    {
     "data": {
      "text/plain": [
       "2"
      ]
     },
     "execution_count": 39,
     "metadata": {},
     "output_type": "execute_result"
    }
   ],
   "source": [
    "s = 'Foothill College'\n",
    "s.count('ll')   # Count the number of occurences"
   ]
  },
  {
   "cell_type": "markdown",
   "id": "da7e8fab",
   "metadata": {},
   "source": [
    "## Defining your own class\n",
    "### rectangle"
   ]
  },
  {
   "cell_type": "code",
   "execution_count": 23,
   "id": "0cb13258",
   "metadata": {},
   "outputs": [
    {
     "name": "stdout",
     "output_type": "stream",
     "text": [
      "Rectangle r1: height = 3, width = 4\n",
      "Rectangle r2: height = 5, width = 6\n"
     ]
    }
   ],
   "source": [
    "class Rectangle:\n",
    "    \"\"\"\n",
    "    One object of class Rectangle stores one\n",
    "    rectangle's length and width.\n",
    "    \"\"\"\n",
    "\n",
    "    def setData(self, newHeight, newWidth):\n",
    "        \"\"\"\n",
    "        sets the data inside the Rectangle to newHeight by newWidth\n",
    "        \"\"\"\n",
    "        self.height = newHeight\n",
    "        self.width = newWidth\n",
    "\n",
    "    def __str__(self):\n",
    "        \"\"\"\n",
    "        returns a string containing the data in the Rectangle\n",
    "        \"\"\"\n",
    "        return f\"height = {self.height}, width = {self.width}\" \n",
    "\"\"\"\n",
    "   Since the following code is not indented, it is not part of the\n",
    "   class Rectangle. This code is used for testing objects of class\n",
    "   Rectangle. This code creates two Rectangle objects and calls\n",
    "   methods on them for testing purposes. We call this the test program.\n",
    "\"\"\"\n",
    "r1 = Rectangle()\n",
    "r1.setData(3,4)\n",
    "print(f'Rectangle r1: {r1}')   # automatically calls __str__(self) method and prints the returned value\n",
    "r2 = Rectangle()\n",
    "r2.setData(5,6)\n",
    "print(f'Rectangle r2: {r2}')   # automatically calls __str__(self)"
   ]
  },
  {
   "cell_type": "markdown",
   "id": "e7271459",
   "metadata": {},
   "source": [
    "## class variable - \n",
    "### a variable that belongs to the whole class"
   ]
  },
  {
   "cell_type": "code",
   "execution_count": 36,
   "id": "5dca6b48",
   "metadata": {},
   "outputs": [
    {
     "name": "stdout",
     "output_type": "stream",
     "text": [
      "Number of rectangle objects is 0\n",
      "Number of rectangle objects is 1\n",
      "Number of rectangle objects is 2\n",
      "Number of rectangle objects is 3\n"
     ]
    }
   ],
   "source": [
    "class Rectangle():\n",
    "    \"\"\"\n",
    "    One object of class Rectangle stores one\n",
    "    rectangle's length and width.\n",
    "    \"\"\"\n",
    "\n",
    "    count = 0                 # this is the class variable\n",
    "\n",
    "    def __init__ (self):\n",
    "        self.height = 0\n",
    "        self.width = 0\n",
    "        Rectangle.count = Rectangle.count + 1  \n",
    "        # even from inside the class, you need to prepend the class name to a class variable    \n",
    "\n",
    "    def setData(self, newHeight, newWidth):\n",
    "        \"\"\"\n",
    "        sets the data inside the Rectangle to newHeight by newWidth\n",
    "        \"\"\"\n",
    "        self.height = newHeight\n",
    "        self.width = newWidth\n",
    "\n",
    "    def __str__(self):\n",
    "        \"\"\"\n",
    "        returns a string containing the data in the Rectangle\n",
    "        \"\"\"\n",
    "        return f\"height = {self.height}, width = {self.width}\" \n",
    "\n",
    "\n",
    "if __name__ == \"__main__\":\n",
    "    print(f\"Number of rectangle objects is {Rectangle.count}\")\n",
    "    r = Rectangle()\n",
    "    print(f\"Number of rectangle objects is {Rectangle.count}\")\n",
    "    r = Rectangle()\n",
    "    print(f\"Number of rectangle objects is {Rectangle.count}\")\n",
    "    r = Rectangle()\n",
    "    print(f\"Number of rectangle objects is {Rectangle.count}\")"
   ]
  },
  {
   "cell_type": "markdown",
   "id": "4b70db91",
   "metadata": {},
   "source": [
    "# Add a method to the class "
   ]
  },
  {
   "cell_type": "code",
   "execution_count": 34,
   "id": "041c1cb6",
   "metadata": {},
   "outputs": [
    {
     "name": "stdout",
     "output_type": "stream",
     "text": [
      "Number of rectangle objects is 2\n"
     ]
    }
   ],
   "source": [
    "class Rectangle():\n",
    "    \"\"\"\n",
    "    One object of class Rectangle stores one\n",
    "    rectangle's length and width.\n",
    "    \"\"\"\n",
    "\n",
    "    count = 0                 # this is the class variable\n",
    "\n",
    "    def __init__ (self):\n",
    "        self.height = 0\n",
    "        self.width = 0\n",
    "        Rectangle.count = Rectangle.count + 1  \n",
    "        # even from inside the class, you need to prepend the class name to a class variable    \n",
    "\n",
    "    def setData(self, newHeight, newWidth):\n",
    "        \"\"\"\n",
    "        sets the data inside the Rectangle to newHeight by newWidth\n",
    "        \"\"\"\n",
    "        self.height = newHeight\n",
    "        self.width = newWidth\n",
    "\n",
    "    def __str__(self):\n",
    "        \"\"\"\n",
    "        returns a string containing the data in the Rectangle\n",
    "        \"\"\"\n",
    "        return f\"height = {self.height}, width = {self.width}\" \n",
    "    \n",
    "    @staticmethod \n",
    "    def getCount():  # note that there is no self parameter\n",
    "        \"\"\"\n",
    "        returns the number of objects ever constructed out of this class\n",
    "        \"\"\"\n",
    "        return Rectangle.count\n",
    "    \n",
    "floor = Rectangle()\n",
    "ceiling = Rectangle()\n",
    "print(f\"Number of rectangle objects is {Rectangle.getCount()}\")  # note that we call getCount() with the class name before the dot"
   ]
  },
  {
   "cell_type": "code",
   "execution_count": null,
   "id": "f043afb1",
   "metadata": {},
   "outputs": [],
   "source": []
  },
  {
   "cell_type": "code",
   "execution_count": null,
   "id": "6d9611cb",
   "metadata": {},
   "outputs": [],
   "source": []
  },
  {
   "cell_type": "code",
   "execution_count": null,
   "id": "910ca93a",
   "metadata": {},
   "outputs": [],
   "source": []
  },
  {
   "cell_type": "code",
   "execution_count": null,
   "id": "a2000c3a",
   "metadata": {},
   "outputs": [],
   "source": []
  },
  {
   "cell_type": "code",
   "execution_count": null,
   "id": "ca728cf4",
   "metadata": {},
   "outputs": [],
   "source": []
  },
  {
   "cell_type": "code",
   "execution_count": 44,
   "id": "d03b7962",
   "metadata": {},
   "outputs": [
    {
     "name": "stdout",
     "output_type": "stream",
     "text": [
      "Nothing seems to have happened with the points\n",
      "0\n",
      "0\n",
      "1944600691616 1944600895104\n",
      "50\n",
      "0\n",
      "<class 'int'>\n"
     ]
    }
   ],
   "source": [
    "class Point:\n",
    "    \"\"\" Point class for representing and manipulating x,y coordinates. \"\"\"\n",
    "\n",
    "    def __init__(self):\n",
    "        \"\"\" Create a new point at the origin \"\"\"\n",
    "        self.x = 0\n",
    "        self.y = 0\n",
    "\n",
    "p = Point()         # Instantiate an object of type Point\n",
    "q = Point()         # and make a second point\n",
    "\n",
    "print(\"Nothing seems to have happened with the points\")\n",
    "print(p.x)\n",
    "print(q.x)\n",
    "print(id(p),id(q))\n",
    "\n",
    "#\n",
    "p.x = 50\n",
    "print(p.x)\n",
    "print(q.x)\n",
    "print(type(p.x))"
   ]
  },
  {
   "cell_type": "code",
   "execution_count": 49,
   "id": "9540e296",
   "metadata": {},
   "outputs": [
    {
     "name": "stdout",
     "output_type": "stream",
     "text": [
      "x=3.0, y=8.0\n",
      "3.0\n",
      "8.0\n"
     ]
    },
    {
     "data": {
      "text/plain": [
       "False"
      ]
     },
     "execution_count": 49,
     "metadata": {},
     "output_type": "execute_result"
    }
   ],
   "source": [
    "class Point:\n",
    "\n",
    "    def __init__(self, initX, initY):\n",
    "        \"\"\" Create a new point at the given coordinates. \"\"\"\n",
    "        self.x = initX\n",
    "        self.y = initY\n",
    "\n",
    "    def getX(self):\n",
    "        return self.x\n",
    "\n",
    "    def getY(self):\n",
    "        return self.y\n",
    "\n",
    "    def distanceFromOrigin(self):\n",
    "        return ((self.x ** 2) + (self.y ** 2)) ** 0.5\n",
    "\n",
    "    def __str__(self):\n",
    "        return \"x=\" + str(self.x) + \", y=\" + str(self.y)\n",
    "\n",
    "    def halfway(self, target):\n",
    "         mx = (self.x + target.x) / 2\n",
    "         my = (self.y + target.y) / 2\n",
    "         return Point(mx, my)\n",
    "\n",
    "p = Point(3, 4)\n",
    "q = Point(3, 12)\n",
    "mid = p.halfway(q)\n",
    "\n",
    "print(mid)\n",
    "print(mid.getX())\n",
    "print(mid.getY())\n",
    "\n",
    "\n",
    "p.y == q.y"
   ]
  },
  {
   "cell_type": "code",
   "execution_count": 46,
   "id": "5796cf93",
   "metadata": {},
   "outputs": [
    {
     "data": {
      "text/plain": [
       "False"
      ]
     },
     "execution_count": 46,
     "metadata": {},
     "output_type": "execute_result"
    }
   ],
   "source": [
    "[1,2] == [1,3]"
   ]
  },
  {
   "cell_type": "code",
   "execution_count": 54,
   "id": "beb299da",
   "metadata": {},
   "outputs": [
    {
     "name": "stdout",
     "output_type": "stream",
     "text": [
      "Tesla\n"
     ]
    }
   ],
   "source": [
    "class Car:\n",
    "    def __init__(self, brand, year):\n",
    "        self.brand = brand\n",
    "        self.year = year\n",
    "\n",
    "    def get_brand(self):\n",
    "        return self.brand\n",
    "\n",
    "    def set_brand(self, name):\n",
    "        self.name = name\n",
    "\n",
    "    def __str__(self):\n",
    "        return self.brand + \" \" + str(self.year)\n",
    "\n",
    "c1 = Car(\"Tesla\", 2021)\n",
    "print(c1.get_brand())"
   ]
  },
  {
   "cell_type": "code",
   "execution_count": null,
   "id": "ac4a6dce",
   "metadata": {},
   "outputs": [],
   "source": []
  }
 ],
 "metadata": {
  "kernelspec": {
   "display_name": "Python 3 (ipykernel)",
   "language": "python",
   "name": "python3"
  },
  "language_info": {
   "codemirror_mode": {
    "name": "ipython",
    "version": 3
   },
   "file_extension": ".py",
   "mimetype": "text/x-python",
   "name": "python",
   "nbconvert_exporter": "python",
   "pygments_lexer": "ipython3",
   "version": "3.9.12"
  }
 },
 "nbformat": 4,
 "nbformat_minor": 5
}
