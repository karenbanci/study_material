{
 "cells": [
  {
   "cell_type": "markdown",
   "id": "f6367e4d",
   "metadata": {},
   "source": [
    "# Objects"
   ]
  },
  {
   "cell_type": "code",
   "execution_count": null,
   "id": "2947c326",
   "metadata": {},
   "outputs": [],
   "source": [
    "a + b a.add(b)  a.__add__(b)\n",
    "\n",
    "def __add__(arg):"
   ]
  },
  {
   "cell_type": "code",
   "execution_count": 2,
   "id": "9d0aec58",
   "metadata": {},
   "outputs": [
    {
     "name": "stdout",
     "output_type": "stream",
     "text": [
      "15\n"
     ]
    }
   ],
   "source": [
    "a = 5\n",
    "b = 10\n",
    "c = a.__add__(b)\n",
    "print(c)"
   ]
  },
  {
   "cell_type": "code",
   "execution_count": 33,
   "id": "330f925c",
   "metadata": {},
   "outputs": [
    {
     "name": "stdout",
     "output_type": "stream",
     "text": [
      "Toyota, red\n",
      "1\n",
      "BMW, blue\n",
      "2\n"
     ]
    }
   ],
   "source": [
    "class Car():\n",
    "    \"\"\"\n",
    "    Instance of car class from the docstring\n",
    "    \"\"\"\n",
    "\n",
    "    # car is a attribute of the classe \n",
    "    cars = 0\n",
    "    \n",
    "    # it is an instance\n",
    "    def __init__(self, color, brand, hp):\n",
    "        self.color = color\n",
    "        self.brand = brand\n",
    "        self.hp = hp\n",
    "        Car.cars = Car.cars + 1\n",
    "        \n",
    "    # it is an instance\n",
    "    def mpg(self, miles, gallons):\n",
    "        return miles / gallons\n",
    "    \n",
    "    # it is an instance\n",
    "    def __str__(self):\n",
    "        return f\"{self.brand}, {self.color}\"\n",
    "    \n",
    "car1 = Car(\"red\",\"Toyota\", 250)\n",
    "print(car1)\n",
    "print(Car.cars)\n",
    "\n",
    "car2 = Car(\"blue\", \"BMW\", 300)\n",
    "print(car2)\n",
    "print(Car.cars)"
   ]
  },
  {
   "cell_type": "code",
   "execution_count": 21,
   "id": "1d7164d1",
   "metadata": {},
   "outputs": [
    {
     "name": "stdout",
     "output_type": "stream",
     "text": [
      "250\n",
      "Toyota\n",
      "140155674427248\n"
     ]
    }
   ],
   "source": [
    "print(car1.hp)\n",
    "print(car1.brand)\n",
    "print(id(car1))"
   ]
  },
  {
   "cell_type": "code",
   "execution_count": 17,
   "id": "0f10de96",
   "metadata": {},
   "outputs": [
    {
     "name": "stdout",
     "output_type": "stream",
     "text": [
      "2.0\n"
     ]
    }
   ],
   "source": [
    "print(car1.mpg(10,5))"
   ]
  },
  {
   "cell_type": "code",
   "execution_count": 34,
   "id": "2b110967",
   "metadata": {},
   "outputs": [
    {
     "name": "stdout",
     "output_type": "stream",
     "text": [
      "Help on class Car in module __main__:\n",
      "\n",
      "class Car(builtins.object)\n",
      " |  Car(color, brand, hp)\n",
      " |  \n",
      " |  Instance of car class from the docstring\n",
      " |  \n",
      " |  Methods defined here:\n",
      " |  \n",
      " |  __init__(self, color, brand, hp)\n",
      " |      Initialize self.  See help(type(self)) for accurate signature.\n",
      " |  \n",
      " |  __str__(self)\n",
      " |      Return str(self).\n",
      " |  \n",
      " |  mpg(self, miles, gallons)\n",
      " |      # it is an instance\n",
      " |  \n",
      " |  ----------------------------------------------------------------------\n",
      " |  Data descriptors defined here:\n",
      " |  \n",
      " |  __dict__\n",
      " |      dictionary for instance variables (if defined)\n",
      " |  \n",
      " |  __weakref__\n",
      " |      list of weak references to the object (if defined)\n",
      " |  \n",
      " |  ----------------------------------------------------------------------\n",
      " |  Data and other attributes defined here:\n",
      " |  \n",
      " |  cars = 2\n",
      "\n"
     ]
    }
   ],
   "source": [
    "help(Car)"
   ]
  },
  {
   "cell_type": "markdown",
   "id": "b781bec5",
   "metadata": {},
   "source": [
    "# Dictionaries "
   ]
  },
  {
   "cell_type": "code",
   "execution_count": 11,
   "id": "06c88380",
   "metadata": {},
   "outputs": [
    {
     "name": "stdout",
     "output_type": "stream",
     "text": [
      "{' ': 0, '!': 0, '\"': 0, '#': 0, '$': 0, '%': 0, '&': 0, \"'\": 0, '(': 0, ')': 0, '*': 0, '+': 0, ',': 0, '-': 0, '.': 0, '/': 0, '0': 0, '1': 0, '2': 0, '3': 0, '4': 0, '5': 0, '6': 0, '7': 0, '8': 0, '9': 0, ':': 0, ';': 0, '<': 0, '=': 0, '>': 0, '?': 0, '@': 0, 'A': 0, 'B': 0, 'C': 0, 'D': 0, 'E': 0, 'F': 0, 'G': 0, 'H': 0, 'I': 0, 'J': 0, 'K': 0, 'L': 0, 'M': 0, 'N': 0, 'O': 0, 'P': 0, 'Q': 0, 'R': 0, 'S': 0, 'T': 0, 'U': 0, 'V': 0, 'W': 0, 'X': 0, 'Y': 0, 'Z': 0, '[': 0, '\\\\': 0, ']': 0, '^': 0, '_': 0, '`': 0, 'a': 0, 'b': 0, 'c': 0, 'd': 0, 'e': 0, 'f': 0, 'g': 0, 'h': 0, 'i': 0, 'j': 0, 'k': 0, 'l': 0, 'm': 0, 'n': 0, 'o': 0, 'p': 0, 'q': 0, 'r': 0, 's': 0, 't': 0, 'u': 0, 'v': 0, 'w': 0, 'x': 0, 'y': 0, 'z': 0, '{': 0, '|': 0, '}': 0, '~': 0}\n"
     ]
    }
   ],
   "source": [
    "alpha_num_spec = {}\n",
    "for i in range(32,127):\n",
    "    alpha_num_spec[chr(i)]=0       #k:v\n",
    "\n",
    "print(alpha_num_spec)"
   ]
  },
  {
   "cell_type": "markdown",
   "id": "793492d4",
   "metadata": {},
   "source": [
    "https://www.rapidtables.com/code/text/ascii-table.html"
   ]
  },
  {
   "cell_type": "code",
   "execution_count": 3,
   "id": "fe7ba87f",
   "metadata": {},
   "outputs": [
    {
     "name": "stdout",
     "output_type": "stream",
     "text": [
      "Eu comprei  oranges por $ 4.3 dolares\n",
      "Eu comprei  pears por $ 3.12 dolares\n",
      "Eu comprei  apple por $ 2.0 dolares\n",
      "Eu comprei  bananas por $ 2.17 dolares\n",
      "dict_values([4.3, 3.12, 2.0, 2.17])\n",
      "dict_keys(['oranges', 'pears', 'apple', 'bananas'])\n",
      "dict_items([('oranges', 4.3), ('pears', 3.12), ('apple', 2.0), ('bananas', 2.17)])\n",
      "\n",
      "teste de lista:  ['oranges', 'pears', 'apple', 'bananas']\n",
      "\n",
      "lista organizada ['apple', 'bananas', 'oranges', 'pears']\n"
     ]
    }
   ],
   "source": [
    "price = {'oranges': 4.30, 'pears': 3.12, 'apple': 2.0, 'bananas': 2.17}\n",
    "\n",
    "for (k,v) in price.items():\n",
    "    print(\"Eu comprei \", k, \"por $\", v, \"dolares\")\n",
    "    \n",
    "print(price.values())\n",
    "print(price.keys())\n",
    "print(price.items())\n",
    "\n",
    "lista = list(price.keys())\n",
    "print(\"\\nteste de lista: \", lista)\n",
    "\n",
    "lista.sort()\n",
    "print(\"\\nlista organizada\", lista)"
   ]
  },
  {
   "cell_type": "code",
   "execution_count": 4,
   "id": "eb5f71b9",
   "metadata": {},
   "outputs": [
    {
     "name": "stdout",
     "output_type": "stream",
     "text": [
      "43\n"
     ]
    }
   ],
   "source": [
    "total = 0\n",
    "mydict = {\"cat\":12, \"dog\":6, \"elephant\":23, \"bear\":20}\n",
    "for akey in mydict:\n",
    "   if len(akey) > 3:\n",
    "      total = total + mydict[akey]\n",
    "print(total)"
   ]
  },
  {
   "cell_type": "code",
   "execution_count": 16,
   "id": "a55d8608",
   "metadata": {},
   "outputs": [
    {
     "name": "stdout",
     "output_type": "stream",
     "text": [
      "Digite uma fraseKaren esta digitando\n"
     ]
    },
    {
     "ename": "AttributeError",
     "evalue": "'str' object has no attribute 'values'",
     "output_type": "error",
     "traceback": [
      "\u001b[0;31m---------------------------------------------------------------------------\u001b[0m",
      "\u001b[0;31mAttributeError\u001b[0m                            Traceback (most recent call last)",
      "Input \u001b[0;32mIn [16]\u001b[0m, in \u001b[0;36m<cell line: 20>\u001b[0;34m()\u001b[0m\n\u001b[1;32m     16\u001b[0m     \u001b[38;5;28;01mreturn\u001b[39;00m values\n\u001b[1;32m     18\u001b[0m user_string \u001b[38;5;241m=\u001b[39m \u001b[38;5;28minput\u001b[39m(\u001b[38;5;124m\"\u001b[39m\u001b[38;5;124mDigite uma frase\u001b[39m\u001b[38;5;124m\"\u001b[39m)\n\u001b[0;32m---> 20\u001b[0m \u001b[38;5;28mprint\u001b[39m(\u001b[43mcountAll\u001b[49m\u001b[43m(\u001b[49m\u001b[43muser_string\u001b[49m\u001b[43m)\u001b[49m)\n",
      "Input \u001b[0;32mIn [16]\u001b[0m, in \u001b[0;36mcountAll\u001b[0;34m(user_string)\u001b[0m\n\u001b[1;32m      9\u001b[0m \u001b[38;5;28;01mdef\u001b[39;00m \u001b[38;5;21mcountAll\u001b[39m(user_string):\n\u001b[1;32m     10\u001b[0m     text_in_lower \u001b[38;5;241m=\u001b[39m user_string\u001b[38;5;241m.\u001b[39mlower()\n\u001b[0;32m---> 11\u001b[0m     values \u001b[38;5;241m=\u001b[39m \u001b[43muser_string\u001b[49m\u001b[38;5;241;43m.\u001b[39;49m\u001b[43mvalues\u001b[49m()\n\u001b[1;32m     13\u001b[0m     \u001b[38;5;28;01mfor\u001b[39;00m c \u001b[38;5;129;01min\u001b[39;00m text_in_lowercase:\n\u001b[1;32m     14\u001b[0m         \u001b[38;5;28;01mif\u001b[39;00m c \u001b[38;5;241m==\u001b[39m text_in_lowercase\u001b[38;5;241m.\u001b[39mkeys():\n",
      "\u001b[0;31mAttributeError\u001b[0m: 'str' object has no attribute 'values'"
     ]
    }
   ],
   "source": [
    "letters = {\"a\": 0,\"b\": 0,\"c\": 0,\"d\": 0,\n",
    "           \"e\": 0,\"f\": 0,\"g\": 0,\"h\": 0,\n",
    "           \"i\": 0,\"j\": 0,\"k\": 0,\"l\": 0,\n",
    "           \"m\": 0,\"n\": 0,\"o\": 0,\"p\": 0,\n",
    "           \"q\": 0,\"r\": 0,\"s\": 0,\"t\": 0,\n",
    "           \"u\": 0,\"v\": 0,\"w\": 0,\"x\": 0,\n",
    "           \"y\": 0,\"z\": 0,}\n",
    "\n",
    "def countAll(user_string):\n",
    "    text_in_lower = user_string.lower()\n",
    "    values = user_string.values()\n",
    "    \n",
    "    for c in text_in_lowercase:\n",
    "        if c == text_in_lowercase.keys():\n",
    "            values += values\n",
    "    return values\n",
    "\n",
    "user_string = input(\"Digite uma frase\")\n",
    "            \n",
    "print(countAll(user_string))"
   ]
  },
  {
   "cell_type": "code",
   "execution_count": 47,
   "id": "2730d341",
   "metadata": {},
   "outputs": [
    {
     "name": "stdout",
     "output_type": "stream",
     "text": [
      "Digite uma frase: a b\n",
      "2\n",
      "a 1\n",
      "a 50.0 %\n",
      "b 1\n",
      "b 50.0 %\n"
     ]
    }
   ],
   "source": [
    "user_string = input(\"Digite uma frase: \")\n",
    "text_in_lower = user_string.lower()\n",
    "\n",
    "letter_count = {}\n",
    "\n",
    "def countAll():\n",
    "    alphabet = 'abcdefghijklmnopqrstuvwxyz'\n",
    "    total = 0\n",
    "    \n",
    "    for c in text_in_lower:\n",
    "        if c in alphabet:\n",
    "            total += 1\n",
    "            if c in letter_count:\n",
    "                letter_count[c] += 1\n",
    "            else:\n",
    "                letter_count[c] = 1\n",
    "    print(total)\n",
    "    \n",
    "    keys = letter_count.keys()\n",
    "    for c in sorted(keys):\n",
    "        val = letter_count[c]\n",
    "        print(c, val)\n",
    "        freq = (val / total)*100\n",
    "        print(c, \"%.1f\"%freq, \"%\")\n",
    "        \n",
    "\n",
    "countAll()\n"
   ]
  },
  {
   "cell_type": "code",
   "execution_count": null,
   "id": "7ce841ed",
   "metadata": {},
   "outputs": [],
   "source": []
  },
  {
   "cell_type": "code",
   "execution_count": null,
   "id": "8ca0cde9",
   "metadata": {},
   "outputs": [],
   "source": []
  },
  {
   "cell_type": "code",
   "execution_count": null,
   "id": "411e71c6",
   "metadata": {},
   "outputs": [],
   "source": []
  }
 ],
 "metadata": {
  "kernelspec": {
   "display_name": "Python 3 (ipykernel)",
   "language": "python",
   "name": "python3"
  },
  "language_info": {
   "codemirror_mode": {
    "name": "ipython",
    "version": 3
   },
   "file_extension": ".py",
   "mimetype": "text/x-python",
   "name": "python",
   "nbconvert_exporter": "python",
   "pygments_lexer": "ipython3",
   "version": "3.9.12"
  }
 },
 "nbformat": 4,
 "nbformat_minor": 5
}
