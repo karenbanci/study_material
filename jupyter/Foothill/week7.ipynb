{
 "cells": [
  {
   "cell_type": "markdown",
   "id": "86b94623",
   "metadata": {},
   "source": [
    "# f.readline()\n"
   ]
  },
  {
   "cell_type": "code",
   "execution_count": 15,
   "id": "d3d0f471",
   "metadata": {},
   "outputs": [
    {
     "data": {
      "text/plain": [
       "'testando.txt 1\\ntestando.txt 2\\ntestando.txt 3\\ntestando.txt 4\\ntestando.txt 5'"
      ]
     },
     "execution_count": 15,
     "metadata": {},
     "output_type": "execute_result"
    }
   ],
   "source": [
    "f = open(\"testando.txt\", \"r\")\n",
    "f.read()"
   ]
  },
  {
   "cell_type": "markdown",
   "id": "b2f57dc1",
   "metadata": {},
   "source": [
    "Method Name\tUse\tExplanation\n",
    "- write\tfilevar.write(astring)\tAdd astring to the end of the file. filevar must refer to a file that has been opened for writing.\n",
    "- read(n)\tfilevar.read()\tReads and returns a string of n characters, or the entire file as a single string if n is not provided.\n",
    "- readline(n)\tfilevar.readline()\tReturns the next line of the file with all text up to and including the newline character. If n is provided as a parameter than only n characters will be returned if the line is longer than n.\n",
    "- readlines(n)\tfilevar.readlines()\tReturns a list of strings, each representing a single line of the file. If n is not provided then all lines of the file are returned. If n is provided then n characters are read but n is rounded up so that an entire line is returned.\n"
   ]
  },
  {
   "cell_type": "code",
   "execution_count": 16,
   "id": "f69d6a80",
   "metadata": {},
   "outputs": [
    {
     "name": "stdout",
     "output_type": "stream",
     "text": [
      "Invalid\n"
     ]
    }
   ],
   "source": [
    "try:\n",
    "    number = int(\"Teste\")\n",
    "except ValueError:\n",
    "    print(\"Invalid\")"
   ]
  },
  {
   "cell_type": "code",
   "execution_count": 19,
   "id": "54239a72",
   "metadata": {},
   "outputs": [
    {
     "name": "stdout",
     "output_type": "stream",
     "text": [
      "Cannot divide by 0\n"
     ]
    }
   ],
   "source": [
    "try:\n",
    "    a = 9/0\n",
    "    number = int(\"Teste\")\n",
    "except ValueError:\n",
    "    print(\"Invalid\")\n",
    "except ZeroDivisionError:\n",
    "    print(\"Cannot divide by 0\")\n",
    "\n"
   ]
  },
  {
   "cell_type": "markdown",
   "id": "77fcbc40",
   "metadata": {},
   "source": [
    "Python does not hear multiple exceptions it only handles them one at a time, \n",
    "and the assumption is you're gonna see this while you're while you're testing \n",
    "your program and you're gonna fix the error.\n"
   ]
  },
  {
   "cell_type": "code",
   "execution_count": 5,
   "id": "03e8ea26",
   "metadata": {},
   "outputs": [
    {
     "name": "stdout",
     "output_type": "stream",
     "text": [
      "Pick a number: 2\n",
      "OPS!!!!\n",
      "Pick a number: 3\n",
      "OPS!!!!\n",
      "Pick a number: we\n",
      "Deu ERROOOOO\n",
      "Pick a number: 4\n",
      "OPS!!!!\n",
      "Pick a number: 1\n",
      "OPS!!!!\n",
      "Pick a number: 5\n",
      "Thankssss\n"
     ]
    }
   ],
   "source": [
    "import random\n",
    "\n",
    "secret_number = random.randint(1,5)\n",
    "\n",
    "while True:\n",
    "    user_guess = input(\"Pick a number: \")\n",
    "    try:\n",
    "        if int(user_guess) == secret_number:\n",
    "            print(\"Thankssss\")\n",
    "            break\n",
    "        else:\n",
    "            print(\"OPS!!!!\")\n",
    "            continue\n",
    "    except ValueError:\n",
    "        print(\"Deu ERROOOOO\")"
   ]
  },
  {
   "cell_type": "code",
   "execution_count": 4,
   "id": "15819c87",
   "metadata": {},
   "outputs": [
    {
     "name": "stdout",
     "output_type": "stream",
     "text": [
      "Pick a number: 3\n",
      "Thankssss\n"
     ]
    }
   ],
   "source": [
    "import random\n",
    "secret_number = random.randint(1,5)\n",
    "while True:\n",
    "    user_guess = input(\"Pick a number: \")\n",
    "\n",
    "    if int(user_guess) == secret_number:\n",
    "        print(\"Thankssss\")\n",
    "        break\n",
    "    else:\n",
    "        print(\"OPS!!!!\")\n",
    "        continue\n"
   ]
  },
  {
   "cell_type": "code",
   "execution_count": 6,
   "id": "cc4ef8c1",
   "metadata": {},
   "outputs": [
    {
     "name": "stdout",
     "output_type": "stream",
     "text": [
      "Pick a number:2\n",
      "else\n",
      "finally\n"
     ]
    }
   ],
   "source": [
    "user_type = input(\"Pick a number:\")\n",
    "\n",
    "try:\n",
    "    numer = int(user_type)\n",
    "except:\n",
    "    print(\"except\")\n",
    "else:\n",
    "    print(\"else\")\n",
    "finally:\n",
    "    print(\"finally\")"
   ]
  },
  {
   "cell_type": "markdown",
   "id": "eb3f2817",
   "metadata": {},
   "source": [
    "# Dictionaries"
   ]
  },
  {
   "cell_type": "code",
   "execution_count": 13,
   "id": "12d1f0b2",
   "metadata": {},
   "outputs": [
    {
     "data": {
      "text/plain": [
       "'456'"
      ]
     },
     "execution_count": 13,
     "metadata": {},
     "output_type": "execute_result"
    }
   ],
   "source": [
    "phone_book = {\"Mickey\": \"123\", \"Minnie\": \"456\", \"Goofy\": \"789\"}\n",
    "phone_book[\"Minnie\"]"
   ]
  },
  {
   "cell_type": "code",
   "execution_count": 10,
   "id": "f51a39cb",
   "metadata": {},
   "outputs": [
    {
     "name": "stdout",
     "output_type": "stream",
     "text": [
      "Type name: Mickey\n",
      "123\n"
     ]
    }
   ],
   "source": [
    "user = input(\"Type name: \")\n",
    "\n",
    "if user in phone_book:\n",
    "    print(phone_book[user])\n",
    "else:\n",
    "    print(\"Does not exist\")"
   ]
  },
  {
   "cell_type": "code",
   "execution_count": 17,
   "id": "02ac9ee2",
   "metadata": {},
   "outputs": [
    {
     "name": "stdout",
     "output_type": "stream",
     "text": [
      "Mickey's phone number is 123\n",
      "Minnie's phone number is 456\n",
      "Goofy's phone number is 789\n",
      "Donald's phone number is 987\n"
     ]
    }
   ],
   "source": [
    "for name in phone_book:\n",
    "    print(f\"{name}'s phone number is {phone_book[name]}\")"
   ]
  },
  {
   "cell_type": "code",
   "execution_count": 16,
   "id": "4e5b564e",
   "metadata": {},
   "outputs": [
    {
     "name": "stdout",
     "output_type": "stream",
     "text": [
      "{'Mickey': '123', 'Minnie': '456', 'Goofy': '789', 'Donald': '987'}\n"
     ]
    }
   ],
   "source": [
    "phone_book[\"Donald\"] = \"987\"\n",
    "print(phone_book)"
   ]
  },
  {
   "cell_type": "code",
   "execution_count": 6,
   "id": "a5211f82",
   "metadata": {},
   "outputs": [
    {
     "data": {
      "text/plain": [
       "'       Karen        '"
      ]
     },
     "execution_count": 6,
     "metadata": {},
     "output_type": "execute_result"
    }
   ],
   "source": [
    "teste = \"Karen\"\n",
    "teste.center(20)\n"
   ]
  },
  {
   "cell_type": "code",
   "execution_count": 8,
   "id": "ca25f83e",
   "metadata": {},
   "outputs": [
    {
     "data": {
      "text/plain": [
       "'Teste'"
      ]
     },
     "execution_count": 8,
     "metadata": {},
     "output_type": "execute_result"
    }
   ],
   "source": [
    "teste = \"teste\"\n",
    "teste.capitalize()"
   ]
  },
  {
   "cell_type": "code",
   "execution_count": 13,
   "id": "ef73b6ec",
   "metadata": {},
   "outputs": [
    {
     "name": "stdout",
     "output_type": "stream",
     "text": [
      "Nothing seems to have happened with the points\n",
      "0\n",
      "0\n",
      "140173937614416 140173935175808\n",
      "50\n",
      "<class '__main__.Point'>\n",
      "<class 'int'>\n"
     ]
    }
   ],
   "source": [
    "class Point:\n",
    "    \"\"\" Point class for representing and manipulating x,y coordinates. \"\"\"\n",
    "\n",
    "    def __init__(self):\n",
    "        \"\"\" Create a new point at the origin \"\"\"\n",
    "        self.x = 0\n",
    "        self.y = 0\n",
    "\n",
    "p = Point()         # Instantiate an object of type Point\n",
    "q = Point()         # and make a second point\n",
    "\n",
    "print(\"Nothing seems to have happened with the points\")\n",
    "print(p.x)\n",
    "print(q.x)\n",
    "print(id(p), id(q))\n",
    "\n",
    "p.x = 50\n",
    "print(p.x)\n",
    "print(type(p))\n",
    "print(type(p.x))"
   ]
  },
  {
   "cell_type": "markdown",
   "id": "b1589784",
   "metadata": {},
   "source": [
    "# Classes\n"
   ]
  },
  {
   "cell_type": "code",
   "execution_count": 6,
   "id": "9517f6b1",
   "metadata": {},
   "outputs": [
    {
     "name": "stdout",
     "output_type": "stream",
     "text": [
      "<bound method Point.sum of <__main__.Point object at 0x7fd7e0ca1250>>\n"
     ]
    }
   ],
   "source": [
    "class Point:\n",
    "    def __init__(self, initX, initY):\n",
    "        self.x = initX\n",
    "        self.y = initY\n",
    "    \n",
    "    def getX(self):\n",
    "        return self.x\n",
    "    \n",
    "    def getY(self):\n",
    "        return self.y\n",
    "    \n",
    "    def sum(self):\n",
    "        return \"x=\"+ str(self.x) + \"y=\"+ str(self.y)\n",
    "    \n",
    "teste = Point(3,4)\n",
    "\n",
    "print(teste.sum)"
   ]
  },
  {
   "cell_type": "code",
   "execution_count": null,
   "id": "91220eee",
   "metadata": {},
   "outputs": [],
   "source": []
  },
  {
   "cell_type": "code",
   "execution_count": null,
   "id": "ddc31e59",
   "metadata": {},
   "outputs": [],
   "source": []
  },
  {
   "cell_type": "code",
   "execution_count": null,
   "id": "d691e5b8",
   "metadata": {},
   "outputs": [],
   "source": []
  },
  {
   "cell_type": "code",
   "execution_count": null,
   "id": "ed8247ba",
   "metadata": {},
   "outputs": [],
   "source": []
  }
 ],
 "metadata": {
  "kernelspec": {
   "display_name": "Python 3 (ipykernel)",
   "language": "python",
   "name": "python3"
  },
  "language_info": {
   "codemirror_mode": {
    "name": "ipython",
    "version": 3
   },
   "file_extension": ".py",
   "mimetype": "text/x-python",
   "name": "python",
   "nbconvert_exporter": "python",
   "pygments_lexer": "ipython3",
   "version": "3.9.12"
  }
 },
 "nbformat": 4,
 "nbformat_minor": 5
}
