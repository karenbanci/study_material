{
 "cells": [
  {
   "cell_type": "code",
   "execution_count": 26,
   "id": "1d4ee5a9",
   "metadata": {},
   "outputs": [
    {
     "name": "stdout",
     "output_type": "stream",
     "text": [
      "6784.0\n"
     ]
    }
   ],
   "source": [
    "num1 = 678436\n",
    "\n",
    "\n",
    "answer = float( (num1 + 1) // 100 )\n",
    "print(answer)"
   ]
  },
  {
   "cell_type": "code",
   "execution_count": 22,
   "id": "80ddb27c",
   "metadata": {},
   "outputs": [
    {
     "name": "stdout",
     "output_type": "stream",
     "text": [
      "2.0\n"
     ]
    }
   ],
   "source": [
    "num1 = 247\n",
    "answer = float( (num1 + 1) // 100 )\n",
    "print(answer)"
   ]
  },
  {
   "cell_type": "code",
   "execution_count": 8,
   "id": "6a38b85e",
   "metadata": {},
   "outputs": [
    {
     "name": "stdout",
     "output_type": "stream",
     "text": [
      "-1\n",
      "0\n",
      "1\n",
      "2\n",
      "3\n",
      "4\n",
      "5\n"
     ]
    }
   ],
   "source": [
    "count = -2\n",
    "for k in range(3, 10):\n",
    "   count += 1\n",
    "   print(count)"
   ]
  },
  {
   "cell_type": "code",
   "execution_count": 9,
   "id": "4e9806c3",
   "metadata": {},
   "outputs": [
    {
     "ename": "IndentationError",
     "evalue": "expected an indented block (4240424440.py, line 24)",
     "output_type": "error",
     "traceback": [
      "\u001b[0;36m  Input \u001b[0;32mIn [9]\u001b[0;36m\u001b[0m\n\u001b[0;31m    def set_camera(self, bool):\u001b[0m\n\u001b[0m    ^\u001b[0m\n\u001b[0;31mIndentationError\u001b[0m\u001b[0;31m:\u001b[0m expected an indented block\n"
     ]
    }
   ],
   "source": [
    "class OldCellPhone:\n",
    "   MIN_MEM_CAP, MAX_MEM_CAP = 10, 100000\n",
    "   MIN_DSCR_LEN, MAX_DSCR_LEN = 10,  100\n",
    "   DEFAULT_DSCR = \"(generic phone)\"\n",
    "   DEFAULT_BOOL = False\n",
    "   DEFAULT_CAP = 1000   \n",
    "\n",
    "   # constructor\n",
    "   def __init__(self, dscr = DEFAULT_DSCR, mem = DEFAULT_CAP,\n",
    "                cam = DEFAULT_BOOL,  gp = DEFAULT_BOOL):\n",
    "      \"\"\" expcted string, int, 'boolean', 'boolean' \"\"\"\n",
    "      if (not self.set_mem_cap(mem)):\n",
    "         self.mem_capacity = OldCellPhone.DEFAULT_CAP\n",
    "      if (not self.set_description(dscr)):\n",
    "         self.description = OldCellPhone.DEFAULT_DSCR\n",
    "      if (not self.set_camera(cam)):\n",
    "         self.camera = OldCellPhone.DEFAULT_BOOL\n",
    "      if (not self.set_gps(gp)):\n",
    "         self.gps = OldCellPhone.DEFAULT_BOOL\n",
    "         \n",
    "   def set_mem_cap(self, mem):\n",
    "      # def not shown\n",
    "\n",
    "   def set_camera(self, bool):\n",
    "      \"\"\" member only wants a \"boolean\" literal, True or False\n",
    "      (True means 'has cam', False means 'does not have cam' \"\"\"\n",
    "      # def not shown\n",
    "\n",
    "   def set_gps(self, bool):\n",
    "      \"\"\" member only wants a \"boolean\" literal, True or False\n",
    "      (True means 'has gps', False means 'does not have gps' \"\"\"\n",
    "      # def not shown\n",
    "   \n",
    "   def to_string(self):\n",
    "      # def not shown\n",
    "      \n",
    "   # other accessors and mutators not shown"
   ]
  },
  {
   "cell_type": "code",
   "execution_count": 10,
   "id": "acb6e8a0",
   "metadata": {},
   "outputs": [
    {
     "ename": "NameError",
     "evalue": "name 'Card' is not defined",
     "output_type": "error",
     "traceback": [
      "\u001b[0;31m---------------------------------------------------------------------------\u001b[0m",
      "\u001b[0;31mNameError\u001b[0m                                 Traceback (most recent call last)",
      "Input \u001b[0;32mIn [10]\u001b[0m, in \u001b[0;36m<cell line: 3>\u001b[0;34m()\u001b[0m\n\u001b[1;32m      1\u001b[0m card1 \u001b[38;5;241m=\u001b[39m \u001b[38;5;124m\"\u001b[39m\u001b[38;5;124mhi mom\u001b[39m\u001b[38;5;124m\"\u001b[39m\n\u001b[1;32m      2\u001b[0m card2 \u001b[38;5;241m=\u001b[39m \u001b[38;5;241m3\u001b[39m\n\u001b[0;32m----> 3\u001b[0m card3 \u001b[38;5;241m=\u001b[39m \u001b[43mCard\u001b[49m()\n\u001b[1;32m      4\u001b[0m my_card \u001b[38;5;241m=\u001b[39m card3\n\u001b[1;32m      5\u001b[0m card2 \u001b[38;5;241m=\u001b[39m card1\n",
      "\u001b[0;31mNameError\u001b[0m: name 'Card' is not defined"
     ]
    }
   ],
   "source": [
    "card1 = \"hi mom\"\n",
    "card2 = 3\n",
    "card3 = Card()\n",
    "my_card = card3\n",
    "card2 = card1\n",
    "card1 = Card()"
   ]
  },
  {
   "cell_type": "code",
   "execution_count": 27,
   "id": "c233b2b0",
   "metadata": {},
   "outputs": [
    {
     "name": "stdout",
     "output_type": "stream",
     "text": [
      "-1\n"
     ]
    }
   ],
   "source": [
    "def some_rec_func(n): \n",
    "   if (n < 0): \n",
    "      return -1 \n",
    "   return some_rec_func(n + 1)\n",
    "\n",
    "print(some_rec_func(-91))"
   ]
  },
  {
   "cell_type": "code",
   "execution_count": null,
   "id": "0a9a718a",
   "metadata": {},
   "outputs": [],
   "source": []
  }
 ],
 "metadata": {
  "kernelspec": {
   "display_name": "Python 3 (ipykernel)",
   "language": "python",
   "name": "python3"
  },
  "language_info": {
   "codemirror_mode": {
    "name": "ipython",
    "version": 3
   },
   "file_extension": ".py",
   "mimetype": "text/x-python",
   "name": "python",
   "nbconvert_exporter": "python",
   "pygments_lexer": "ipython3",
   "version": "3.9.12"
  }
 },
 "nbformat": 4,
 "nbformat_minor": 5
}
