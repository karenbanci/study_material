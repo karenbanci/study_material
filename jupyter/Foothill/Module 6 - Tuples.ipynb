{
 "cells": [
  {
   "cell_type": "markdown",
   "id": "57fc3ec9-6303-410c-9423-ff098b0f8fd6",
   "metadata": {},
   "source": [
    "## The following are a few important reasons for tuples being immutable.\n",
    "\n",
    "- Maintaining Order − Tuples are mainly defined in python as a way to show order. \n",
    " - For example, when you retrieve data from a database in form of a list of tuples, all the tuples are in the order of the fields you fetched.\n",
    "\n",
    "- Copy efficiency − Rather than copying an immutable object, you can alias it (bind a variable to a reference).\n",
    "\n",
    "- Comparing efficiency − You can compare two variables by comparing position rather than content when using copy-by-reference.\n",
    "\n",
    "- Interning − Any immutable value requires just one copy to be stored.  \n",
    " - In concurrent programs, there's no requirement to synchronize access to immutable objects.\n",
    "\n",
    "- Constant correctness − Some values shouldn't be allowed to change."
   ]
  },
  {
   "cell_type": "code",
   "execution_count": 3,
   "id": "391fd580-d83a-4b29-9fa1-d3b663082678",
   "metadata": {},
   "outputs": [
    {
     "name": "stdout",
     "output_type": "stream",
     "text": [
      "['a', 'b', 'c', 'd', 'f']\n",
      "['a', 'b', 'c', 'd', 'e', 'f']\n",
      "[]\n"
     ]
    }
   ],
   "source": [
    "alist = ['a', 'd', 'f']\n",
    "alist[1:1] = ['b', 'c']\n",
    "print(alist)\n",
    "alist[4:4] = ['e']\n",
    "print(alist)\n",
    "print(alist[1:1])"
   ]
  },
  {
   "cell_type": "code",
   "execution_count": null,
   "id": "a7b152f1-f8d6-413c-9105-d93af0198589",
   "metadata": {},
   "outputs": [],
   "source": []
  }
 ],
 "metadata": {
  "kernelspec": {
   "display_name": "Python 3 (ipykernel)",
   "language": "python",
   "name": "python3"
  },
  "language_info": {
   "codemirror_mode": {
    "name": "ipython",
    "version": 3
   },
   "file_extension": ".py",
   "mimetype": "text/x-python",
   "name": "python",
   "nbconvert_exporter": "python",
   "pygments_lexer": "ipython3",
   "version": "3.9.12"
  }
 },
 "nbformat": 4,
 "nbformat_minor": 5
}
