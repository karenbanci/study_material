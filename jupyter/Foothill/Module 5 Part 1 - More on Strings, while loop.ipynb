{
 "cells": [
  {
   "cell_type": "code",
   "execution_count": 1,
   "id": "6be0fb9c",
   "metadata": {
    "tags": []
   },
   "outputs": [
    {
     "name": "stdout",
     "output_type": "stream",
     "text": [
      "[1, 2.5, 'Hello']\n"
     ]
    }
   ],
   "source": [
    "l = [1, 2.5, 'Hello']\n",
    "print(l)"
   ]
  },
  {
   "cell_type": "code",
   "execution_count": null,
   "id": "ded7f7e0",
   "metadata": {},
   "outputs": [],
   "source": [
    "id(l)"
   ]
  },
  {
   "cell_type": "code",
   "execution_count": null,
   "id": "311df85e",
   "metadata": {},
   "outputs": [],
   "source": [
    "type(l)"
   ]
  },
  {
   "cell_type": "code",
   "execution_count": 3,
   "id": "7cc589a5",
   "metadata": {
    "tags": []
   },
   "outputs": [],
   "source": [
    "l.append('Foothill')"
   ]
  },
  {
   "cell_type": "code",
   "execution_count": 4,
   "id": "f5d6067a",
   "metadata": {},
   "outputs": [
    {
     "data": {
      "text/plain": [
       "1968361769536"
      ]
     },
     "execution_count": 4,
     "metadata": {},
     "output_type": "execute_result"
    }
   ],
   "source": [
    "id(l)"
   ]
  },
  {
   "cell_type": "code",
   "execution_count": 5,
   "id": "23a065c9",
   "metadata": {},
   "outputs": [
    {
     "data": {
      "text/plain": [
       "[1, 2.5, 'Hello', 'Foothill', 'Foothill']"
      ]
     },
     "execution_count": 5,
     "metadata": {},
     "output_type": "execute_result"
    }
   ],
   "source": [
    "l"
   ]
  },
  {
   "cell_type": "code",
   "execution_count": null,
   "id": "6eafddc2",
   "metadata": {},
   "outputs": [],
   "source": [
    "for x in l:\n",
    "    print(x)"
   ]
  },
  {
   "cell_type": "markdown",
   "id": "d712b3e9",
   "metadata": {},
   "source": [
    "A list object in mutable. it can be changed"
   ]
  },
  {
   "cell_type": "code",
   "execution_count": null,
   "id": "9d0a5578",
   "metadata": {},
   "outputs": [],
   "source": [
    "t = (1,4,6,4,99)"
   ]
  },
  {
   "cell_type": "code",
   "execution_count": null,
   "id": "ce67d4de",
   "metadata": {},
   "outputs": [],
   "source": [
    "id(t)"
   ]
  },
  {
   "cell_type": "code",
   "execution_count": null,
   "id": "cc3858f4",
   "metadata": {},
   "outputs": [],
   "source": [
    "t.append(100)"
   ]
  },
  {
   "cell_type": "code",
   "execution_count": null,
   "id": "83b72d2f",
   "metadata": {},
   "outputs": [],
   "source": [
    "for x in t:\n",
    "    print(x)"
   ]
  },
  {
   "cell_type": "code",
   "execution_count": null,
   "id": "614240c3",
   "metadata": {},
   "outputs": [],
   "source": [
    "type(t)"
   ]
  },
  {
   "cell_type": "code",
   "execution_count": null,
   "id": "18c964ef",
   "metadata": {},
   "outputs": [],
   "source": []
  },
  {
   "cell_type": "code",
   "execution_count": null,
   "id": "df913402",
   "metadata": {},
   "outputs": [],
   "source": [
    "s = {1,4,6, 4}"
   ]
  },
  {
   "cell_type": "code",
   "execution_count": null,
   "id": "535fc35d",
   "metadata": {},
   "outputs": [],
   "source": [
    "for x in s:\n",
    "    print(x)"
   ]
  },
  {
   "cell_type": "code",
   "execution_count": null,
   "id": "6544dc31",
   "metadata": {},
   "outputs": [],
   "source": [
    "s"
   ]
  },
  {
   "cell_type": "code",
   "execution_count": null,
   "id": "b6f84399",
   "metadata": {},
   "outputs": [],
   "source": [
    "type(s)"
   ]
  },
  {
   "cell_type": "code",
   "execution_count": null,
   "id": "da553c25",
   "metadata": {},
   "outputs": [],
   "source": [
    "set([1,2,4])"
   ]
  },
  {
   "cell_type": "code",
   "execution_count": null,
   "id": "b52d76d8",
   "metadata": {},
   "outputs": [],
   "source": [
    "l1 = list(s)\n",
    "l1"
   ]
  },
  {
   "cell_type": "code",
   "execution_count": null,
   "id": "a20c1036",
   "metadata": {},
   "outputs": [],
   "source": [
    "type(l1)"
   ]
  },
  {
   "cell_type": "code",
   "execution_count": null,
   "id": "c4773c01",
   "metadata": {},
   "outputs": [],
   "source": [
    "s"
   ]
  },
  {
   "cell_type": "code",
   "execution_count": null,
   "id": "55dee543",
   "metadata": {},
   "outputs": [],
   "source": [
    "t1 = tuple(t)\n",
    "t1"
   ]
  },
  {
   "cell_type": "code",
   "execution_count": null,
   "id": "9a6d2876",
   "metadata": {},
   "outputs": [],
   "source": [
    "type(t1)"
   ]
  },
  {
   "cell_type": "code",
   "execution_count": null,
   "id": "85132eb2",
   "metadata": {},
   "outputs": [],
   "source": [
    "t1.append(500)"
   ]
  },
  {
   "cell_type": "code",
   "execution_count": null,
   "id": "d9335dd4",
   "metadata": {},
   "outputs": [],
   "source": [
    "l.append(500)\n",
    "l"
   ]
  },
  {
   "cell_type": "code",
   "execution_count": 1,
   "id": "74222f0c",
   "metadata": {},
   "outputs": [
    {
     "name": "stdout",
     "output_type": "stream",
     "text": [
      "a\n",
      "p\n",
      "p\n",
      "l\n",
      "e\n"
     ]
    }
   ],
   "source": [
    "fruit = \"apple\"\n",
    "\n",
    "position = 0\n",
    "while position < len(fruit):\n",
    "    print(fruit[position])\n",
    "    position = position + 1"
   ]
  },
  {
   "cell_type": "code",
   "execution_count": 5,
   "id": "aed16ab6",
   "metadata": {},
   "outputs": [
    {
     "data": {
      "text/plain": [
       "'l'"
      ]
     },
     "execution_count": 5,
     "metadata": {},
     "output_type": "execute_result"
    }
   ],
   "source": [
    "fruit[-1]"
   ]
  },
  {
   "cell_type": "code",
   "execution_count": 7,
   "id": "714c5c0e",
   "metadata": {},
   "outputs": [
    {
     "name": "stdout",
     "output_type": "stream",
     "text": [
      "y\n",
      "t\n",
      "h\n",
      "o\n",
      "n\n",
      " \n",
      "r\n",
      "o\n",
      "c\n",
      "k\n",
      "s\n"
     ]
    }
   ],
   "source": [
    "s = \"python rocks\"\n",
    "idx = 1\n",
    "while idx < len(s):\n",
    "    print(s[idx])\n",
    "    idx = idx + 1"
   ]
  },
  {
   "cell_type": "code",
   "execution_count": 8,
   "id": "177afca2",
   "metadata": {},
   "outputs": [
    {
     "data": {
      "text/plain": [
       "True"
      ]
     },
     "execution_count": 8,
     "metadata": {},
     "output_type": "execute_result"
    }
   ],
   "source": [
    "'p' in 'apple'"
   ]
  },
  {
   "cell_type": "code",
   "execution_count": 10,
   "id": "5d30c685",
   "metadata": {},
   "outputs": [
    {
     "name": "stdout",
     "output_type": "stream",
     "text": [
      "<class 'function'>\n",
      "c\n",
      "c\n",
      "m\n",
      "cm\n",
      "p\n",
      "cmp\n",
      "s\n",
      "cmps\n",
      "c\n",
      "cmpsc\n",
      "cmpsc\n",
      "b\n",
      "b\n",
      "f\n",
      "bf\n",
      "j\n",
      "bfj\n",
      "p\n",
      "bfjp\n",
      "s\n",
      "bfjps\n",
      "bfjps\n"
     ]
    }
   ],
   "source": [
    "def remove_vowels(s):\n",
    "    vowels = \"aeiouAEIOU\"\n",
    "    sWithoutVowels = \"\"\n",
    "    for eachChar in s:\n",
    "        if eachChar not in vowels:\n",
    "            sWithoutVowels = sWithoutVowels + eachChar\n",
    "            print(eachChar)\n",
    "            print(sWithoutVowels)\n",
    "    return sWithoutVowels\n",
    "print(type(removeVowels))\n",
    "print(remove_vowels(\"compsci\"))\n",
    "print(remove_vowels(\"aAbEefIijOopUus\"))"
   ]
  },
  {
   "cell_type": "code",
   "execution_count": 15,
   "id": "622a8221",
   "metadata": {},
   "outputs": [
    {
     "name": "stdout",
     "output_type": "stream",
     "text": [
      "140\n"
     ]
    }
   ],
   "source": [
    "def add1(a,b):\n",
    "    return a + b\n",
    "\n",
    "    \n",
    "print(add1(90, 50))"
   ]
  },
  {
   "cell_type": "code",
   "execution_count": 21,
   "id": "ea17af26",
   "metadata": {},
   "outputs": [
    {
     "name": "stdout",
     "output_type": "stream",
     "text": [
      "F\n",
      "O\n",
      "O\n",
      "T\n",
      "H\n",
      "I\n",
      "L\n",
      "L\n"
     ]
    }
   ],
   "source": [
    "#s = [\"Foothill\", \"College\", \"Los Altos Hills\"]\n",
    "s = \"Foothill\"\n",
    "r = \"\"\n",
    "for x in s:\n",
    "    r = x.upper()\n",
    "    print(r)\n"
   ]
  },
  {
   "cell_type": "code",
   "execution_count": 6,
   "id": "fff97997",
   "metadata": {},
   "outputs": [
    {
     "name": "stdout",
     "output_type": "stream",
     "text": [
      "Mississippi\n",
      "a\n",
      "None\n"
     ]
    }
   ],
   "source": [
    "def count(text, aChar):\n",
    "    print(text)\n",
    "    print(aChar)\n",
    "\n",
    "print(count(\"Mississippi\",\"a\"))"
   ]
  },
  {
   "cell_type": "code",
   "execution_count": 33,
   "id": "46437e45",
   "metadata": {},
   "outputs": [
    {
     "name": "stdout",
     "output_type": "stream",
     "text": [
      "M\n",
      "i\n",
      "s\n",
      "s\n",
      "i\n",
      "s\n",
      "s\n",
      "i\n",
      "p\n",
      "p\n",
      "i\n",
      "s\n",
      "s\n",
      "6\n"
     ]
    }
   ],
   "source": [
    "def count(text, aChar):\n",
    "    lettercount = 0\n",
    "    for mike in text:\n",
    "        print(mike)\n",
    "        if mike == aChar:\n",
    "            lettercount = lettercount + 1\n",
    "    return lettercount\n",
    "\n",
    "result = count(\"Mississippiss\",\"s\")\n",
    "print(result)"
   ]
  },
  {
   "cell_type": "code",
   "execution_count": 36,
   "id": "11075b60",
   "metadata": {},
   "outputs": [
    {
     "name": "stdout",
     "output_type": "stream",
     "text": [
      "3\n"
     ]
    }
   ],
   "source": [
    "#text = 'banana'\n",
    "#aChar = 'a'\n",
    "lettercount = 0\n",
    "for c in 'banana':\n",
    "    if c == 'a':\n",
    "        lettercount = lettercount + 1\n",
    "print(lettercount)"
   ]
  },
  {
   "cell_type": "code",
   "execution_count": 37,
   "id": "f04c7a02",
   "metadata": {},
   "outputs": [
    {
     "name": "stdout",
     "output_type": "stream",
     "text": [
      "1\n"
     ]
    }
   ],
   "source": [
    "\n",
    "lettercount = 0\n",
    "for c in ['a', 'b','a']:\n",
    "    if c == 'a':\n",
    "        lettercount = lettercount + 1\n",
    "print(lettercount)"
   ]
  },
  {
   "cell_type": "code",
   "execution_count": null,
   "id": "c2019f24",
   "metadata": {},
   "outputs": [],
   "source": [
    "def count(text, aChar):\n",
    "    lettercount = 0\n",
    "    for c in text:\n",
    "        if c == aChar:\n",
    "            lettercount = lettercount + 1\n",
    "    return lettercount\n",
    "\n",
    "print(count(\"banana\",\"a\"))"
   ]
  },
  {
   "cell_type": "code",
   "execution_count": 38,
   "id": "0899bdbe",
   "metadata": {},
   "outputs": [
    {
     "name": "stdout",
     "output_type": "stream",
     "text": [
      "[[], 3.14, False]\n"
     ]
    }
   ],
   "source": [
    "alist = [3, 67, \"cat\", [56, 57, \"dog\"], [ ], 3.14, False]\n",
    "print(alist[4:])"
   ]
  },
  {
   "cell_type": "code",
   "execution_count": 1,
   "id": "ef436241",
   "metadata": {},
   "outputs": [
    {
     "name": "stdout",
     "output_type": "stream",
     "text": [
      "range(0, 10)\n",
      "4\n",
      "104\n",
      "d\n"
     ]
    }
   ],
   "source": [
    "print(range(10))\n",
    "print(round(3.9))\n",
    "print(ord('h')) # returns the Unicode value of the character 'h')\n",
    "print(chr(100)) # returns the character represented by the Unicode value of 100"
   ]
  },
  {
   "cell_type": "code",
   "execution_count": 1,
   "id": "517575f5-eb1b-41d3-96e3-6a2842c90f06",
   "metadata": {},
   "outputs": [
    {
     "ename": "NotImplementedError",
     "evalue": "",
     "output_type": "error",
     "traceback": [
      "\u001b[1;31m---------------------------------------------------------------------------\u001b[0m",
      "\u001b[1;31mNotImplementedError\u001b[0m                       Traceback (most recent call last)",
      "Input \u001b[1;32mIn [1]\u001b[0m, in \u001b[0;36m<cell line: 16>\u001b[1;34m()\u001b[0m\n\u001b[0;32m     13\u001b[0m     perimeter \u001b[38;5;241m+\u001b[39m\u001b[38;5;241m=\u001b[39m side_length(points[\u001b[38;5;241m1\u001b[39m], points[\u001b[38;5;241m2\u001b[39m])\n\u001b[0;32m     14\u001b[0m     \u001b[38;5;28;01mreturn\u001b[39;00m perimeter\n\u001b[1;32m---> 16\u001b[0m coordinates \u001b[38;5;241m=\u001b[39m \u001b[43mget_points\u001b[49m\u001b[43m(\u001b[49m\u001b[38;5;241;43m3\u001b[39;49m\u001b[43m)\u001b[49m\n\u001b[0;32m     17\u001b[0m \u001b[38;5;28mprint\u001b[39m(\u001b[38;5;124m'\u001b[39m\u001b[38;5;124mPerimeter of triangle:\u001b[39m\u001b[38;5;124m'\u001b[39m, get_perimeter_length(coordinates))\n",
      "Input \u001b[1;32mIn [1]\u001b[0m, in \u001b[0;36mget_points\u001b[1;34m(num_points)\u001b[0m\n\u001b[0;32m      3\u001b[0m \u001b[38;5;28;01mdef\u001b[39;00m \u001b[38;5;21mget_points\u001b[39m(num_points):\n\u001b[0;32m      4\u001b[0m     \u001b[38;5;124;03m\"\"\"Get num_points from the user. Return a list of (x,y) tuples.\"\"\"\u001b[39;00m\n\u001b[1;32m----> 5\u001b[0m     \u001b[38;5;28;01mraise\u001b[39;00m \u001b[38;5;167;01mNotImplementedError\u001b[39;00m\n",
      "\u001b[1;31mNotImplementedError\u001b[0m: "
     ]
    }
   ],
   "source": [
    "import math\n",
    "\n",
    "def get_points(num_points):\n",
    "    \"\"\"Get num_points from the user. Return a list of (x,y) tuples.\"\"\"\n",
    "    raise NotImplementedError\n",
    "        \n",
    "def side_length(p1, p2):\n",
    "    return math.sqrt((p2[0] - p1[0])**2 + (p2[1] - p1[1])**2)\n",
    "\n",
    "def get_perimeter_length(points):\n",
    "    perimeter = side_length(points[0], points[1])\n",
    "    perimeter += side_length(points[0], points[2])\n",
    "    perimeter += side_length(points[1], points[2])\n",
    "    return perimeter\n",
    "\n",
    "coordinates = get_points(3)\n",
    "print('Perimeter of triangle:', get_perimeter_length(coordinates))"
   ]
  },
  {
   "cell_type": "code",
   "execution_count": null,
   "id": "336ef3ea-d5c4-438e-ad5e-862d8b734289",
   "metadata": {},
   "outputs": [],
   "source": []
  }
 ],
 "metadata": {
  "kernelspec": {
   "display_name": "Python 3 (ipykernel)",
   "language": "python",
   "name": "python3"
  },
  "language_info": {
   "codemirror_mode": {
    "name": "ipython",
    "version": 3
   },
   "file_extension": ".py",
   "mimetype": "text/x-python",
   "name": "python",
   "nbconvert_exporter": "python",
   "pygments_lexer": "ipython3",
   "version": "3.9.12"
  }
 },
 "nbformat": 4,
 "nbformat_minor": 5
}
