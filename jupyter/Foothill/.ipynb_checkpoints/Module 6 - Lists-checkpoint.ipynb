{
 "cells": [
  {
   "cell_type": "markdown",
   "id": "5e0bf0fc-b892-4d17-9d2c-4e09ff6cec80",
   "metadata": {
    "tags": []
   },
   "source": [
    "# Append vs. concatinate"
   ]
  },
  {
   "cell_type": "markdown",
   "id": "9fade304-a6c6-47f1-8233-eb25fc0b00a0",
   "metadata": {},
   "source": [
    "## Append"
   ]
  },
  {
   "cell_type": "code",
   "execution_count": null,
   "id": "04c04423-1c5b-43c9-a5d7-8b532699adf5",
   "metadata": {
    "tags": []
   },
   "outputs": [],
   "source": [
    "lst = [1, 2]\n",
    "print(\"lst = \", lst)\n",
    "print(\"id of lst is \",id(lst))\n",
    "print(\"lst = \", lst)\n",
    "print(\"id of lst is \",id(lst))"
   ]
  },
  {
   "cell_type": "markdown",
   "id": "68ba565c-3003-4619-b805-c7f45ef6c899",
   "metadata": {},
   "source": [
    "## Concatinate"
   ]
  },
  {
   "cell_type": "code",
   "execution_count": null,
   "id": "a5c5f892-149e-4e81-b583-1076f8a5106a",
   "metadata": {},
   "outputs": [],
   "source": [
    "lst = [1, 2]\n",
    "print(\"lst = \", lst)\n",
    "print(\"id of lst is \",id(lst))\n",
    "lst = lst + [5]\n",
    "print(\"lst = \", lst)\n",
    "print(\"id of lst is \",id(lst))"
   ]
  },
  {
   "cell_type": "markdown",
   "id": "dd5a9201-2ca1-428c-8980-303c0e6f057f",
   "metadata": {},
   "source": []
  },
  {
   "cell_type": "code",
   "execution_count": null,
   "id": "f8dd4969-2fed-4a84-bf3c-1cce7178cc3d",
   "metadata": {},
   "outputs": [],
   "source": [
    "l1 = [1, 2]\n",
    "print(id(l1))\n",
    "l2 = [6, 7]\n",
    "print(id(l2))\n",
    "l3 = l1 + l2\n",
    "print(id(l3))"
   ]
  },
  {
   "cell_type": "code",
   "execution_count": null,
   "id": "b22796b8-c9ad-41aa-9fa6-77a5990cb5b4",
   "metadata": {},
   "outputs": [],
   "source": [
    "l1.append(4)\n",
    "print(l1)"
   ]
  },
  {
   "cell_type": "code",
   "execution_count": null,
   "id": "0834a82f-f1a8-4885-8346-b68701944d7c",
   "metadata": {},
   "outputs": [],
   "source": [
    "id(l1)"
   ]
  },
  {
   "cell_type": "code",
   "execution_count": null,
   "id": "6df24d2f-9b13-466f-92a3-915b67b828ad",
   "metadata": {},
   "outputs": [],
   "source": [
    "l1 = l1 + [5]\n",
    "print(id(l1))"
   ]
  },
  {
   "cell_type": "code",
   "execution_count": null,
   "id": "0090f24c-e984-4654-8e33-a5801c6d5f62",
   "metadata": {},
   "outputs": [],
   "source": [
    "fruits = [\"apple\", \"orange\", \"banana\", \"cherry\"]\n",
    "\n",
    "for position in range(len(fruits)):     # by index\n",
    "    print(fruits[position])"
   ]
  },
  {
   "cell_type": "code",
   "execution_count": null,
   "id": "66553adc-5bc8-4de5-a8d1-ae0923d2d3c4",
   "metadata": {},
   "outputs": [],
   "source": [
    "fruits = [\"apple\", \"orange\", \"banana\", \"cherry\"]\n",
    "\n",
    "for position in [0, 2]:     # by index\n",
    "    print(fruits[position])"
   ]
  },
  {
   "cell_type": "code",
   "execution_count": null,
   "id": "85cdb7d3-ac2b-4197-9aa0-89904091cd4b",
   "metadata": {},
   "outputs": [],
   "source": [
    "fruit = [\"banana\", \"apple\", \"cherry\"]\n",
    "print(fruit)\n",
    "print(id(fruit))\n",
    "\n",
    "fruit[0] = \"pear\"\n",
    "fruit[-1] = \"orange\"\n",
    "print(fruit)\n",
    "print(id(fruit))"
   ]
  },
  {
   "cell_type": "code",
   "execution_count": null,
   "id": "b81c0798-e261-41f0-a1c1-acdd275b14f9",
   "metadata": {},
   "outputs": [],
   "source": [
    "a = \"Banana\"\n",
    "b = \"banana\"\n",
    "\n",
    "print(a is b)\n",
    "print(id(a), id(b))"
   ]
  },
  {
   "cell_type": "code",
   "execution_count": 11,
   "id": "c2f18f27-f114-456b-90c4-a4633a63a906",
   "metadata": {},
   "outputs": [
    {
     "name": "stdout",
     "output_type": "stream",
     "text": [
      "False\n",
      "True\n",
      "1376009463424 1376009469696\n",
      "False\n",
      "1376009533120 1376009440000\n"
     ]
    }
   ],
   "source": [
    "a = (1, 2)\n",
    "b = (1, 2)\n",
    "print(a is b)\n",
    "print(a == b)\n",
    "print(id(a), id(b))\n",
    "a = (1, 2, \"Mike\")\n",
    "b = (1, 2, \"Carol\")\n",
    "print(a is b)\n",
    "print(id(a), id(b))"
   ]
  },
  {
   "cell_type": "code",
   "execution_count": null,
   "id": "9e19d958-a822-441b-bcf8-1be7fe7c7fc8",
   "metadata": {},
   "outputs": [],
   "source": [
    "a = (1, 2)\n",
    "b = (1, 2)\n",
    "a == b"
   ]
  },
  {
   "cell_type": "code",
   "execution_count": 12,
   "id": "5dcef9af-b8e3-4e80-a27d-6929c4bd2bcb",
   "metadata": {},
   "outputs": [
    {
     "name": "stdout",
     "output_type": "stream",
     "text": [
      "1376009204288\n",
      "1376009217792\n"
     ]
    }
   ],
   "source": [
    "lst = [1, 2, 3, 4]\n",
    "print(id(lst))\n",
    "print(id(lst[1:3]))"
   ]
  },
  {
   "cell_type": "code",
   "execution_count": null,
   "id": "7593be81-7b48-48be-bcd7-ac6bd075f312",
   "metadata": {},
   "outputs": [],
   "source": [
    "new = lst[:]\n",
    "print(new)\n",
    "print(id(new))"
   ]
  },
  {
   "cell_type": "code",
   "execution_count": 13,
   "id": "10eaec68-42a8-4b27-be7b-0862b7a7f36e",
   "metadata": {},
   "outputs": [
    {
     "name": "stdout",
     "output_type": "stream",
     "text": [
      "[45, 76, 34, 55, 45, 76, 34, 55, 45, 76, 34, 55]\n",
      "[[45, 76, 34, 55], [45, 76, 34, 55], [45, 76, 34, 55]]\n"
     ]
    }
   ],
   "source": [
    "origlist = [45, 76, 34, 55]\n",
    "print(origlist * 3)\n",
    "\n",
    "newlist = [origlist] * 3\n",
    "\n",
    "print(newlist)"
   ]
  },
  {
   "cell_type": "markdown",
   "id": "97731b35",
   "metadata": {},
   "source": [
    "The 3 itmes in newlist are all the same object"
   ]
  },
  {
   "cell_type": "code",
   "execution_count": 14,
   "id": "0090e2f5-0d9d-410f-9e2b-ecc71975949c",
   "metadata": {},
   "outputs": [
    {
     "name": "stdout",
     "output_type": "stream",
     "text": [
      "1376009155456 1376009155456 1376009155456\n"
     ]
    }
   ],
   "source": [
    "print(id(newlist[0]),id(newlist[1]),id(newlist[2]))"
   ]
  },
  {
   "cell_type": "markdown",
   "id": "1a54cf6a",
   "metadata": {},
   "source": [
    "lst.append(100) adds an item to lst but does returnd None"
   ]
  },
  {
   "cell_type": "code",
   "execution_count": 15,
   "id": "db5ec70c-5b8a-467d-87b7-e3fae39e04da",
   "metadata": {},
   "outputs": [
    {
     "name": "stdout",
     "output_type": "stream",
     "text": [
      "1376009203840\n",
      "140717818813656\n",
      "None\n",
      "[45, 32, 88, 100, 100]\n",
      "None\n"
     ]
    }
   ],
   "source": [
    "origlist = [45, 32, 88]\n",
    "print(id(origlist))\n",
    "print(id(origlist.append(100)))\n",
    "\n",
    "newlist = origlist.append(100)\n",
    "print(newlist)\n",
    "print(origlist)\n",
    "print(origlist.append(100))"
   ]
  },
  {
   "cell_type": "code",
   "execution_count": 16,
   "id": "5b12c128-4d25-41df-825c-f29df896b15f",
   "metadata": {},
   "outputs": [
    {
     "name": "stdout",
     "output_type": "stream",
     "text": [
      "1376009161600\n",
      "[45, 32, 88, [100, 200]]\n",
      "1376009161600\n"
     ]
    }
   ],
   "source": [
    "origlist = [45, 32, 88]\n",
    "print(id(origlist))\n",
    "origlist.append([100, 200])\n",
    "print(origlist)\n",
    "print(id(origlist))"
   ]
  },
  {
   "cell_type": "code",
   "execution_count": 17,
   "id": "a3e8e8f6-c8bd-406d-b2ab-1c79815297fe",
   "metadata": {},
   "outputs": [
    {
     "name": "stdout",
     "output_type": "stream",
     "text": [
      "1375981381760\n",
      "[45, 32, 88, 100]\n",
      "1376009203840\n"
     ]
    }
   ],
   "source": [
    "origlist = [45, 32, 88]\n",
    "print(id(origlist))\n",
    "item = [100]\n",
    "newlist = origlist + item\n",
    "print(newlist)\n",
    "print(id(newlist))"
   ]
  },
  {
   "cell_type": "code",
   "execution_count": null,
   "id": "732a4461-f2ce-4956-a223-d25c9a55abe0",
   "metadata": {},
   "outputs": [],
   "source": [
    "\"cat\" + \"mouse\""
   ]
  },
  {
   "cell_type": "code",
   "execution_count": null,
   "id": "8473d735-b5af-45bd-95d3-1a12f224a281",
   "metadata": {},
   "outputs": [],
   "source": [
    "fruits = [\"apple\", \"orange\", \"banana\", \"cherry\"]\n",
    "\n",
    "for position in range(len(fruits)):     # by index\n",
    "    print(fruits[position])"
   ]
  },
  {
   "cell_type": "code",
   "execution_count": 18,
   "id": "158a26c8-0fbb-4fa8-9e61-7946d51e08b5",
   "metadata": {},
   "outputs": [
    {
     "name": "stdout",
     "output_type": "stream",
     "text": [
      "[1, 2, 3, 4, 5]\n",
      "[2, 4, 6, 8, 10]\n"
     ]
    }
   ],
   "source": [
    "numbers = [1, 2, 3, 4, 5]\n",
    "print(numbers)\n",
    "\n",
    "for i in range(len(numbers)):\n",
    "    numbers[i] = numbers[i] * 2\n",
    "\n",
    "print(numbers)"
   ]
  },
  {
   "cell_type": "code",
   "execution_count": null,
   "id": "8d25b4c1-0bbf-4e26-98f2-35b2bb69e9b8",
   "metadata": {},
   "outputs": [],
   "source": [
    "[1, 2, 3, 4, 5]"
   ]
  },
  {
   "cell_type": "code",
   "execution_count": 19,
   "id": "c0525e51-136a-4914-9cbd-d468848d317b",
   "metadata": {},
   "outputs": [
    {
     "name": "stdout",
     "output_type": "stream",
     "text": [
      "4\n"
     ]
    }
   ],
   "source": [
    "long_names = 0\n",
    "for name in [\"Joe\", \"Sally\", \"Amy\", \"Brad\"]:\n",
    "    if len(name) > 3:\n",
    "        long_names += 1\n",
    "        long_names = long_names + 1\n",
    "print(long_names)"
   ]
  },
  {
   "cell_type": "code",
   "execution_count": null,
   "id": "cdc5c5a6-d23b-475a-ad12-44d340e17be1",
   "metadata": {},
   "outputs": [],
   "source": [
    "mylist = [1,2,3,4,5]\n",
    "yourlist = []\n",
    "\n",
    "for item in mylist:\n",
    "    [yourlist.append(item ** 2)]\n",
    "print(yourlist)\n",
    "    \n",
    "\n",
    "yourlist1 = item ** 2 for item in mylist\n",
    "\n",
    "print(yourlist1)"
   ]
  },
  {
   "cell_type": "code",
   "execution_count": null,
   "id": "36f927fa",
   "metadata": {},
   "outputs": [],
   "source": [
    "mylist = (1,2,3,4,5)\n"
   ]
  },
  {
   "cell_type": "code",
   "execution_count": null,
   "id": "f391f4c7",
   "metadata": {},
   "outputs": [],
   "source": [
    "name = \"Foothill\"\n",
    "yourlist = []\n",
    "yourlist = [ltr for ltr in name]\n",
    "\n",
    "print(yourlist)"
   ]
  },
  {
   "cell_type": "code",
   "execution_count": 20,
   "id": "4b88e297",
   "metadata": {},
   "outputs": [
    {
     "name": "stdout",
     "output_type": "stream",
     "text": [
      "<class 'set'>\n",
      "{'l', 't', 'i', 'o', 'h', 'F'}\n"
     ]
    }
   ],
   "source": [
    "name = \"Foothill\"\n",
    "yourlist = []\n",
    "yourlist = {ltr for ltr in name} \n",
    "print(type(yourlist))\n",
    "print(yourlist)"
   ]
  },
  {
   "cell_type": "code",
   "execution_count": 21,
   "id": "c7b218e6",
   "metadata": {},
   "outputs": [
    {
     "name": "stdout",
     "output_type": "stream",
     "text": [
      "[10, 20]\n",
      "20\n",
      "10\n"
     ]
    }
   ],
   "source": [
    "nested = [\"hello\", 2.0, 5, [10, 20]]\n",
    "innerlist = nested[3]\n",
    "print(innerlist)\n",
    "item = innerlist[1]\n",
    "\n",
    "print(item)\n",
    "\n",
    "print(nested[3][0])"
   ]
  },
  {
   "cell_type": "code",
   "execution_count": 22,
   "id": "fd7fe028",
   "metadata": {},
   "outputs": [
    {
     "name": "stdout",
     "output_type": "stream",
     "text": [
      "[10, 20]\n",
      "20\n",
      "10\n"
     ]
    }
   ],
   "source": [
    "nested = [\"hello\", 2.0, 5, [10, 20]]\n",
    "x = nested[3]\n",
    "print(x)\n",
    "item = x[1]\n",
    "\n",
    "print(item)\n",
    "\n",
    "print(nested[3][0])"
   ]
  },
  {
   "cell_type": "code",
   "execution_count": null,
   "id": "223cab72",
   "metadata": {},
   "outputs": [],
   "source": [
    "nested = [\"hello\", 2.0, 5, [10, 20, [99, 30]]]"
   ]
  },
  {
   "cell_type": "code",
   "execution_count": null,
   "id": "1bde5255",
   "metadata": {},
   "outputs": [],
   "source": [
    "alist = [ [4, [True, False], 6, 8], [888, 999] ]\n",
    "print(len(alist))"
   ]
  },
  {
   "cell_type": "code",
   "execution_count": null,
   "id": "d60ca6f8",
   "metadata": {},
   "outputs": [],
   "source": [
    "alist = [ [0, [True, False], 6, 8], [888, 999] ]\n",
    "if alist[0][0]:\n",
    "   print(alist[1][0])\n",
    "else:\n",
    "   print(alist[1][1])"
   ]
  },
  {
   "cell_type": "code",
   "execution_count": 62,
   "id": "860a80f4",
   "metadata": {},
   "outputs": [
    {
     "name": "stdout",
     "output_type": "stream",
     "text": [
      "['Edgar', 'Allan', 'Poe']\n",
      "1375894718064\n",
      "1375904049456\n",
      "E\n",
      "1376009764400\n",
      "EA\n",
      "1376009904560\n",
      "EAP\n"
     ]
    }
   ],
   "source": [
    "myname = \"Edgar Allan Poe\"\n",
    "namelist = myname.split()\n",
    "print(namelist)\n",
    "init = \"\"\n",
    "print(id(init))\n",
    "for aname in namelist:\n",
    "    init = init + aname[0]\n",
    "    print(id(init))\n",
    "    print(init)\n",
    "#print(init)\n",
    "#print(id(init))\n",
    "\n"
   ]
  },
  {
   "cell_type": "code",
   "execution_count": 66,
   "id": "bfa486d9",
   "metadata": {},
   "outputs": [
    {
     "name": "stdout",
     "output_type": "stream",
     "text": [
      "['Edgar', 'Allan', 'Poe', 'Foothill']\n",
      "1375894718064\n",
      "1375904049456\n",
      "E\n",
      "1376009907824\n",
      "EA\n",
      "1376009892208\n",
      "EAP\n",
      "1376009892016\n",
      "EAPF\n"
     ]
    }
   ],
   "source": [
    "myname = \"Edgar Allan Poe Foothill\"\n",
    "namelist = myname.split()\n",
    "print(namelist)\n",
    "i = 0\n",
    "init = \"\"\n",
    "print(id(init))\n",
    "while i < len(namelist):\n",
    "    init = init + namelist[i][0]\n",
    "    print(id(init))\n",
    "    print(init)\n",
    "    i = i + 1"
   ]
  },
  {
   "cell_type": "code",
   "execution_count": 70,
   "id": "5f15738e",
   "metadata": {},
   "outputs": [
    {
     "name": "stdout",
     "output_type": "stream",
     "text": [
      "['Edgar', 'Allan', 'Poe', 'Foothill']\n",
      "1375894718064\n",
      "1375904049456\n",
      "E\n",
      "1376010027696\n",
      "EA\n",
      "1376010029040\n",
      "EAP\n",
      "1376010037552\n",
      "EAPF\n",
      "This is the next statement after the while loop\n"
     ]
    }
   ],
   "source": [
    "myname = \"Edgar Allan Poe Foothill\"\n",
    "namelist = myname.split()\n",
    "print(namelist)\n",
    "i = 0\n",
    "init = \"\"\n",
    "print(id(init))\n",
    "while True:\n",
    "    init = init + namelist[i][0]\n",
    "    print(id(init))\n",
    "    print(init)\n",
    "    if i < len(namelist) - 1:\n",
    "        i = i + 1\n",
    "    else:\n",
    "        break\n",
    "print(\"This is the next statement after the while loop\")"
   ]
  },
  {
   "cell_type": "code",
   "execution_count": null,
   "id": "6a78140b",
   "metadata": {},
   "outputs": [],
   "source": [
    "a = \"College\"\n",
    "b = \"Foothill\"\n",
    "\n",
    "temp = b\n",
    "b = a\n",
    "a = temp\n",
    "print(a,b)\n",
    "\n"
   ]
  },
  {
   "cell_type": "code",
   "execution_count": null,
   "id": "250d8878",
   "metadata": {},
   "outputs": [],
   "source": [
    "a = \"College\"\n",
    "b = \"Foothill\"\n",
    "c = \"Los Altos Hills\"\n",
    "\n",
    "a,b,c = c, a, b\n",
    "print(a,b, c)"
   ]
  },
  {
   "cell_type": "code",
   "execution_count": null,
   "id": "66241068",
   "metadata": {},
   "outputs": [],
   "source": [
    "def circleInfo(r):\n",
    "    \"\"\" Return (circumference, area) of a circle of radius r \"\"\"\n",
    "    c = 2 * 3.14159 * r\n",
    "    a = 3.14159 * r * r\n",
    "    return (a, c)\n",
    "\n",
    "print(circleInfo(10))"
   ]
  },
  {
   "cell_type": "code",
   "execution_count": null,
   "id": "da0961d5",
   "metadata": {},
   "outputs": [],
   "source": [
    "infile = open(\"ccdata.txt\", \"r\")\n",
    "line = infile.readline()\n",
    "while line:\n",
    "    values = line.split()\n",
    "    print('In', values[0], 'the average temp. was', values[1], '°C and CO2 emmisions were', values[2], 'gigatons.')\n",
    "    line = infile.readline()\n",
    "\n",
    "infile.close()"
   ]
  },
  {
   "cell_type": "code",
   "execution_count": null,
   "id": "023cc968",
   "metadata": {},
   "outputs": [],
   "source": [
    "infile = open(\"ccdata.txt\", \"r\")\n",
    "line = infile.readlines()\n",
    "print(line)\n",
    "infile.close()"
   ]
  },
  {
   "cell_type": "code",
   "execution_count": null,
   "id": "35ae48f7",
   "metadata": {},
   "outputs": [],
   "source": [
    "infile = open(\"ccdata.txt\", \"r\")\n",
    "line = infile.read()\n",
    "print(line)\n",
    "infile.close()"
   ]
  },
  {
   "cell_type": "code",
   "execution_count": 7,
   "id": "0c137749",
   "metadata": {},
   "outputs": [],
   "source": [
    "infile = open(\"ccdata.txt\", \"r\")\n",
    "outfile = open(\"emissiondata.txt\", \"w\")\n",
    "\n",
    "aline = infile.readline()\n",
    "outfile.write(\"Year \\tEmmision\\n\")\n",
    "while aline:\n",
    "    items = aline.split()\n",
    "    dataline = items[0] + '\\t' + items[2]\n",
    "    outfile.write(dataline + '\\n')\n",
    "    aline = infile.readline()\n",
    "\n",
    "infile.close()\n",
    "outfile.close()"
   ]
  },
  {
   "cell_type": "code",
   "execution_count": 8,
   "id": "16d300db",
   "metadata": {},
   "outputs": [
    {
     "name": "stdout",
     "output_type": "stream",
     "text": [
      "Year\tEmmision\n",
      "\n",
      "1\n",
      "1850\t2.24E-7\n",
      "2\n",
      "1860\t3.94E-7\n",
      "3\n",
      "1870\t6.6E-7\n",
      "4\n",
      "1880\t1.1\n",
      "5\n",
      "1890\t1.72\n",
      "6\n",
      "1900\t2.38\n",
      "7\n",
      "1910\t3.34\n",
      "8\n",
      "1920\t4.01\n",
      "9\n",
      "1930\t4.53\n",
      "10\n",
      "1940\t5.5\n",
      "11\n",
      "1950\t6.63\n",
      "12\n",
      "1960\t10.5\n",
      "13\n",
      "1970\t16\n",
      "14\n",
      "1980\t20.3\n",
      "15\n",
      "1990\t22.6\n",
      "16\n",
      "2000\t24.9\n",
      "17\n",
      "2010\t32.7\n",
      "18\n",
      "2019\t33.3\n",
      "\n"
     ]
    }
   ],
   "source": [
    "infile = open(\"ccdata.txt\", \"r\")\n",
    "aline = infile.readline()\n",
    "print(\"Year\\tEmmision\\n\")\n",
    "idx = 0\n",
    "while aline:\n",
    "    idx +=1\n",
    "    print(idx)\n",
    "    items = aline.split()\n",
    "    dataline = items[0] + '\\t' + items[2]\n",
    "    print(dataline)\n",
    "    aline = infile.readline()\n",
    "print(aline)\n",
    "infile.close()\n"
   ]
  },
  {
   "cell_type": "code",
   "execution_count": 46,
   "id": "e99e86b4",
   "metadata": {},
   "outputs": [
    {
     "name": "stdout",
     "output_type": "stream",
     "text": [
      "\n",
      "I\n",
      "need\n",
      "to\n",
      "count\n",
      "the\n",
      "number\n",
      "of\n",
      "word\n",
      "occurrences\n",
      "in\n",
      "a\n",
      "piece\n",
      "of\n",
      "text.\n",
      "How\n",
      "could\n",
      "I\n",
      "do\n",
      "that?\n",
      "Python\n",
      "provides\n",
      "us\n",
      "with\n",
      "multiple\n",
      "ways\n",
      "to\n",
      "do\n",
      "the\n",
      "same\n",
      "thing.\n",
      "But\n",
      "only\n",
      "one\n",
      "way\n",
      "I\n",
      "find\n",
      "beautiful.\n"
     ]
    }
   ],
   "source": [
    "text = \"\"\"\n",
    "I need to count the number of word occurrences in a piece of text. How could I do that? Python provides us with multiple ways to do the same thing. But only one way I find beautiful.\"\"\"\n",
    "word_count_dict = {}\n",
    "for w in text.split(\" \"):\n",
    "    print(w)\n",
    "    if w in word_count_dict:\n",
    "        word_count_dict[w]+=1\n",
    "    else:\n",
    "        word_count_dict[w]=1"
   ]
  },
  {
   "cell_type": "code",
   "execution_count": 38,
   "id": "b56ff4e8",
   "metadata": {},
   "outputs": [
    {
     "data": {
      "text/plain": [
       "{'I': 3,\n",
       " 'need': 1,\n",
       " 'to': 2,\n",
       " 'count': 1,\n",
       " 'the': 2,\n",
       " 'number': 1,\n",
       " 'of': 2,\n",
       " 'word': 1,\n",
       " 'occurrences': 1,\n",
       " 'in': 1,\n",
       " 'a': 1,\n",
       " 'piece': 1,\n",
       " 'text.': 1,\n",
       " 'How': 1,\n",
       " 'could': 1,\n",
       " 'do': 2,\n",
       " 'that?\\nPython': 1,\n",
       " 'provides': 1,\n",
       " 'us': 1,\n",
       " 'with': 1,\n",
       " 'multiple': 1,\n",
       " 'ways': 1,\n",
       " 'same\\nthing.': 1,\n",
       " 'But': 1,\n",
       " 'only': 1,\n",
       " 'one': 1,\n",
       " 'way': 1,\n",
       " 'find': 1,\n",
       " 'beautiful.': 1,\n",
       " 'Mike': 2}"
      ]
     },
     "execution_count": 38,
     "metadata": {},
     "output_type": "execute_result"
    }
   ],
   "source": [
    "word_count_dict"
   ]
  },
  {
   "cell_type": "code",
   "execution_count": 36,
   "id": "e4d28b27",
   "metadata": {},
   "outputs": [],
   "source": [
    "word_count_dict['Mike']=1"
   ]
  },
  {
   "cell_type": "code",
   "execution_count": 37,
   "id": "fbd2b84f",
   "metadata": {},
   "outputs": [],
   "source": [
    "word_count_dict['Mike']+=1"
   ]
  },
  {
   "cell_type": "code",
   "execution_count": 42,
   "id": "a60a0a33",
   "metadata": {},
   "outputs": [],
   "source": [
    "from collections import defaultdict\n",
    "word_count_dict = defaultdict(int)\n",
    "for w in text.split(\" \"):\n",
    "    word_count_dict[w]+=1"
   ]
  },
  {
   "cell_type": "code",
   "execution_count": 44,
   "id": "484cfcc7",
   "metadata": {},
   "outputs": [
    {
     "data": {
      "text/plain": [
       "defaultdict(int,\n",
       "            {'I': 3,\n",
       "             'need': 1,\n",
       "             'to': 2,\n",
       "             'count': 1,\n",
       "             'the': 2,\n",
       "             'number': 1,\n",
       "             'of': 2,\n",
       "             'word': 1,\n",
       "             'occurrences': 1,\n",
       "             'in': 1,\n",
       "             'a': 1,\n",
       "             'piece': 1,\n",
       "             'text.': 1,\n",
       "             'How': 1,\n",
       "             'could': 1,\n",
       "             'do': 2,\n",
       "             'that?\\nPython': 1,\n",
       "             'provides': 1,\n",
       "             'us': 1,\n",
       "             'with': 1,\n",
       "             'multiple': 1,\n",
       "             'ways': 1,\n",
       "             'same\\nthing.': 1,\n",
       "             'But': 1,\n",
       "             'only': 1,\n",
       "             'one': 1,\n",
       "             'way': 1,\n",
       "             'find': 1,\n",
       "             'beautiful.': 1})"
      ]
     },
     "execution_count": 44,
     "metadata": {},
     "output_type": "execute_result"
    }
   ],
   "source": [
    "word_count_dict"
   ]
  },
  {
   "cell_type": "code",
   "execution_count": 47,
   "id": "37e938ec",
   "metadata": {},
   "outputs": [
    {
     "data": {
      "text/plain": [
       "183"
      ]
     },
     "execution_count": 47,
     "metadata": {},
     "output_type": "execute_result"
    }
   ],
   "source": [
    "len(text)"
   ]
  },
  {
   "cell_type": "code",
   "execution_count": 49,
   "id": "9f667255",
   "metadata": {},
   "outputs": [
    {
     "data": {
      "text/plain": [
       "87"
      ]
     },
     "execution_count": 49,
     "metadata": {},
     "output_type": "execute_result"
    }
   ],
   "source": [
    "len(\"I need to count the number of word occurrences in a piece of text. How could I do that?\")"
   ]
  },
  {
   "cell_type": "code",
   "execution_count": 52,
   "id": "4c23a59e",
   "metadata": {},
   "outputs": [
    {
     "name": "stdout",
     "output_type": "stream",
     "text": [
      "1\n",
      "2\n",
      "3\n",
      "4\n",
      "5\n",
      "99 1\n"
     ]
    }
   ],
   "source": [
    "def arg_example(num,num1, *args):\n",
    "    for i in args:\n",
    "        print(i)\n",
    "    print(num, num1)\n",
    "        \n",
    "arg_example(99,1,1,2,3,4,5)"
   ]
  },
  {
   "cell_type": "code",
   "execution_count": 58,
   "id": "043c263e",
   "metadata": {},
   "outputs": [
    {
     "name": "stdout",
     "output_type": "stream",
     "text": [
      "{'mike': 5} (99, 100)\n"
     ]
    }
   ],
   "source": [
    "def kwargs_ex(*args,**kwargs):\n",
    "    print(kwargs, args)\n",
    "    \n",
    "kwargs_ex(99,100,mike=5)"
   ]
  },
  {
   "cell_type": "code",
   "execution_count": null,
   "id": "aeb61ee7",
   "metadata": {},
   "outputs": [],
   "source": []
  }
 ],
 "metadata": {
  "kernelspec": {
   "display_name": "Python 3 (ipykernel)",
   "language": "python",
   "name": "python3"
  },
  "language_info": {
   "codemirror_mode": {
    "name": "ipython",
    "version": 3
   },
   "file_extension": ".py",
   "mimetype": "text/x-python",
   "name": "python",
   "nbconvert_exporter": "python",
   "pygments_lexer": "ipython3",
   "version": "3.9.12"
  }
 },
 "nbformat": 4,
 "nbformat_minor": 5
}
