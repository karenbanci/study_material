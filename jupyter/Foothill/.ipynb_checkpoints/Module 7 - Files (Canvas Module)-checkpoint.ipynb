{
 "cells": [
  {
   "cell_type": "markdown",
   "id": "7a34724a",
   "metadata": {},
   "source": [
    "# Files"
   ]
  },
  {
   "cell_type": "markdown",
   "id": "c2e61bd4",
   "metadata": {},
   "source": [
    "## Files can be opened in text t or byte b mode, text is the default.  Use byte when reading or writing binary data."
   ]
  },
  {
   "cell_type": "code",
   "execution_count": 10,
   "id": "84c6d8d4",
   "metadata": {},
   "outputs": [],
   "source": [
    "f = open('workfile', 'r')     # open(filename, mode)"
   ]
  },
  {
   "cell_type": "markdown",
   "id": "b3e967bf",
   "metadata": {},
   "source": [
    "## f.read(size) reads some quantity of data from the file   \n",
    "- size is the number of bytes to read, in our file is is the number of characters to read\n",
    "- if you specifiy the size = 0 or a negative number, the entire file contents are returned as a string.    \n",
    "- If you specified the size >= 1, it will return the number of bytes specified."
   ]
  },
  {
   "cell_type": "code",
   "execution_count": 12,
   "id": "86886dca",
   "metadata": {},
   "outputs": [
    {
     "name": "stdout",
     "output_type": "stream",
     "text": [
      "\n"
     ]
    }
   ],
   "source": [
    "print(f.read())"
   ]
  },
  {
   "cell_type": "code",
   "execution_count": 13,
   "id": "58c52d42",
   "metadata": {},
   "outputs": [
    {
     "data": {
      "text/plain": [
       "'This is line 1\\nThis is line 2\\nThis is line 3\\nThis is line 4\\nThis is line 5'"
      ]
     },
     "execution_count": 13,
     "metadata": {},
     "output_type": "execute_result"
    }
   ],
   "source": [
    "f.seek(0)\n",
    "f.read()"
   ]
  },
  {
   "cell_type": "code",
   "execution_count": 14,
   "id": "ff827d0f",
   "metadata": {},
   "outputs": [
    {
     "data": {
      "text/plain": [
       "'This is li'"
      ]
     },
     "execution_count": 14,
     "metadata": {},
     "output_type": "execute_result"
    }
   ],
   "source": [
    "f.seek(0)\n",
    "f.read(10)"
   ]
  },
  {
   "cell_type": "code",
   "execution_count": 15,
   "id": "11d5e7be",
   "metadata": {},
   "outputs": [
    {
     "data": {
      "text/plain": [
       "'ne 1\\nThis '"
      ]
     },
     "execution_count": 15,
     "metadata": {},
     "output_type": "execute_result"
    }
   ],
   "source": [
    "f.read(10)"
   ]
  },
  {
   "cell_type": "markdown",
   "id": "0635036a",
   "metadata": {},
   "source": [
    "## f.readline() returns 1 line from the file, lines are delimited by \\n. \n",
    "- If readline() returns an empty string, the end-of-file has been reached."
   ]
  },
  {
   "cell_type": "code",
   "execution_count": 27,
   "id": "c4f32709",
   "metadata": {},
   "outputs": [
    {
     "data": {
      "text/plain": [
       "'This is line 1\\n'"
      ]
     },
     "execution_count": 27,
     "metadata": {},
     "output_type": "execute_result"
    }
   ],
   "source": [
    "f = open('workfile', 'r')\n",
    "f.readline()"
   ]
  },
  {
   "cell_type": "code",
   "execution_count": 30,
   "id": "7fa7ea60",
   "metadata": {},
   "outputs": [
    {
     "data": {
      "text/plain": [
       "'This is line 4\\n'"
      ]
     },
     "execution_count": 30,
     "metadata": {},
     "output_type": "execute_result"
    }
   ],
   "source": [
    "f.readline()"
   ]
  },
  {
   "cell_type": "markdown",
   "id": "f2d5dfdd",
   "metadata": {},
   "source": [
    "## f.readlines() returns a list containing items which each contain a line of the file, lines are delimited by \\n. \n",
    "- If readlines() returns an empty string, the end-of-file has been reached."
   ]
  },
  {
   "cell_type": "code",
   "execution_count": 22,
   "id": "dd808a00",
   "metadata": {},
   "outputs": [
    {
     "data": {
      "text/plain": [
       "['This is line 1\\n',\n",
       " 'This is line 2\\n',\n",
       " 'This is line 3\\n',\n",
       " 'This is line 4\\n',\n",
       " 'This is line 5']"
      ]
     },
     "execution_count": 22,
     "metadata": {},
     "output_type": "execute_result"
    }
   ],
   "source": [
    "f = open('workfile', 'r')\n",
    "f.readlines()"
   ]
  },
  {
   "cell_type": "code",
   "execution_count": 23,
   "id": "c6d6ca13",
   "metadata": {},
   "outputs": [
    {
     "data": {
      "text/plain": [
       "[]"
      ]
     },
     "execution_count": 23,
     "metadata": {},
     "output_type": "execute_result"
    }
   ],
   "source": [
    "f.readlines()"
   ]
  },
  {
   "cell_type": "code",
   "execution_count": 24,
   "id": "5335c37c",
   "metadata": {},
   "outputs": [
    {
     "data": {
      "text/plain": [
       "['This is line 1\\n',\n",
       " 'This is line 2\\n',\n",
       " 'This is line 3\\n',\n",
       " 'This is line 4\\n',\n",
       " 'This is line 5']"
      ]
     },
     "execution_count": 24,
     "metadata": {},
     "output_type": "execute_result"
    }
   ],
   "source": [
    "f.seek(0)\n",
    "f.readlines()"
   ]
  },
  {
   "cell_type": "code",
   "execution_count": 66,
   "id": "ebade9fc",
   "metadata": {},
   "outputs": [],
   "source": [
    "def copy_file(filename):\n",
    "     \"\"\"\n",
    "     Opens the file referenced by d \n",
    "     filename. Opens the file for reading \n",
    "     and makes a copy of it in a new file named 'data_copy'.\n",
    "     \"\"\"\n",
    "     original_text_file = open(filename, 'r')\n",
    "     # the line above will raise an error if filename doesn't exist \n",
    "     copy_text_file = open('data_copy', 'w') \n",
    "\n",
    "     for line in original_text_file:\n",
    "         print(line + \"new\")\n",
    "         new_data = line + \" New\"\n",
    "         copy_text_file.write(new_data)\n",
    "\n",
    "     original_text_file.close()\n",
    "     copy_text_file.close()"
   ]
  },
  {
   "cell_type": "markdown",
   "id": "7d027728",
   "metadata": {},
   "source": [
    "How do I get rid of the /n"
   ]
  },
  {
   "cell_type": "code",
   "execution_count": 67,
   "id": "e0d56403",
   "metadata": {},
   "outputs": [
    {
     "name": "stdout",
     "output_type": "stream",
     "text": [
      "This is line 1\n",
      "new\n",
      "This is line 2\n",
      "new\n",
      "This is line 3\n",
      "new\n",
      "This is line 4\n",
      "new\n",
      "This is line 5new\n"
     ]
    }
   ],
   "source": [
    "copy_file(\"workfile\")"
   ]
  },
  {
   "cell_type": "code",
   "execution_count": 47,
   "id": "2a19c5d9",
   "metadata": {},
   "outputs": [
    {
     "data": {
      "text/plain": [
       "'This is line 1\\n NewThis is line 2\\n NewThis is line 3\\n NewThis is line 4\\n NewThis is line 5 New'"
      ]
     },
     "execution_count": 47,
     "metadata": {},
     "output_type": "execute_result"
    }
   ],
   "source": [
    "c = open('data_copy', 'r')\n",
    "c.read()"
   ]
  },
  {
   "cell_type": "code",
   "execution_count": null,
   "id": "4f0aeaa8",
   "metadata": {},
   "outputs": [],
   "source": [
    "c.seek(0)\n",
    "print(c.read())"
   ]
  },
  {
   "cell_type": "markdown",
   "id": "3b431e24",
   "metadata": {},
   "source": [
    "## More Practice"
   ]
  },
  {
   "cell_type": "markdown",
   "id": "6dd9714b",
   "metadata": {},
   "source": [
    "Here are the file object methods and that we will be practicing with.\n",
    "- open()\n",
    "- seek()\n",
    "- read(25)\n",
    "- read()\n",
    "- readline()\n",
    "- readlines()\n",
    "- writelines()\n",
    "\n",
    "These examples were designed to be copied one instruction at a time the IDLE or PyCharm"
   ]
  },
  {
   "cell_type": "markdown",
   "id": "f1abf85b",
   "metadata": {},
   "source": [
    "### Create a new file"
   ]
  },
  {
   "cell_type": "code",
   "execution_count": 54,
   "id": "024fe948",
   "metadata": {},
   "outputs": [],
   "source": [
    "h = open('wasteland.txt', mode='wt', encoding='utf-8')   # mode 'wt', is write text\n",
    "\n",
    "h.writelines(\n",
    "['Ok, here is some text. \\nI am passing a list '\n",
    "'to writelines(). ','I am ',\n",
    "'creating a multi-line file that I will use \\n',\n",
    "'to illustrate additional methods and functions ',\n",
    "'in a moment. \\n', 'This is another line that I am adding, \\n',\n",
    "'but remember this is the initial write to the file. \\n',\n",
    "'I am creating the file using the write-character operation.\\n'])\n",
    "\n",
    "h.close()"
   ]
  },
  {
   "cell_type": "code",
   "execution_count": 63,
   "id": "f7469a15",
   "metadata": {},
   "outputs": [],
   "source": [
    "h = open('wasteland.txt', mode='wt', encoding='utf-8')   # mode 'wt', is write text\n",
    "\n",
    "h.writelines(\n",
    "['Ok, here is some text. I am passing a list '\n",
    "'to writelines(). ','I am ',\n",
    "'creating a multi-line file that I will use',\n",
    "'to illustrate additional methods and functions ',\n",
    "'in a moment.', 'This is another line that I am adding,',\n",
    "'but remember this is the initial write to the file.',\n",
    "'I am creating the file using the write-character operation.'])\n",
    "\n",
    "h.close()"
   ]
  },
  {
   "cell_type": "code",
   "execution_count": 64,
   "id": "ad07b67c",
   "metadata": {},
   "outputs": [
    {
     "data": {
      "text/plain": [
       "'Ok, here is some text. I am passing a list to writelines(). I am creating a multi-line file that I will useto illustrate additional methods and functions in a moment.This is another line that I am adding,but remember this is the initial write to the file.I am creating the file using the write-character operation.'"
      ]
     },
     "execution_count": 64,
     "metadata": {},
     "output_type": "execute_result"
    }
   ],
   "source": [
    "h = open('wasteland.txt', mode='r', encoding='utf-8')\n",
    "h.read()"
   ]
  },
  {
   "cell_type": "code",
   "execution_count": 65,
   "id": "280a549f",
   "metadata": {},
   "outputs": [
    {
     "name": "stdout",
     "output_type": "stream",
     "text": [
      "Ok, here is some text. I am passing a list to writelines(). I am creating a multi-line file that I will useto illustrate additional methods and functions in a moment.This is another line that I am adding,but remember this is the initial write to the file.I am creating the file using the write-character operation.\n"
     ]
    }
   ],
   "source": [
    "h = open('wasteland.txt', mode='r', encoding='utf-8')\n",
    "print(h.read())"
   ]
  },
  {
   "cell_type": "markdown",
   "id": "a58326ac",
   "metadata": {},
   "source": [
    "- h = open('wasteland.txt', mode='rt', encoding='utf-8')\n",
    "- h.read()    # read the entire file\n",
    "\n",
    "- h.seek(0)   # set the cursor to the beginning of the file\n",
    "- h.read(20)  # read the first 20 characters of the file\n",
    "- h.read(50)  # read the next 50 characters of the file\n",
    "\n",
    "- h.seek(0)   # set the cursor to the beginning of the file\n",
    "- h.readline() # read an entire line\n",
    "- h.readline() # read the next line\n",
    "\n",
    "- h.seek(0)   # set the cursor to the beginning of the file\n",
    "- h.readlines() # read the file"
   ]
  },
  {
   "cell_type": "markdown",
   "id": "6d823445",
   "metadata": {},
   "source": [
    "Positional vs Keyword paramenter"
   ]
  },
  {
   "cell_type": "code",
   "execution_count": 56,
   "id": "fe488aba",
   "metadata": {},
   "outputs": [],
   "source": [
    "h = open('wasteland.txt', mode='rt', encoding='utf-8')"
   ]
  },
  {
   "cell_type": "code",
   "execution_count": 57,
   "id": "59b55cdd",
   "metadata": {},
   "outputs": [
    {
     "data": {
      "text/plain": [
       "'Ok, here is some text. \\nI am passing a list to writelines(). I am creating a multi-line file that I will use \\nto illustrate additional methods and functions in a moment. \\nThis is another line that I am adding, \\nbut remember this is the initial write to the file. \\nI am creating the file using the write-character operation.\\n'"
      ]
     },
     "execution_count": 57,
     "metadata": {},
     "output_type": "execute_result"
    }
   ],
   "source": [
    "h.read()    # read the entire file"
   ]
  },
  {
   "cell_type": "code",
   "execution_count": 58,
   "id": "72f7f9d8",
   "metadata": {},
   "outputs": [
    {
     "data": {
      "text/plain": [
       "0"
      ]
     },
     "execution_count": 58,
     "metadata": {},
     "output_type": "execute_result"
    }
   ],
   "source": [
    "h.seek(0)   # set the cursor to the beginning of the file"
   ]
  },
  {
   "cell_type": "code",
   "execution_count": 59,
   "id": "37f82955",
   "metadata": {},
   "outputs": [
    {
     "data": {
      "text/plain": [
       "'Ok, here is some tex'"
      ]
     },
     "execution_count": 59,
     "metadata": {},
     "output_type": "execute_result"
    }
   ],
   "source": [
    "h.read(20)  # read the first 20 characters of the file"
   ]
  },
  {
   "cell_type": "code",
   "execution_count": 60,
   "id": "bec5c128",
   "metadata": {},
   "outputs": [
    {
     "data": {
      "text/plain": [
       "'t. \\nI am passing a list to writelines(). I am crea'"
      ]
     },
     "execution_count": 60,
     "metadata": {},
     "output_type": "execute_result"
    }
   ],
   "source": [
    "h.read(50)  # read the next 50 characters of the file"
   ]
  },
  {
   "cell_type": "code",
   "execution_count": 61,
   "id": "f7d7c2f4",
   "metadata": {},
   "outputs": [
    {
     "data": {
      "text/plain": [
       "0"
      ]
     },
     "execution_count": 61,
     "metadata": {},
     "output_type": "execute_result"
    }
   ],
   "source": [
    "h.seek(0)   # set the cursor to the beginning of the file"
   ]
  },
  {
   "cell_type": "code",
   "execution_count": null,
   "id": "5dde31ab",
   "metadata": {},
   "outputs": [],
   "source": [
    "h.readline() # read an entire line"
   ]
  },
  {
   "cell_type": "code",
   "execution_count": null,
   "id": "f369ec58",
   "metadata": {},
   "outputs": [],
   "source": [
    "h.readline() # read the next line"
   ]
  },
  {
   "cell_type": "code",
   "execution_count": null,
   "id": "8a15a8db",
   "metadata": {},
   "outputs": [],
   "source": [
    "h.seek(0)   # set the cursor to the beginning of the file"
   ]
  },
  {
   "cell_type": "code",
   "execution_count": 62,
   "id": "e72e1942",
   "metadata": {},
   "outputs": [
    {
     "data": {
      "text/plain": [
       "['Ok, here is some text. \\n',\n",
       " 'I am passing a list to writelines(). I am creating a multi-line file that I will use \\n',\n",
       " 'to illustrate additional methods and functions in a moment. \\n',\n",
       " 'This is another line that I am adding, \\n',\n",
       " 'but remember this is the initial write to the file. \\n',\n",
       " 'I am creating the file using the write-character operation.\\n']"
      ]
     },
     "execution_count": 62,
     "metadata": {},
     "output_type": "execute_result"
    }
   ],
   "source": [
    "h.readlines() # read the file"
   ]
  },
  {
   "cell_type": "code",
   "execution_count": null,
   "id": "20814542",
   "metadata": {},
   "outputs": [],
   "source": []
  }
 ],
 "metadata": {
  "kernelspec": {
   "display_name": "Python 3 (ipykernel)",
   "language": "python",
   "name": "python3"
  },
  "language_info": {
   "codemirror_mode": {
    "name": "ipython",
    "version": 3
   },
   "file_extension": ".py",
   "mimetype": "text/x-python",
   "name": "python",
   "nbconvert_exporter": "python",
   "pygments_lexer": "ipython3",
   "version": "3.9.12"
  }
 },
 "nbformat": 4,
 "nbformat_minor": 5
}
