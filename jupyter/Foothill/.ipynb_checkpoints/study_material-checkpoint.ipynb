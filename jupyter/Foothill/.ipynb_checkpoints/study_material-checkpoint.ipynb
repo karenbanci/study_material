{
 "cells": [
  {
   "cell_type": "markdown",
   "metadata": {},
   "source": [
    "# Material for study\n"
   ]
  },
  {
   "cell_type": "markdown",
   "metadata": {},
   "source": [
    "### Transversal and the while Loop"
   ]
  },
  {
   "cell_type": "code",
   "execution_count": 1,
   "metadata": {},
   "outputs": [
    {
     "name": "stdout",
     "output_type": "stream",
     "text": [
      "o\n",
      "r\n",
      "a\n",
      "n\n",
      "g\n",
      "e\n",
      "\n",
      "o\n",
      "r\n",
      "a\n",
      "n\n",
      "g\n",
      "e\n"
     ]
    }
   ],
   "source": [
    "fruit = \"orange\"\n",
    "\n",
    "position = 0\n",
    "while position < len(fruit):\n",
    "    print(fruit[position])\n",
    "    position += 1\n",
    "\n",
    "print(\"\")\n",
    "for item in fruit:\n",
    "    print(item)"
   ]
  },
  {
   "cell_type": "markdown",
   "metadata": {},
   "source": [
    "### The in and not in operators\n"
   ]
  },
  {
   "cell_type": "code",
   "execution_count": 2,
   "metadata": {},
   "outputs": [
    {
     "name": "stdout",
     "output_type": "stream",
     "text": [
      "True\n",
      "False\n",
      "True\n",
      "False\n"
     ]
    }
   ],
   "source": [
    "print('p' in 'apple')\n",
    "print('i' in 'apple')\n",
    "print('ap' in 'apple')\n",
    "print('pa' in 'apple')"
   ]
  },
  {
   "cell_type": "code",
   "execution_count": 3,
   "metadata": {},
   "outputs": [
    {
     "name": "stdout",
     "output_type": "stream",
     "text": [
      "Number of tiles: 19\n",
      "Gap at each end: 2.5\n"
     ]
    }
   ],
   "source": [
    "\"\"\"\n",
    "The Tile Problem\n",
    "Computes the number of tiles needed and the gap at each end when placing tiles along a wall.\n",
    "\"\"\"\n",
    "\n",
    "# Define the dimensions.\n",
    "total_width = 100\n",
    "tile_width = 5\n",
    "\n",
    "# Calculate the tiles and gaps.\n",
    "number_of_pairs = (total_width - tile_width) // (2 * tile_width)\n",
    "number_of_tiles = 1 + 2 * number_of_pairs\n",
    "gap = (total_width - number_of_tiles * tile_width) / 2.0\n",
    "print(\"Number of tiles:\", number_of_tiles)\n",
    "print(\"Gap at each end:\", gap)"
   ]
  },
  {
   "cell_type": "code",
   "execution_count": 4,
   "metadata": {},
   "outputs": [
    {
     "name": "stdout",
     "output_type": "stream",
     "text": [
      "888.88\n",
      "888\n",
      "1729\n",
      "17.29\n"
     ]
    }
   ],
   "source": [
    "\"\"\"\n",
    "Use the str() function to convert between numbers and strings.\n",
    "\"\"\"\n",
    "\n",
    "balance = 888.88\n",
    "dollars = 888\n",
    "\n",
    "balance_as_string = str(balance)\n",
    "dollar_as_string = str(dollars)\n",
    "\n",
    "print(balance_as_string)\n",
    "print(dollar_as_string)\n",
    "\n",
    "# To convert a string containing a number into a numerical value, we use the int() and float() functions:\n",
    "price = int(\"1729\")\n",
    "print(price)\n",
    "\n",
    "price = float(\"17.29\")\n",
    "print(price)"
   ]
  },
  {
   "cell_type": "code",
   "execution_count": 5,
   "metadata": {},
   "outputs": [
    {
     "name": "stdout",
     "output_type": "stream",
     "text": [
      "you typed :<Future pending>\n"
     ]
    }
   ],
   "source": [
    "pay_rate = input(\"How much do you earn per hour? \")\n",
    "print(\"you typed :\" + str(pay_rate))"
   ]
  },
  {
   "cell_type": "markdown",
   "metadata": {},
   "source": [
    "    add tax to bill\n",
    "    calculate tip\n",
    "    add tip to bill\n",
    "    divide bill by 3"
   ]
  },
  {
   "cell_type": "code",
   "execution_count": 3,
   "metadata": {},
   "outputs": [
    {
     "name": "stdout",
     "output_type": "stream",
     "text": [
      "10.0\n",
      "110.0\n",
      "36.0\n"
     ]
    }
   ],
   "source": [
    "bill = 100\n",
    "\n",
    "tax_to_bill = bill * 0.1\n",
    "print(tax_to_bill)\n",
    "\n",
    "total_bill = bill + tax_to_bill\n",
    "print(total_bill)\n",
    "\n",
    "ask_to_divide = 3\n",
    "total_bill_divided_for = total_bill // ask_to_divide\n",
    "\n",
    "print(total_bill_divided_for)"
   ]
  },
  {
   "cell_type": "markdown",
   "metadata": {},
   "source": [
    " • Write a program that converts course percent to letter grade given the following:\n",
    "\n",
    "90 and above is an \"A\"\n",
    "\n",
    "80 - 89 is a \"B\"\n",
    "\n",
    "70-79 is a \"C\"\n",
    "\n",
    "60-69 is a \"D\"\n",
    "\n",
    "59 and below is an \"F\""
   ]
  },
  {
   "cell_type": "code",
   "execution_count": 6,
   "metadata": {},
   "outputs": [
    {
     "name": "stdout",
     "output_type": "stream",
     "text": [
      "D\n"
     ]
    }
   ],
   "source": [
    "grade = 67\n",
    "\n",
    "if grade > 90:\n",
    "    print(\"A\")\n",
    "elif grade > 80 and grade < 89:\n",
    "    print(\"B\")\n",
    "elif grade > 70 and grade < 79:\n",
    "    print(\"C\")\n",
    "elif grade > 60 and grade < 69:\n",
    "    print(\"D\")\n",
    "else:\n",
    "    print(\"F\")"
   ]
  },
  {
   "cell_type": "markdown",
   "metadata": {},
   "source": [
    "### Function Arguments and Parameters"
   ]
  },
  {
   "cell_type": "code",
   "execution_count": 8,
   "metadata": {},
   "outputs": [
    {
     "name": "stdout",
     "output_type": "stream",
     "text": [
      "turkey on sourdough with mayo \n",
      "ham on wheat with mustard tomato lettuce \n"
     ]
    }
   ],
   "source": [
    "def sandwich(bread, meat, *args): \n",
    "    print('%s on %s' % (meat, bread), end=' ') \n",
    "    if len(args) > 0: \n",
    "        print('with', end=' ') \n",
    "    for extra in args: \n",
    "        print(extra, end=' ') \n",
    "    print(\"\")\n",
    "\n",
    "\n",
    "sandwich('sourdough', 'turkey', 'mayo')\n",
    "sandwich('wheat', 'ham', 'mustard', 'tomato', 'lettuce')"
   ]
  },
  {
   "cell_type": "code",
   "execution_count": 9,
   "metadata": {},
   "outputs": [
    {
     "name": "stdout",
     "output_type": "stream",
     "text": [
      "sourdough on turkey\n",
      "   sauce: mayo\n",
      "wheat on ham\n",
      "   sauce1: mustard\n",
      "   veggie1: tomato\n",
      "   veggie2: lettuce\n"
     ]
    }
   ],
   "source": [
    "def sandwich(bread, meat, **kwargs):\n",
    "    print('%s on %s' % (bread, meat))\n",
    "    for category, extra in kwargs.items():\n",
    "        print('   %s: %s' % (category, extra))\n",
    "\n",
    "sandwich('sourdough', 'turkey', sauce='mayo')\n",
    "sandwich('wheat', 'ham', sauce1='mustard', veggie1='tomato', veggie2='lettuce')"
   ]
  },
  {
   "cell_type": "code",
   "execution_count": 10,
   "metadata": {},
   "outputs": [
    {
     "name": "stdout",
     "output_type": "stream",
     "text": [
      "notepad.exe\n",
      "Powerpoint.exe --file=pres.ppt --start=True --slide=3\n"
     ]
    }
   ],
   "source": [
    "def gen_command(application, **kwargs):\n",
    "    command = application\n",
    "    for argument in kwargs:\n",
    "        command += ' --%s=%s' % (argument, kwargs[argument])\n",
    "    return command\n",
    "\n",
    "print (gen_command('notepad.exe'))  # No options\n",
    "print (gen_command('Powerpoint.exe', file='pres.ppt', start=True, slide=3))"
   ]
  },
  {
   "cell_type": "code",
   "execution_count": 23,
   "metadata": {},
   "outputs": [
    {
     "name": "stdout",
     "output_type": "stream",
     "text": [
      "estou testando um jeito de modificar uma string helloBLABLABLAoi\n"
     ]
    }
   ],
   "source": [
    "def change_name(name, **kwargs):\n",
    "    test = name\n",
    "    for i in kwargs:\n",
    "        test += '%sBLABLABLA%s' % (i, kwargs[i])\n",
    "    return test\n",
    "\n",
    "print(change_name(\"estou testando um jeito de modificar uma string \", hello=\"oi\"))"
   ]
  },
  {
   "cell_type": "markdown",
   "metadata": {},
   "source": [
    "### Multiple function outputs"
   ]
  },
  {
   "cell_type": "code",
   "execution_count": 24,
   "metadata": {},
   "outputs": [
    {
     "name": "stdout",
     "output_type": "stream",
     "text": [
      "Average score: 73.33333333333333\n",
      "Standard deviation: 15.260697523012796\n"
     ]
    }
   ],
   "source": [
    "student_scores = [75, 84, 66, 99, 51, 65]\n",
    "\n",
    "def get_grade_stats(scores):\n",
    "    # Calculate the arithmetic mean\n",
    "    mean = sum(student_scores)/len(scores)\n",
    "    \n",
    "    # Calculate the standard deviation\n",
    "    tmp = 0\n",
    "    for i in range(len(scores)):\n",
    "        tmp += (scores[i] - mean )**2\n",
    "    std_dev = (tmp/len(scores))**0.5\n",
    "\n",
    "    # Package and return average, standard deviation in a tuple\n",
    "    return mean, std_dev\n",
    "\n",
    "# Unpack tuple\n",
    "average, standard_deviation = get_grade_stats(student_scores)\n",
    "\n",
    "print('Average score:', average)\n",
    "print('Standard deviation:', standard_deviation)"
   ]
  },
  {
   "cell_type": "markdown",
   "metadata": {},
   "source": [
    "### Passing Arguments into Parameters"
   ]
  },
  {
   "cell_type": "code",
   "execution_count": 28,
   "metadata": {},
   "outputs": [
    {
     "name": "stdout",
     "output_type": "stream",
     "text": [
      "****\n"
     ]
    }
   ],
   "source": [
    "def print_chars(número, símbolo = '*'):\n",
    "      return símbolo * número\n",
    "\n",
    "print(print_chars(4, símbolo = '*'))"
   ]
  },
  {
   "cell_type": "code",
   "execution_count": 34,
   "metadata": {},
   "outputs": [
    {
     "name": "stdout",
     "output_type": "stream",
     "text": [
      "@meix@, cerej@, b@n@n@ e goi@b@\n"
     ]
    }
   ],
   "source": [
    "def modify_string(string, character):\n",
    "    for i in string:\n",
    "        return string.replace(\"a\", character)\n",
    "    \n",
    "string = \"ameixa, cereja, banana e goiaba\"\n",
    "character = \"@\"\n",
    "print(modify_string(string, character))"
   ]
  },
  {
   "cell_type": "markdown",
   "metadata": {},
   "source": [
    "### lambda"
   ]
  },
  {
   "cell_type": "markdown",
   "metadata": {},
   "source": [
    "Normalmente, as funções são criadas para um de dois propósitos: (a) reduzir a duplicação de código ou (b) modularizar o código.\n",
    "\n",
    "* Se seu aplicativo contiver trechos de código duplicados em vários locais, você poderá colocar uma cópia desse código em uma função, dar um nome à função e, em seguida, usando esse nome de função, chamá-la de vários locais em seu código.\n",
    "\n",
    "* Se você tem um pedaço de código que executa uma operação bem definida - mas é muito longo e complicado e interrompe o fluxo legível do seu programa - então você pode extrair esse código longo e retorcido e colocá-lo em uma função por si só.\n"
   ]
  },
  {
   "cell_type": "code",
   "execution_count": 35,
   "metadata": {},
   "outputs": [
    {
     "name": "stdout",
     "output_type": "stream",
     "text": [
      "100\n",
      "functionList[0](5)= 10\n",
      "functionList[1](5)= 25\n",
      "functionList[2](5)= 3125\n"
     ]
    }
   ],
   "source": [
    "functionList = [lambda x: x+x , lambda x: x*x, lambda x: x**x]\n",
    "\n",
    "# we can call an individual lambda in this list on the argument 10 with the following code:\n",
    "print(functionList[1](10))\n",
    "\n",
    "# or we can call all the lambdas in this list on the argument 5 with the following loop:\n",
    "for index in range(3):\n",
    "     print (\"functionList[%i](5)= %i\"  %  (index, functionList[index](5)) )"
   ]
  },
  {
   "cell_type": "markdown",
   "metadata": {},
   "source": [
    "### Functions That Modify Their Parameters"
   ]
  },
  {
   "cell_type": "code",
   "execution_count": 36,
   "metadata": {},
   "outputs": [
    {
     "name": "stdout",
     "output_type": "stream",
     "text": [
      "2000\n",
      "-------------\n",
      "175.0\n",
      "-------------\n",
      "[2175.0, 3262.4999999999995, 4350.0]\n",
      "2000\n",
      "-------------\n",
      "[2000, 3000, 4000]\n"
     ]
    }
   ],
   "source": [
    "\"\"\" Demonstrates functions attempting to modify their parameters. Two of these functions don't work.\n",
    "    Code also shows that returning a value from a function works when modifying the parameters doesn't work.\n",
    "\"\"\"\n",
    "\n",
    "def addSalesTax(price):\n",
    "    \"\"\"\n",
    "    attempts to add tax to price, but it doesn't work because only a value is sent\n",
    "    into the price parameter, not the variable\n",
    "    \"\"\"\n",
    "    price = price * 0.0875\n",
    "\n",
    "def salesTax(price):\n",
    "    \"\"\"\n",
    "    returns the amount of sales tax that would be charged on price\n",
    "    \"\"\"\n",
    "    return price * 0.0875\n",
    "\n",
    "def addTaxToPricesInList(list):\n",
    "    \"\"\"\n",
    "    changes list by adding salesTax to the value that is in the list\n",
    "    \"\"\"\n",
    "    for index in range (len(list)):\n",
    "        list[index] = list[index] * 1.0875\n",
    "\n",
    "def notAddTaxToPricesInList(list):\n",
    "    \"\"\"\n",
    "    accesses individual values in the list and so changes are not reflected back in the calling code\n",
    "    \"\"\"\n",
    "    for price in list:\n",
    "        price = price * 1.0875\n",
    "\n",
    "\n",
    "purchase = 2000\n",
    "addSalesTax(purchase)\n",
    "print (purchase)\n",
    "print ('-------------')\n",
    "purchase = 2000\n",
    "total = salesTax(purchase)\n",
    "print (total)\n",
    "print ('-------------')\n",
    "listOfPrices = [purchase, 3000, 4000]\n",
    "addTaxToPricesInList(listOfPrices)\n",
    "print (listOfPrices)\n",
    "print (purchase)    # note this has not changed\n",
    "print ('-------------')\n",
    "listOfPrices = [purchase, 3000, 4000]\n",
    "notAddTaxToPricesInList(listOfPrices)\n",
    "print (listOfPrices)"
   ]
  },
  {
   "cell_type": "markdown",
   "metadata": {},
   "source": [
    "## O'Reilly"
   ]
  },
  {
   "cell_type": "code",
   "execution_count": null,
   "metadata": {},
   "outputs": [],
   "source": [
    "[\"Oi\", \"Karen,\", \"como\", \"voce\", \"está?\"]res=[c*4 for c in 'spam']"
   ]
  },
  {
   "cell_type": "code",
   "execution_count": null,
   "metadata": {},
   "outputs": [],
   "source": []
  },
  {
   "cell_type": "code",
   "execution_count": null,
   "metadata": {},
   "outputs": [],
   "source": []
  },
  {
   "cell_type": "code",
   "execution_count": null,
   "metadata": {},
   "outputs": [],
   "source": []
  },
  {
   "cell_type": "code",
   "execution_count": null,
   "metadata": {},
   "outputs": [],
   "source": []
  },
  {
   "cell_type": "code",
   "execution_count": null,
   "metadata": {},
   "outputs": [],
   "source": []
  },
  {
   "cell_type": "code",
   "execution_count": null,
   "metadata": {},
   "outputs": [],
   "source": []
  },
  {
   "cell_type": "code",
   "execution_count": null,
   "metadata": {},
   "outputs": [],
   "source": []
  },
  {
   "cell_type": "code",
   "execution_count": null,
   "metadata": {},
   "outputs": [],
   "source": []
  }
 ],
 "metadata": {
  "kernelspec": {
   "display_name": "Python (Pyodide)",
   "language": "python",
   "name": "python"
  },
  "language_info": {
   "codemirror_mode": {
    "name": "python",
    "version": 3
   },
   "file_extension": ".py",
   "mimetype": "text/x-python",
   "name": "python",
   "nbconvert_exporter": "python",
   "pygments_lexer": "ipython3",
   "version": "3.8"
  }
 },
 "nbformat": 4,
 "nbformat_minor": 4
}
