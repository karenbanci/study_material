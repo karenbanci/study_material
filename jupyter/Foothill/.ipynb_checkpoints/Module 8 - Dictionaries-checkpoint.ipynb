{
 "cells": [
  {
   "cell_type": "markdown",
   "id": "8f9403e3",
   "metadata": {},
   "source": [
    "# Dictionaries"
   ]
  },
  {
   "cell_type": "markdown",
   "id": "f924a792",
   "metadata": {},
   "source": [
    "### Dictionaries contains key:value pair\n",
    "- the keys must be unique"
   ]
  },
  {
   "cell_type": "code",
   "execution_count": 2,
   "id": "59114866",
   "metadata": {},
   "outputs": [
    {
     "name": "stdout",
     "output_type": "stream",
     "text": [
      "<class 'dict'>\n"
     ]
    }
   ],
   "source": [
    "phone_book = {'Mickey': '213-333-2341', 'Minnie': '510-540-2390', 'Goofy': '818-399-2763'}\n",
    "print(type(phone_book))"
   ]
  },
  {
   "cell_type": "markdown",
   "id": "635fedec",
   "metadata": {},
   "source": [
    "What is minnie's phone number"
   ]
  },
  {
   "cell_type": "code",
   "execution_count": 3,
   "id": "717ac653",
   "metadata": {},
   "outputs": [
    {
     "data": {
      "text/plain": [
       "'510-540-2390'"
      ]
     },
     "execution_count": 3,
     "metadata": {},
     "output_type": "execute_result"
    }
   ],
   "source": [
    "phone_book['Minnie']"
   ]
  },
  {
   "cell_type": "markdown",
   "id": "a10d9b0b",
   "metadata": {},
   "source": [
    "If you look for a key in the dictionary that is not there, you get an error:"
   ]
  },
  {
   "cell_type": "code",
   "execution_count": 4,
   "id": "063940ba",
   "metadata": {},
   "outputs": [
    {
     "ename": "KeyError",
     "evalue": "'Donald'",
     "output_type": "error",
     "traceback": [
      "\u001b[1;31m---------------------------------------------------------------------------\u001b[0m",
      "\u001b[1;31mKeyError\u001b[0m                                  Traceback (most recent call last)",
      "Input \u001b[1;32mIn [4]\u001b[0m, in \u001b[0;36m<cell line: 1>\u001b[1;34m()\u001b[0m\n\u001b[1;32m----> 1\u001b[0m \u001b[43mphone_book\u001b[49m\u001b[43m[\u001b[49m\u001b[38;5;124;43m'\u001b[39;49m\u001b[38;5;124;43mDonald\u001b[39;49m\u001b[38;5;124;43m'\u001b[39;49m\u001b[43m]\u001b[49m\n",
      "\u001b[1;31mKeyError\u001b[0m: 'Donald'"
     ]
    }
   ],
   "source": [
    "phone_book['Donald']"
   ]
  },
  {
   "cell_type": "markdown",
   "id": "8738961a",
   "metadata": {},
   "source": [
    "So to be safe, you need to verify that that a key is in the dictionary before using it:"
   ]
  },
  {
   "cell_type": "code",
   "execution_count": 5,
   "id": "2a6505fa",
   "metadata": {},
   "outputs": [
    {
     "name": "stdout",
     "output_type": "stream",
     "text": [
      "Donald is not in the dict\n"
     ]
    }
   ],
   "source": [
    "if 'Donald' in phone_book:\n",
    "   print(phone_book['Donald'])\n",
    "else:\n",
    "    print(f\"Donald is not in the dict\")"
   ]
  },
  {
   "cell_type": "markdown",
   "id": "d8a698bf",
   "metadata": {},
   "source": [
    "To get all the keys from the phone_book, but no values, you can use the keys method:"
   ]
  },
  {
   "cell_type": "code",
   "execution_count": 6,
   "id": "446a89d2",
   "metadata": {},
   "outputs": [
    {
     "data": {
      "text/plain": [
       "dict_keys(['Mickey', 'Minnie', 'Goofy'])"
      ]
     },
     "execution_count": 6,
     "metadata": {},
     "output_type": "execute_result"
    }
   ],
   "source": [
    "phone_book.keys()"
   ]
  },
  {
   "cell_type": "markdown",
   "id": "efac6fe2",
   "metadata": {},
   "source": [
    "If we want the keys store in a tuple"
   ]
  },
  {
   "cell_type": "code",
   "execution_count": 7,
   "id": "734dbca0",
   "metadata": {},
   "outputs": [
    {
     "data": {
      "text/plain": [
       "('Mickey', 'Minnie', 'Goofy')"
      ]
     },
     "execution_count": 7,
     "metadata": {},
     "output_type": "execute_result"
    }
   ],
   "source": [
    "tuple(phone_book.keys())"
   ]
  },
  {
   "cell_type": "markdown",
   "id": "ff9de4d9",
   "metadata": {},
   "source": [
    "Adding a new name to the phone_book is easy:"
   ]
  },
  {
   "cell_type": "code",
   "execution_count": 17,
   "id": "49190095",
   "metadata": {},
   "outputs": [],
   "source": [
    "phone_book['Donald'] = '415-638-4433'"
   ]
  },
  {
   "cell_type": "code",
   "execution_count": 15,
   "id": "8d94b796",
   "metadata": {},
   "outputs": [],
   "source": [
    "phone_book[\"Mike\"] = [1,2,3,4,5,6,7,'Foothill']"
   ]
  },
  {
   "cell_type": "markdown",
   "id": "5497a342",
   "metadata": {},
   "source": [
    "To print the whole phone_book, you can just print it directly:"
   ]
  },
  {
   "cell_type": "code",
   "execution_count": 16,
   "id": "f4d0473e",
   "metadata": {},
   "outputs": [
    {
     "data": {
      "text/plain": [
       "{'Mickey': '213-333-2341',\n",
       " 'Minnie': '510-540-2390',\n",
       " 'Goofy': '818-399-2763',\n",
       " 'donald': '415-638-4433',\n",
       " 'Donald': '415-638-4433',\n",
       " 'Mike': [1, 2, 3, 4, 5, 6, 7, 'Foothill']}"
      ]
     },
     "execution_count": 16,
     "metadata": {},
     "output_type": "execute_result"
    }
   ],
   "source": [
    "phone_book"
   ]
  },
  {
   "cell_type": "markdown",
   "id": "0004c96d",
   "metadata": {},
   "source": [
    "Or if you would like it in a certain format, use a for/in loop:"
   ]
  },
  {
   "cell_type": "code",
   "execution_count": 10,
   "id": "fce1f3ab",
   "metadata": {},
   "outputs": [
    {
     "name": "stdout",
     "output_type": "stream",
     "text": [
      "Mickey's phone number is 213-333-2341\n",
      "Minnie's phone number is 510-540-2390\n",
      "Goofy's phone number is 818-399-2763\n",
      "donald's phone number is 415-638-4433\n"
     ]
    }
   ],
   "source": [
    "for character in phone_book:\n",
    "   print(f\"{character}'s phone number is {phone_book[character]}\")"
   ]
  },
  {
   "cell_type": "code",
   "execution_count": 13,
   "id": "240e321e",
   "metadata": {},
   "outputs": [
    {
     "name": "stdout",
     "output_type": "stream",
     "text": [
      "Donald's phone number is 415-638-4433\n",
      "Goofy's phone number is 818-399-2763\n",
      "Mickey's phone number is 213-333-2341\n",
      "Minnie's phone number is 510-540-2390\n",
      "donald's phone number is 415-638-4433\n"
     ]
    }
   ],
   "source": [
    "for character in sorted(phone_book):\n",
    "    print(f\"{character}'s phone number is {phone_book[character]}\")"
   ]
  },
  {
   "cell_type": "markdown",
   "id": "fc93c976",
   "metadata": {},
   "source": [
    "QUESTION: What does the function call sorted(phone_book) return?"
   ]
  },
  {
   "cell_type": "code",
   "execution_count": 14,
   "id": "f11b47a2",
   "metadata": {},
   "outputs": [
    {
     "data": {
      "text/plain": [
       "['Donald', 'Goofy', 'Mickey', 'Minnie', 'donald']"
      ]
     },
     "execution_count": 14,
     "metadata": {},
     "output_type": "execute_result"
    }
   ],
   "source": [
    "sorted(phone_book)"
   ]
  },
  {
   "cell_type": "code",
   "execution_count": null,
   "id": "e5301e94",
   "metadata": {},
   "outputs": [],
   "source": []
  }
 ],
 "metadata": {
  "kernelspec": {
   "display_name": "Python 3 (ipykernel)",
   "language": "python",
   "name": "python3"
  },
  "language_info": {
   "codemirror_mode": {
    "name": "ipython",
    "version": 3
   },
   "file_extension": ".py",
   "mimetype": "text/x-python",
   "name": "python",
   "nbconvert_exporter": "python",
   "pygments_lexer": "ipython3",
   "version": "3.9.12"
  }
 },
 "nbformat": 4,
 "nbformat_minor": 5
}
