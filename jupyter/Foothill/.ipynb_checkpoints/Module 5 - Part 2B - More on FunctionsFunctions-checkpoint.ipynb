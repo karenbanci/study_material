{
 "cells": [
  {
   "cell_type": "markdown",
   "id": "d71b2ade-49b9-40dc-b284-9b1108c238c4",
   "metadata": {},
   "source": [
    "When creating a new function\n",
    "- Create the function signature\n",
    " - name(p1, p2)\n",
    " - return value"
   ]
  },
  {
   "cell_type": "code",
   "execution_count": 19,
   "id": "f95561e8-32b8-49e2-b84e-438c8333584f",
   "metadata": {},
   "outputs": [],
   "source": [
    "def add(y):\n",
    "#    global num1\n",
    "    num1 = 100\n",
    "    return (num1 + y)    "
   ]
  },
  {
   "cell_type": "code",
   "execution_count": 20,
   "id": "4ca517bb-b090-4590-bfe6-832e379f62fd",
   "metadata": {},
   "outputs": [
    {
     "name": "stdout",
     "output_type": "stream",
     "text": [
      "105\n",
      "4\n"
     ]
    }
   ],
   "source": [
    "num1 = 4\n",
    "num2 = 5\n",
    "\n",
    "print(add(num2))\n",
    "print(num1)"
   ]
  },
  {
   "cell_type": "code",
   "execution_count": 21,
   "id": "2fafcd3a-71c1-4625-9cd0-11feabd577da",
   "metadata": {},
   "outputs": [
    {
     "name": "stdin",
     "output_type": "stream",
     "text": [
      "Enter number of steps walked:  100\n"
     ]
    },
    {
     "name": "stdout",
     "output_type": "stream",
     "text": [
      "Feet: 300\n",
      "Calories: 5.0\n"
     ]
    }
   ],
   "source": [
    "def steps_to_feet(num_steps):\n",
    "    feet_per_step = 3\n",
    "    feet = num_steps * feet_per_step\n",
    "    return feet\n",
    "\n",
    "def steps_to_calories(num_steps):\n",
    "    steps_per_minute = 70.0\n",
    "    calories_per_minute_walking = 3.5\n",
    "\n",
    "    minutes = num_steps / steps_per_minute\n",
    "    calories = minutes * calories_per_minute_walking\n",
    "    return calories\n",
    "\n",
    "steps = int(input('Enter number of steps walked: '))\n",
    "\n",
    "feet = steps_to_feet(steps)\n",
    "print('Feet:', feet)\n",
    "\n",
    "calories = steps_to_calories(steps)\n",
    "print('Calories:', calories)"
   ]
  },
  {
   "cell_type": "code",
   "execution_count": 24,
   "id": "66871857-db93-40da-9d97-e7eee4aa3614",
   "metadata": {},
   "outputs": [
    {
     "name": "stdin",
     "output_type": "stream",
     "text": [
      "Enter number of steps walked:  100\n"
     ]
    },
    {
     "name": "stdout",
     "output_type": "stream",
     "text": [
      "Feet: 300\n",
      "Calories: None\n"
     ]
    }
   ],
   "source": [
    "def steps_to_feet(num_steps):\n",
    "    feet_per_step = 3\n",
    "    feet = num_steps * feet_per_step\n",
    "    return feet\n",
    "\n",
    "def steps_to_calories(num_steps):\n",
    "    pass\n",
    "\n",
    "steps = int(input('Enter number of steps walked: '))\n",
    "\n",
    "feet = steps_to_feet(steps)\n",
    "print('Feet:', feet)\n",
    "\n",
    "calories = steps_to_calories(steps)\n",
    "print('Calories:', calories)"
   ]
  },
  {
   "cell_type": "markdown",
   "id": "efa44349-c86a-40f6-a37e-168e8a8fcb59",
   "metadata": {},
   "source": [
    "# Container Objects\n",
    "## Sequence Objects"
   ]
  },
  {
   "cell_type": "markdown",
   "id": "68f79137-22a3-4b3a-b888-4f3d47a8027f",
   "metadata": {},
   "source": [
    "Container object - contains other objects\n",
    "- list  sequence - mutable\n",
    "- tuple sequence - immutable\n",
    "- set  (uses hashes) do not maintain sequence\n",
    "- dict  (uses hashes) do not maintain sequence"
   ]
  },
  {
   "cell_type": "code",
   "execution_count": 37,
   "id": "6423f30b-511e-4f83-9eda-1ea76dcb94f8",
   "metadata": {},
   "outputs": [
    {
     "data": {
      "text/plain": [
       "4"
      ]
     },
     "execution_count": 37,
     "metadata": {},
     "output_type": "execute_result"
    }
   ],
   "source": [
    "l = [1, 3, 5, 6]\n",
    "len(l)"
   ]
  },
  {
   "cell_type": "code",
   "execution_count": 32,
   "id": "dc47d951-8cf1-4534-9d84-849438b8cd13",
   "metadata": {},
   "outputs": [
    {
     "name": "stdout",
     "output_type": "stream",
     "text": [
      "[1, 3, 5, 6, 7, 7, 7]\n"
     ]
    }
   ],
   "source": [
    "l.append(7)\n",
    "print(l)"
   ]
  },
  {
   "cell_type": "code",
   "execution_count": 27,
   "id": "7f16a3a7-67bd-4ac8-b4f9-e2dd646f3b6c",
   "metadata": {},
   "outputs": [
    {
     "data": {
      "text/plain": [
       "(1, 3, 5, 6)"
      ]
     },
     "execution_count": 27,
     "metadata": {},
     "output_type": "execute_result"
    }
   ],
   "source": [
    "(1, 3, 5, 6)"
   ]
  },
  {
   "cell_type": "code",
   "execution_count": 35,
   "id": "67cc230a-8f9a-491f-a564-4452fb28c640",
   "metadata": {},
   "outputs": [
    {
     "name": "stdout",
     "output_type": "stream",
     "text": [
      "(1, 3, 5, 6)\n"
     ]
    }
   ],
   "source": [
    "t = (1, 3, 5, 6)\n",
    "print(t)"
   ]
  },
  {
   "cell_type": "code",
   "execution_count": 34,
   "id": "f1cdcee0-7bf5-4129-b10a-9dc5f2fa8db5",
   "metadata": {},
   "outputs": [
    {
     "ename": "AttributeError",
     "evalue": "'tuple' object has no attribute 'append'",
     "output_type": "error",
     "traceback": [
      "\u001b[1;31m---------------------------------------------------------------------------\u001b[0m",
      "\u001b[1;31mAttributeError\u001b[0m                            Traceback (most recent call last)",
      "Input \u001b[1;32mIn [34]\u001b[0m, in \u001b[0;36m<cell line: 1>\u001b[1;34m()\u001b[0m\n\u001b[1;32m----> 1\u001b[0m \u001b[43mt\u001b[49m\u001b[38;5;241;43m.\u001b[39;49m\u001b[43mappend\u001b[49m(\u001b[38;5;241m7\u001b[39m)\n",
      "\u001b[1;31mAttributeError\u001b[0m: 'tuple' object has no attribute 'append'"
     ]
    }
   ],
   "source": [
    "t.append(7)"
   ]
  },
  {
   "cell_type": "code",
   "execution_count": 38,
   "id": "9647e207-8d94-4f0c-9753-ae0e279155f7",
   "metadata": {},
   "outputs": [
    {
     "data": {
      "text/plain": [
       "4"
      ]
     },
     "execution_count": 38,
     "metadata": {},
     "output_type": "execute_result"
    }
   ],
   "source": [
    "len(l)"
   ]
  },
  {
   "cell_type": "code",
   "execution_count": 40,
   "id": "b5a5f2c1-2cbe-4360-b87f-41590daf21ad",
   "metadata": {},
   "outputs": [
    {
     "data": {
      "text/plain": [
       "4"
      ]
     },
     "execution_count": 40,
     "metadata": {},
     "output_type": "execute_result"
    }
   ],
   "source": [
    "len([\"hello\", 2.0, 5, [10, 20, 30]])"
   ]
  },
  {
   "cell_type": "code",
   "execution_count": null,
   "id": "f37e4f4a-f669-4570-8047-b3bef5106b37",
   "metadata": {},
   "outputs": [],
   "source": []
  }
 ],
 "metadata": {
  "kernelspec": {
   "display_name": "Python 3 (ipykernel)",
   "language": "python",
   "name": "python3"
  },
  "language_info": {
   "codemirror_mode": {
    "name": "ipython",
    "version": 3
   },
   "file_extension": ".py",
   "mimetype": "text/x-python",
   "name": "python",
   "nbconvert_exporter": "python",
   "pygments_lexer": "ipython3",
   "version": "3.9.12"
  }
 },
 "nbformat": 4,
 "nbformat_minor": 5
}
