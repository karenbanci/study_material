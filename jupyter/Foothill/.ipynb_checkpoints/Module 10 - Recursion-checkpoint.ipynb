{
 "cells": [
  {
   "cell_type": "markdown",
   "id": "7f5be591",
   "metadata": {},
   "source": [
    "# Recursion\n",
    "- A recursive solution involves a function calling itself\n",
    "- There must have a base case to signal the end of the recursive calls\n",
    "- The recursive calls must take the recursive functions toward the base case"
   ]
  },
  {
   "cell_type": "markdown",
   "id": "935e79b5",
   "metadata": {},
   "source": [
    "## Factorial   \n",
    "factorial of n\n",
    "- n!\n",
    " - n * (n-1)!\n",
    "-  for n = 4\n",
    " - n! = 4 * 3 * 2 * 1\n",
    " - n! = 24"
   ]
  },
  {
   "cell_type": "markdown",
   "id": "e1e6f664",
   "metadata": {},
   "source": [
    "## factorial:  iterative solution"
   ]
  },
  {
   "cell_type": "code",
   "execution_count": 5,
   "id": "bdc2ae7f",
   "metadata": {},
   "outputs": [
    {
     "name": "stdout",
     "output_type": "stream",
     "text": [
      "Enter number: 11\n",
      "Factorial of the number is: 39916800\n"
     ]
    }
   ],
   "source": [
    "n=int(input(\"Enter number: \"))\n",
    "fact=1\n",
    "while(n > 0):\n",
    "    fact = fact * n\n",
    "    n = n - 1\n",
    "print(f\"Factorial of the number is: {fact}\")"
   ]
  },
  {
   "cell_type": "markdown",
   "id": "7e6b8cbb",
   "metadata": {},
   "source": [
    "## factorial:  recursive solution"
   ]
  },
  {
   "cell_type": "code",
   "execution_count": 6,
   "id": "26dc134f",
   "metadata": {},
   "outputs": [
    {
     "name": "stdout",
     "output_type": "stream",
     "text": [
      "Please enter an interger: 4\n",
      "The factorial of 4 is 24\n"
     ]
    }
   ],
   "source": [
    "\"\"\"Factorial of a number using recursion\"\"\"\n",
    "\n",
    "def recur_factorial(n):\n",
    "    # base case\n",
    "    if n == 1:\n",
    "        return n\n",
    "    else:\n",
    "        # The recursive call which decrements n toward the base case\n",
    "        return n * recur_factorial(n - 1)\n",
    "\n",
    "num = int(input(\"Please enter an interger: \"))\n",
    "\n",
    "# check if the number is negative\n",
    "if num < 0:\n",
    "    print(\"Sorry, factorial does not exist for negative numbers\")\n",
    "elif num == 0:\n",
    "    print(\"The factorial of 0 is 1\")\n",
    "else:\n",
    "    # The original call\n",
    "    print(f\"The factorial of {num} is {recur_factorial(num)}\")"
   ]
  },
  {
   "cell_type": "markdown",
   "id": "5b9643c8",
   "metadata": {},
   "source": [
    "## A Fibonacci sequence is the integer sequence of 0, 1, 1, 2, 3, 5, 8....    \n",
    "- The first two terms are 0 and 1. \n",
    "- All other terms are obtained by adding the preceding two terms. \n",
    "- This means to say the nth term is the sum of (n-1)th and (n-2)th term"
   ]
  },
  {
   "cell_type": "markdown",
   "id": "376633fa",
   "metadata": {},
   "source": [
    "## Fibonacci sequence"
   ]
  },
  {
   "cell_type": "markdown",
   "id": "b4056255",
   "metadata": {},
   "source": [
    "### The iterative solution"
   ]
  },
  {
   "cell_type": "code",
   "execution_count": 9,
   "id": "0476f75a",
   "metadata": {},
   "outputs": [
    {
     "name": "stdout",
     "output_type": "stream",
     "text": [
      "Enter the number of terms in the sequence: 9\n",
      "Fibonacci sequence of length 9 = 0 1 1 2 3 5 8 13 21 "
     ]
    }
   ],
   "source": [
    "\"\"\"Fibonacci series\"\"\"\n",
    "\n",
    "# The initial numbers in the series\n",
    "a = 0\n",
    "b = 1\n",
    "while True:\n",
    "    n = int(input(\"Enter the number of terms in the sequence: \"))\n",
    "    if n <= 0:\n",
    "        print(\"Invalid input ! Please input a positive value\")\n",
    "    else:\n",
    "        break\n",
    "    \n",
    "print(f\"Fibonacci sequence of length {n} = {a} {b}\", end=' ')\n",
    "while(n - 2):      \n",
    "    c = a + b\n",
    "    a, b = b, c\n",
    "    print(c, end=\" \")\n",
    "    n = n - 1"
   ]
  },
  {
   "cell_type": "markdown",
   "id": "eda5b780",
   "metadata": {},
   "source": [
    "### The recursive solution"
   ]
  },
  {
   "cell_type": "code",
   "execution_count": 12,
   "id": "244cc6de",
   "metadata": {},
   "outputs": [
    {
     "name": "stdout",
     "output_type": "stream",
     "text": [
      "Fibonacci sequence: 0 1 1 2 3 5 8 13 21 34 55 "
     ]
    }
   ],
   "source": [
    "\"\"\"Fibonacci sequence\"\"\"\n",
    "\n",
    "def recursive_fibonacci(n):\n",
    "  if n <= 1:\n",
    "      return n\n",
    "  else:\n",
    "      return(recursive_fibonacci(n-1) + recursive_fibonacci(n-2))\n",
    " \n",
    "n_terms = 11\n",
    " \n",
    "# check if the number of terms is valid\n",
    "if n_terms <= 0:\n",
    "  print(\"Invalid input ! Please input a positive value\")\n",
    "else:\n",
    "  print(\"Fibonacci sequence:\", end = \" \")\n",
    "for i in range(n_terms):\n",
    "    print(recursive_fibonacci(i), end = \" \")"
   ]
  },
  {
   "cell_type": "code",
   "execution_count": null,
   "id": "62c63e2c",
   "metadata": {},
   "outputs": [],
   "source": []
  },
  {
   "cell_type": "code",
   "execution_count": null,
   "id": "6453be1f",
   "metadata": {},
   "outputs": [],
   "source": []
  },
  {
   "cell_type": "markdown",
   "id": "66a21dab",
   "metadata": {},
   "source": [
    "decimal (10 digits) 0,1,2,3,4,5,5,7,8,9    10\n",
    "binary  (2 digits)           0, 1\n",
    "\n",
    "125    1x 100  + 2x10 + 1*5\n",
    "\n",
    "01  0 * 2   + 1 * 1\n",
    "\n",
    "1111  = 15 \n",
    "\n",
    "Hexadecimal 0,1,2,3,4,5,6,7,8,9,a,b,c,d,e,f  (16 values   0 to 15,   0000 - 1111)\n",
    "\n",
    "10  1010  a\n",
    "11  1011  b\n",
    "12  1100  c\n",
    "13  1101  d \n",
    "14  1110  e\n",
    "15  1111  f\n",
    "\n",
    "20        f4\n",
    "\n",
    "    0010 0000  20\n",
    "2**5\n",
    "\n",
    "    0100 0000     2**0  = 1\n",
    "                  2**3  = 8"
   ]
  }
 ],
 "metadata": {
  "kernelspec": {
   "display_name": "Python 3 (ipykernel)",
   "language": "python",
   "name": "python3"
  },
  "language_info": {
   "codemirror_mode": {
    "name": "ipython",
    "version": 3
   },
   "file_extension": ".py",
   "mimetype": "text/x-python",
   "name": "python",
   "nbconvert_exporter": "python",
   "pygments_lexer": "ipython3",
   "version": "3.9.12"
  }
 },
 "nbformat": 4,
 "nbformat_minor": 5
}
