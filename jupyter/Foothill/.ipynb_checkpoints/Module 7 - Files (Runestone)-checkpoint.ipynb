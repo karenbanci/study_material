{
 "cells": [
  {
   "cell_type": "code",
   "execution_count": null,
   "id": "8a24e5a9",
   "metadata": {},
   "outputs": [],
   "source": [
    "fileref = open(\"ccdata.txt\", \"r\")\n",
    "print(type(fileref))\n",
    "fileref.close()"
   ]
  },
  {
   "cell_type": "code",
   "execution_count": null,
   "id": "4cd11730",
   "metadata": {},
   "outputs": [],
   "source": [
    "ccfile = open(\"ccdata.txt\", \"r\")\n",
    "\n",
    "for line in ccfile:\n",
    "    values = line_num.split()\n",
    "#    print(line, values)\n",
    "    print('In', values[0], 'the average temp. was', values[1], '°C and CO2 emmisions were', values[2], 'gigatons.')\n",
    "\n",
    "ccfile.close()"
   ]
  },
  {
   "cell_type": "code",
   "execution_count": null,
   "id": "70492997",
   "metadata": {},
   "outputs": [],
   "source": [
    "infile = open(\"ccdata.txt\", \"r\")\n",
    "line = infile.readline()\n",
    "print(line)\n",
    "while line:\n",
    "    values = line.split()\n",
    "    print('In', values[0], 'the average temp. was', values[1], '°C and CO2 emmisions were', values[2], 'gigatons.')\n",
    "    line = infile.readline()\n",
    "\n",
    "infile.close()"
   ]
  },
  {
   "cell_type": "code",
   "execution_count": null,
   "id": "3ade4ed3",
   "metadata": {},
   "outputs": [],
   "source": [
    "ccfile = open(\"ccdata.txt\", \"r\")\n",
    "\n",
    "for x in ccfile:\n",
    "    values = x.split()\n",
    "    print('In', values[0], 'the average temp. was', values[1], '°C and CO2 emmisions were', values[2], 'gigatons.')\n",
    "\n",
    "ccfile.close()"
   ]
  },
  {
   "cell_type": "code",
   "execution_count": null,
   "id": "ccc27100",
   "metadata": {},
   "outputs": [],
   "source": [
    "infile = open(\"ccdata.txt\", \"r\")\n",
    "aline = infile.readline()\n",
    "print(\"Year\\tEmmision\\n\")\n",
    "idx = 0\n",
    "print(aline)\n",
    "while aline:\n",
    "    idx +=1\n",
    "    print(idx)\n",
    "    items = aline.split()\n",
    "    dataline = items[0] + '\\t' + items[2]\n",
    "    print(dataline)\n",
    "    aline = infile.readline()\n",
    "print(aline)\n",
    "infile.close()\n"
   ]
  },
  {
   "cell_type": "code",
   "execution_count": null,
   "id": "ab4952dc",
   "metadata": {},
   "outputs": [],
   "source": [
    "infile = open(\"ccdata.txt\", \"r\")\n",
    "line = infile.readline()\n",
    "print(line)\n",
    "#while line:\n",
    "#    values = line.split()\n",
    "#    print('In', values[0], 'the average temp. was', values[1], '°C and CO2 emmisions were', values[2], 'gigatons.')\n",
    "#    line = infile.readline()\n",
    "\n",
    "#infile.close()"
   ]
  },
  {
   "cell_type": "code",
   "execution_count": null,
   "id": "21638d53",
   "metadata": {},
   "outputs": [],
   "source": [
    "line = infile.readline()\n",
    "print(line)"
   ]
  },
  {
   "cell_type": "code",
   "execution_count": null,
   "id": "35e6da99",
   "metadata": {},
   "outputs": [],
   "source": [
    "infile = open(\"ccdata.txt\", \"r\")\n",
    "line = infile.readlines()\n",
    "print(line)\n",
    "#while line:\n",
    "#    values = line.split()\n",
    "#    print('In', values[0], 'the average temp. was', values[1], '°C and CO2 emmisions were', values[2], 'gigatons.')\n",
    "#    line = infile.readline()\n",
    "\n",
    "#infile.close()"
   ]
  },
  {
   "cell_type": "code",
   "execution_count": null,
   "id": "3c49b712",
   "metadata": {},
   "outputs": [],
   "source": [
    "infile = open(\"ccdata.txt\", \"r\")\n",
    "line = infile.readlines()\n",
    "for item in line:\n",
    "    print(len(item))\n",
    "    print(item,end =\"\")"
   ]
  },
  {
   "cell_type": "code",
   "execution_count": null,
   "id": "a067f18e",
   "metadata": {},
   "outputs": [],
   "source": [
    "infile = open(\"ccdata.txt\", \"r\")\n",
    "aline = infile.readline()\n",
    "aline"
   ]
  },
  {
   "cell_type": "code",
   "execution_count": null,
   "id": "df5fe08e",
   "metadata": {},
   "outputs": [],
   "source": [
    "infile = open(\"ccdata.txt\", \"r\")\n",
    "linelist = infile.readlines()\n",
    "print(type(linelist))\n",
    "print(len(linelist))\n",
    "print(linelist)"
   ]
  },
  {
   "cell_type": "code",
   "execution_count": null,
   "id": "428845b1",
   "metadata": {},
   "outputs": [],
   "source": [
    "infile = open(\"ccdata.txt\", \"r\")\n",
    "filestring = infile.read()\n",
    "print(len(filestring))\n",
    "print(filestring)"
   ]
  },
  {
   "cell_type": "code",
   "execution_count": null,
   "id": "f8e5ef27",
   "metadata": {},
   "outputs": [],
   "source": [
    "print(filestring[:74])"
   ]
  },
  {
   "cell_type": "code",
   "execution_count": 3,
   "id": "34cf8f35",
   "metadata": {},
   "outputs": [
    {
     "name": "stdout",
     "output_type": "stream",
     "text": [
      "1850                  -0.37                                       2.24E-7\n",
      "\n"
     ]
    }
   ],
   "source": [
    "infile = open(\"ccdata.txt\", \"r\")\n",
    "line = infile.readline()\n",
    "print(line)\n"
   ]
  },
  {
   "cell_type": "code",
   "execution_count": 22,
   "id": "d4329817",
   "metadata": {},
   "outputs": [
    {
     "name": "stdout",
     "output_type": "stream",
     "text": [
      "\n"
     ]
    }
   ],
   "source": [
    "line = infile.readline()\n",
    "print(line)"
   ]
  },
  {
   "cell_type": "code",
   "execution_count": 40,
   "id": "01b97af0",
   "metadata": {},
   "outputs": [
    {
     "name": "stdout",
     "output_type": "stream",
     "text": [
      "1850\t2.24E-7\n",
      "1860\t3.94E-7\n",
      "1870\t6.6E-7\n",
      "1880\t1.1\n",
      "1890\t1.72\n",
      "1900\t2.38\n",
      "1910\t3.34\n",
      "1920\t4.01\n",
      "1930\t4.53\n",
      "1940\t5.5\n",
      "1950\t6.63\n",
      "1960\t10.5\n",
      "1970\t16\n",
      "1980\t20.3\n",
      "1990\t22.6\n",
      "2000\t24.9\n",
      "2010\t32.7\n",
      "2019\t33.3\n"
     ]
    }
   ],
   "source": [
    "infile = open(\"ccdata.txt\", \"r\")\n",
    "outfile = open(\"emissiondata.txt\", \"w\")\n",
    "\n",
    "aline = infile.readline()\n",
    "outfile.write(\"Year \\tEmmision\\n\")\n",
    "while aline:\n",
    "    items = aline.split()\n",
    "    dataline = items[0] + '\\t' + items[2]\n",
    "    outfile.write(dataline + '\\n')\n",
    "    outfile.write(dataline)\n",
    "    aline = infile.readline()\n",
    "    print(dataline)\n",
    "infile.close()\n",
    "outfile.close()"
   ]
  },
  {
   "cell_type": "code",
   "execution_count": 43,
   "id": "8be53ec7",
   "metadata": {},
   "outputs": [
    {
     "name": "stdout",
     "output_type": "stream",
     "text": [
      "<_io.TextIOWrapper name='mydata.txt' mode='r' encoding='cp1252'>\n",
      "1 2 3\n",
      "\n",
      "4 5 6\n",
      "<_io.TextIOWrapper name='mydata.txt' mode='r' encoding='cp1252'>\n"
     ]
    }
   ],
   "source": [
    "with open('mydata.txt') as md:\n",
    "    print(md)\n",
    "    for line in md:\n",
    "        print(line)\n",
    "print(md)"
   ]
  },
  {
   "cell_type": "code",
   "execution_count": null,
   "id": "fc37c24b",
   "metadata": {},
   "outputs": [],
   "source": [
    "infile = open(\"ccdata.txt\", \"r\")"
   ]
  },
  {
   "cell_type": "code",
   "execution_count": 45,
   "id": "2d1fbc55",
   "metadata": {},
   "outputs": [
    {
     "name": "stdout",
     "output_type": "stream",
     "text": [
      "16\n"
     ]
    }
   ],
   "source": [
    "def add(a,b):\n",
    "    return a+b\n",
    "\n",
    "print(add(5 + 1, 10))\n"
   ]
  },
  {
   "cell_type": "code",
   "execution_count": 46,
   "id": "b18d2538",
   "metadata": {},
   "outputs": [
    {
     "data": {
      "text/plain": [
       "<function __main__.add(a, b)>"
      ]
     },
     "execution_count": 46,
     "metadata": {},
     "output_type": "execute_result"
    }
   ],
   "source": [
    "add"
   ]
  },
  {
   "cell_type": "code",
   "execution_count": 58,
   "id": "6b92213d",
   "metadata": {},
   "outputs": [
    {
     "ename": "IndentationError",
     "evalue": "expected an indented block (2627063992.py, line 4)",
     "output_type": "error",
     "traceback": [
      "\u001b[1;36m  Input \u001b[1;32mIn [58]\u001b[1;36m\u001b[0m\n\u001b[1;33m    pass\u001b[0m\n\u001b[1;37m    ^\u001b[0m\n\u001b[1;31mIndentationError\u001b[0m\u001b[1;31m:\u001b[0m expected an indented block\n"
     ]
    }
   ],
   "source": [
    "x = 20\n",
    "no_errors = True\n",
    "if (x > 17 and no_errors):\n",
    "    pass\n"
   ]
  },
  {
   "cell_type": "code",
   "execution_count": 67,
   "id": "c2cb5134",
   "metadata": {},
   "outputs": [],
   "source": [
    "def div():\n",
    "    a = 5\n",
    "    b = 10\n",
    "    return a/b"
   ]
  },
  {
   "cell_type": "code",
   "execution_count": 68,
   "id": "89d39773",
   "metadata": {},
   "outputs": [
    {
     "data": {
      "text/plain": [
       "0.5"
      ]
     },
     "execution_count": 68,
     "metadata": {},
     "output_type": "execute_result"
    }
   ],
   "source": [
    "div()"
   ]
  },
  {
   "cell_type": "code",
   "execution_count": null,
   "id": "7234fc88",
   "metadata": {},
   "outputs": [],
   "source": []
  }
 ],
 "metadata": {
  "kernelspec": {
   "display_name": "Python 3 (ipykernel)",
   "language": "python",
   "name": "python3"
  },
  "language_info": {
   "codemirror_mode": {
    "name": "ipython",
    "version": 3
   },
   "file_extension": ".py",
   "mimetype": "text/x-python",
   "name": "python",
   "nbconvert_exporter": "python",
   "pygments_lexer": "ipython3",
   "version": "3.9.12"
  }
 },
 "nbformat": 4,
 "nbformat_minor": 5
}
