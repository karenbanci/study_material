{
 "cells": [
  {
   "cell_type": "markdown",
   "metadata": {},
   "source": [
    "# October 31, 2022"
   ]
  },
  {
   "cell_type": "code",
   "execution_count": null,
   "metadata": {},
   "outputs": [],
   "source": [
    "mylist = [1,2,3,4]\n",
    "yourlist = []\n",
    "\n",
    "yourlist1 = [item ** 2 for item in mylist if item % 2 ==1]\n",
    "\n",
    "print(yourlist1)"
   ]
  },
  {
   "cell_type": "code",
   "execution_count": null,
   "metadata": {},
   "outputs": [],
   "source": [
    "name = \"foothill\"\"\n",
    "yourlist = []\n",
    "yourlist = [ltr for ltr in name]\n",
    "print(type(yourlist))\n",
    "\n",
    "print(yourlist)"
   ]
  },
  {
   "cell_type": "code",
   "execution_count": null,
   "metadata": {},
   "outputs": [],
   "source": [
    "#unique items\n",
    "\n",
    "name = \"foothill\"\"\n",
    "yourlist = []\n",
    "yourlist = {ltr for ltr in name}\n",
    "\n",
    "print(type(yourlist))\n",
    "print(yourlist)"
   ]
  },
  {
   "cell_type": "code",
   "execution_count": null,
   "metadata": {},
   "outputs": [],
   "source": [
    "mylist = [1,2,3,4]\n",
    "yourlist = []\n",
    "\n",
    "for item in mylist:\n",
    "    yourlist.append(item ** 2)\n",
    "\n",
    "print(yourlist)\n",
    "\n",
    "yourlist1 = [item ** 2 for item in mylist if item % 2 ==1]\n",
    "print(yourlist1)"
   ]
  },
  {
   "cell_type": "code",
   "execution_count": null,
   "metadata": {},
   "outputs": [],
   "source": [
    "a = \"College\"\n",
    "b = \"Foothill\"\n",
    "c = \"Los Altos\"\n",
    "\n",
    "a,b,c = b,a,c\n",
    "print(a,b,c)"
   ]
  },
  {
   "cell_type": "code",
   "execution_count": null,
   "metadata": {},
   "outputs": [],
   "source": []
  },
  {
   "cell_type": "code",
   "execution_count": null,
   "metadata": {},
   "outputs": [],
   "source": []
  },
  {
   "cell_type": "code",
   "execution_count": null,
   "metadata": {},
   "outputs": [],
   "source": []
  },
  {
   "cell_type": "code",
   "execution_count": null,
   "metadata": {},
   "outputs": [],
   "source": []
  },
  {
   "cell_type": "code",
   "execution_count": null,
   "metadata": {},
   "outputs": [],
   "source": []
  },
  {
   "cell_type": "code",
   "execution_count": null,
   "metadata": {},
   "outputs": [],
   "source": []
  }
 ],
 "metadata": {
  "kernelspec": {
   "display_name": "Python (Pyodide)",
   "language": "python",
   "name": "python"
  },
  "language_info": {
   "codemirror_mode": {
    "name": "python",
    "version": 3
   },
   "file_extension": ".py",
   "mimetype": "text/x-python",
   "name": "python",
   "nbconvert_exporter": "python",
   "pygments_lexer": "ipython3",
   "version": "3.8"
  }
 },
 "nbformat": 4,
 "nbformat_minor": 4
}
