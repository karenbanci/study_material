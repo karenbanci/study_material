{
 "cells": [
  {
   "cell_type": "markdown",
   "metadata": {},
   "source": [
    "# October 19,2022"
   ]
  },
  {
   "cell_type": "code",
   "execution_count": null,
   "metadata": {},
   "outputs": [],
   "source": [
    "type(9//5) == int\n",
    "type(9.0//5) == int\n"
   ]
  },
  {
   "cell_type": "code",
   "execution_count": null,
   "metadata": {},
   "outputs": [],
   "source": [
    "name = \"Mike\"\n",
    "\n",
    "assert type(name == str)"
   ]
  },
  {
   "cell_type": "code",
   "execution_count": null,
   "metadata": {},
   "outputs": [],
   "source": [
    "lst = ['a', 'b', 'c', 15]\n",
    "first_type = type(lst[3])\n",
    "print(first_type)"
   ]
  },
  {
   "cell_type": "code",
   "execution_count": null,
   "metadata": {},
   "outputs": [],
   "source": []
  },
  {
   "cell_type": "code",
   "execution_count": null,
   "metadata": {},
   "outputs": [],
   "source": [
    "# create a window and a turtle\n",
    "\n",
    "while the turtle is still in the window:\n",
    "    generate a random number between 0 and 1\n",
    "    if the number == 0 (heads):\n",
    "        turn left\n",
    "    else:\n",
    "        turn right\n",
    "    move the turtle forward 50"
   ]
  },
  {
   "cell_type": "code",
   "execution_count": null,
   "metadata": {},
   "outputs": [],
   "source": [
    "def isInScreen(wn,t):\n",
    "    leftBound = -(wn.window_width() / 2)\n",
    "    rightBound = wn.window_width() / 2\n",
    "    topBound = wn.window_height() / 2\n",
    "    bottomBound = -(wn.window_height() / 2)\n",
    "\n",
    "    turtleX = t.xcor()\n",
    "    turtleY = t.ycor()\n",
    "\n",
    "    stillIn = True\n",
    "    if turtleX > rightBound or turtleX < leftBound:\n",
    "        stillIn = False\n",
    "    if turtleY > topBound or turtleY < bottomBound:\n",
    "        stillIn = False\n",
    "\n",
    "    return stillIn"
   ]
  },
  {
   "cell_type": "code",
   "execution_count": null,
   "metadata": {},
   "outputs": [],
   "source": [
    "better =  1/2 * (approx + n/approx)"
   ]
  },
  {
   "cell_type": "markdown",
   "metadata": {},
   "source": [
    "# October 24, 2022"
   ]
  },
  {
   "cell_type": "markdown",
   "metadata": {},
   "source": [
    "When creating a new function\n",
    "- Create the function signature\n",
    "- name (p1, p2)\n",
    "- return value"
   ]
  },
  {
   "cell_type": "code",
   "execution_count": null,
   "metadata": {},
   "outputs": [],
   "source": [
    "def add(x, y):\n",
    "    x = 100\n",
    "    return (x + y)"
   ]
  },
  {
   "cell_type": "code",
   "execution_count": null,
   "metadata": {},
   "outputs": [],
   "source": [
    "num1 = 4\n",
    "num2 = 5\n",
    "\n",
    "print(add(num1, num2))"
   ]
  },
  {
   "cell_type": "code",
   "execution_count": 1,
   "metadata": {},
   "outputs": [
    {
     "ename": "<class 'TypeError'>",
     "evalue": "int() argument must be a string, a bytes-like object or a real number, not 'Future'",
     "output_type": "error",
     "traceback": [
      "\u001b[0;31m---------------------------------------------------------------------------\u001b[0m",
      "\u001b[0;31mTypeError\u001b[0m                                 Traceback (most recent call last)",
      "Cell \u001b[0;32mIn [1], line 9\u001b[0m\n\u001b[1;32m      6\u001b[0m \u001b[38;5;28;01mdef\u001b[39;00m \u001b[38;5;21msteps_to_calories\u001b[39m(num_steps):\n\u001b[1;32m      7\u001b[0m     \u001b[38;5;28;01mpass\u001b[39;00m  \n\u001b[0;32m----> 9\u001b[0m steps \u001b[38;5;241m=\u001b[39m \u001b[38;5;28;43mint\u001b[39;49m\u001b[43m(\u001b[49m\u001b[38;5;28;43minput\u001b[39;49m\u001b[43m(\u001b[49m\u001b[38;5;124;43m'\u001b[39;49m\u001b[38;5;124;43mEnter number of steps walked: \u001b[39;49m\u001b[38;5;124;43m'\u001b[39;49m\u001b[43m)\u001b[49m\u001b[43m)\u001b[49m\n\u001b[1;32m     11\u001b[0m feet \u001b[38;5;241m=\u001b[39m steps_to_feet(steps)\n\u001b[1;32m     12\u001b[0m \u001b[38;5;28mprint\u001b[39m(\u001b[38;5;124m'\u001b[39m\u001b[38;5;124mFeet:\u001b[39m\u001b[38;5;124m'\u001b[39m, feet)\n",
      "\u001b[0;31mTypeError\u001b[0m: int() argument must be a string, a bytes-like object or a real number, not 'Future'"
     ]
    },
    {
     "name": "stdin",
     "output_type": "stream",
     "text": [
      "Enter number of steps walked:  2\n"
     ]
    }
   ],
   "source": [
    "def steps_to_feet(num_steps):\n",
    "    feet_per_step = 3\n",
    "    feet = num_steps * feet_per_step\n",
    "    return feet\n",
    "\n",
    "def steps_to_calories(num_steps):\n",
    "    pass  \n",
    "\n",
    "steps = input('Enter number of steps walked: ')\n",
    "\n",
    "feet = steps_to_feet(steps)\n",
    "print('Feet:', feet)\n",
    "\n",
    "calories = steps_to_calories(steps)\n",
    "print('Calories:', calories)"
   ]
  },
  {
   "cell_type": "markdown",
   "metadata": {},
   "source": [
    "### Container Object"
   ]
  },
  {
   "cell_type": "markdown",
   "metadata": {},
   "source": [
    "Container object - contains other objects\n",
    "- list sequence\n",
    "- tuple sequence\n",
    "- set (uses hashes) do not maintain sequence\n",
    "- dict (uses hashes) do not maintain sequence\n"
   ]
  },
  {
   "cell_type": "code",
   "execution_count": 4,
   "metadata": {},
   "outputs": [],
   "source": [
    "list = [1,3,5,6]"
   ]
  },
  {
   "cell_type": "markdown",
   "metadata": {},
   "source": [
    "- lists are mutable\n",
    "- tuple are not mutable ('tuple' object has no attribute 'append')\n"
   ]
  },
  {
   "cell_type": "code",
   "execution_count": 7,
   "metadata": {},
   "outputs": [
    {
     "name": "stdout",
     "output_type": "stream",
     "text": [
      "[1, 3, 5, 6, 7, 7, 7]\n"
     ]
    }
   ],
   "source": [
    "list.append(7)\n",
    "print(list)"
   ]
  },
  {
   "cell_type": "code",
   "execution_count": 8,
   "metadata": {},
   "outputs": [
    {
     "name": "stdout",
     "output_type": "stream",
     "text": [
      "(1, 3, 5, 6)\n"
     ]
    }
   ],
   "source": [
    "tuple = (1,3,5,6)\n",
    "print(tuple)"
   ]
  },
  {
   "cell_type": "code",
   "execution_count": 11,
   "metadata": {},
   "outputs": [
    {
     "data": {
      "text/plain": [
       "4"
      ]
     },
     "execution_count": 11,
     "metadata": {},
     "output_type": "execute_result"
    }
   ],
   "source": [
    "len([\"helo\", 5.5, 6, [10,20]])"
   ]
  },
  {
   "cell_type": "markdown",
   "metadata": {},
   "source": [
    "- there is a sublist into the list\n",
    "len([\"helo\", 5.5, 6, [10,20]])"
   ]
  },
  {
   "cell_type": "code",
   "execution_count": 12,
   "metadata": {},
   "outputs": [
    {
     "name": "stdout",
     "output_type": "stream",
     "text": [
      "<class 'tuple'>\n"
     ]
    }
   ],
   "source": [
    "numbers = 17, 34\n",
    "print(type(numbers))"
   ]
  },
  {
   "cell_type": "code",
   "execution_count": 13,
   "metadata": {},
   "outputs": [
    {
     "name": "stdout",
     "output_type": "stream",
     "text": [
      "<class 'list'>\n"
     ]
    }
   ],
   "source": [
    "empty = []\n",
    "print(type(empty))"
   ]
  },
  {
   "cell_type": "code",
   "execution_count": 17,
   "metadata": {},
   "outputs": [
    {
     "name": "stdout",
     "output_type": "stream",
     "text": [
      "<class 'set'>\n"
     ]
    }
   ],
   "source": [
    "test = {1,\"name\", 2}\n",
    "print(type(test))"
   ]
  },
  {
   "cell_type": "code",
   "execution_count": 21,
   "metadata": {},
   "outputs": [
    {
     "name": "stdout",
     "output_type": "stream",
     "text": [
      "<class 'dict'>\n"
     ]
    }
   ],
   "source": [
    "test2 = {\"name\": \"mike\"}\n",
    "print(type(test2))"
   ]
  },
  {
   "cell_type": "code",
   "execution_count": 23,
   "metadata": {},
   "outputs": [
    {
     "name": "stdout",
     "output_type": "stream",
     "text": [
      "<class 'list'>\n",
      "['name', 2.0, 10, [10, 20]]\n"
     ]
    }
   ],
   "source": [
    "test3 = [\"name\", 2.0, 5*2, [10,20]]\n",
    "print(type(test3))\n",
    "print(test3)"
   ]
  },
  {
   "cell_type": "code",
   "execution_count": 5,
   "metadata": {},
   "outputs": [
    {
     "name": "stdout",
     "output_type": "stream",
     "text": [
      "321\n"
     ]
    }
   ],
   "source": [
    "number = 321\n",
    "number, part = divmod(number, 1000)\n",
    "print(part)"
   ]
  },
  {
   "cell_type": "code",
   "execution_count": 7,
   "metadata": {},
   "outputs": [
    {
     "name": "stdout",
     "output_type": "stream",
     "text": [
      "3\n"
     ]
    }
   ],
   "source": [
    "number = 321\n",
    "part = number // 100\n",
    "print(part)"
   ]
  },
  {
   "cell_type": "markdown",
   "metadata": {},
   "source": [
    "# October 26, 2022"
   ]
  },
  {
   "cell_type": "code",
   "execution_count": null,
   "metadata": {},
   "outputs": [],
   "source": [
    "lst = [1,2,3]\n",
    "lst.append([6,7])\n",
    "print(lst)"
   ]
  },
  {
   "cell_type": "code",
   "execution_count": null,
   "metadata": {},
   "outputs": [],
   "source": [
    "lst = [1,2,3]\n",
    "lst.append(\"Apple\")\n",
    "print(lst)"
   ]
  },
  {
   "cell_type": "markdown",
   "metadata": {},
   "source": [
    "### Container Object \n",
    "- list sequence (mutable)\n",
    "- tuple sequence (imutable)\n",
    "- set (uses hashes) do not maintain sequence\n",
    "- dict (uses hashes) do not maintain sequence\n"
   ]
  },
  {
   "cell_type": "code",
   "execution_count": 13,
   "metadata": {},
   "outputs": [
    {
     "name": "stdout",
     "output_type": "stream",
     "text": [
      "['a', 'f']\n"
     ]
    }
   ],
   "source": [
    "alist = ['a', 'b', 'c', 'd', 'e', 'f']\n",
    "del alist[1:5]\n",
    "print(alist)"
   ]
  },
  {
   "cell_type": "code",
   "execution_count": 15,
   "metadata": {},
   "outputs": [
    {
     "name": "stdout",
     "output_type": "stream",
     "text": [
      "['a', 'e', 'f']\n"
     ]
    }
   ],
   "source": [
    "alist = ['a', 'b', 'c', 'd', 'e', 'f']\n",
    "del alist[1:4]\n",
    "print(alist)"
   ]
  },
  {
   "cell_type": "code",
   "execution_count": 19,
   "metadata": {},
   "outputs": [
    {
     "name": "stdout",
     "output_type": "stream",
     "text": [
      "True\n",
      "57604400 57604400\n"
     ]
    }
   ],
   "source": [
    "a = \"banana\"\n",
    "b = \"banana\"\n",
    "\n",
    "print(a is b)\n",
    "print(id(a), id(b))"
   ]
  },
  {
   "cell_type": "code",
   "execution_count": 21,
   "metadata": {},
   "outputs": [
    {
     "name": "stdout",
     "output_type": "stream",
     "text": [
      "False\n",
      "True\n",
      "57621400 57846248\n"
     ]
    }
   ],
   "source": [
    "a = [81, 82, 83]\n",
    "b = [81, 82, 83]\n",
    "\n",
    "print(a is b)\n",
    "print(a == b)\n",
    "print(id(a), id(b))"
   ]
  },
  {
   "cell_type": "code",
   "execution_count": 22,
   "metadata": {},
   "outputs": [
    {
     "name": "stdout",
     "output_type": "stream",
     "text": [
      "False\n",
      "True\n",
      "57426728 57426568\n"
     ]
    }
   ],
   "source": [
    "a = (81, 82, 83)\n",
    "b = (81, 82, 83)\n",
    "\n",
    "print(a is b)\n",
    "print(a == b)\n",
    "print(id(a), id(b))\n"
   ]
  },
  {
   "cell_type": "markdown",
   "metadata": {},
   "source": [
    "- String are imutable\n"
   ]
  },
  {
   "cell_type": "code",
   "execution_count": 23,
   "metadata": {},
   "outputs": [
    {
     "name": "stdout",
     "output_type": "stream",
     "text": [
      "True\n",
      "True\n",
      "54839344 54839344\n"
     ]
    }
   ],
   "source": [
    "a = (\"banana\")\n",
    "b = (\"banana\")\n",
    "\n",
    "print(a is b)\n",
    "print(a == b)\n",
    "print(id(a), id(b))\n",
    "\n",
    "# imutable"
   ]
  },
  {
   "cell_type": "code",
   "execution_count": 25,
   "metadata": {},
   "outputs": [
    {
     "name": "stdout",
     "output_type": "stream",
     "text": [
      "False\n",
      "True\n",
      "57893784 57910296\n"
     ]
    }
   ],
   "source": [
    "a = [\"banana\"]\n",
    "b = [\"banana\"]\n",
    "\n",
    "print(a is b)\n",
    "print(a == b)\n",
    "print(id(a), id(b))"
   ]
  },
  {
   "cell_type": "code",
   "execution_count": 27,
   "metadata": {},
   "outputs": [
    {
     "name": "stdout",
     "output_type": "stream",
     "text": [
      "57814688\n",
      "57822448\n"
     ]
    }
   ],
   "source": [
    "lista = [1,2,3,4]\n",
    "print(id(lista))\n",
    "print(id(lista[1:2]))"
   ]
  },
  {
   "cell_type": "code",
   "execution_count": 29,
   "metadata": {},
   "outputs": [
    {
     "name": "stdout",
     "output_type": "stream",
     "text": [
      "57916888\n",
      "54618792\n"
     ]
    }
   ],
   "source": [
    "lista = [1,2,3,4]\n",
    "print(id(lista))\n",
    "print(id(lista[:])) # give me a new list, because that I have a new id"
   ]
  },
  {
   "cell_type": "code",
   "execution_count": 32,
   "metadata": {},
   "outputs": [
    {
     "name": "stdout",
     "output_type": "stream",
     "text": [
      "False\n",
      "True\n",
      "False\n"
     ]
    }
   ],
   "source": [
    "a = [81, 82, 83]\n",
    "b = [81, 82, 83]\n",
    "print(a is b)\n",
    "\n",
    "c = a\n",
    "print(c is a)\n",
    "\n",
    "teste1 = (81, 82, 83)\n",
    "teste2 = (81, 82, 83)\n",
    "print(teste1 is teste2)"
   ]
  },
  {
   "cell_type": "code",
   "execution_count": 33,
   "metadata": {},
   "outputs": [
    {
     "name": "stdout",
     "output_type": "stream",
     "text": [
      "[45, 76, 34, 55, 45, 76, 34, 55, 45, 76, 34, 55]\n",
      "[[45, 76, 34, 55], [45, 76, 34, 55], [45, 76, 34, 55]]\n"
     ]
    }
   ],
   "source": [
    "origlist = [45, 76, 34, 55]\n",
    "print(origlist * 3)\n",
    "\n",
    "newlist = [origlist] * 3\n",
    "\n",
    "print(newlist)\n"
   ]
  },
  {
   "cell_type": "code",
   "execution_count": 37,
   "metadata": {},
   "outputs": [
    {
     "name": "stdout",
     "output_type": "stream",
     "text": [
      "135\n",
      "228\n",
      "102\n",
      "165\n"
     ]
    }
   ],
   "source": [
    "origlist = [45, 76, 34, 55]\n",
    "\n",
    "for item in origlist:\n",
    "    print(item * 3)\n",
    "    "
   ]
  },
  {
   "cell_type": "code",
   "execution_count": 48,
   "metadata": {},
   "outputs": [
    {
     "name": "stdout",
     "output_type": "stream",
     "text": [
      "[1, 2, 3, 4]\n",
      "57540936\n",
      "[1, 2, 3, 4, 'Hello']\n",
      "57540936\n"
     ]
    }
   ],
   "source": [
    "test = [1,2,3,4]\n",
    "print(test)\n",
    "print(id(test))\n",
    "\n",
    "test.append(\"Hello\")\n",
    "print(test)\n",
    "print(id(test))\n",
    "\n",
    "# doesn't create a new object\n"
   ]
  },
  {
   "cell_type": "code",
   "execution_count": 49,
   "metadata": {},
   "outputs": [
    {
     "name": "stdout",
     "output_type": "stream",
     "text": [
      "[1, 2, 3, 4]\n",
      "26409352\n",
      "[1, 2, 3, 4, 'Hello']\n",
      "26409352\n"
     ]
    }
   ],
   "source": [
    "test = [1,2,3,4]\n",
    "print(test)\n",
    "print(id(test))\n",
    "\n",
    "print(test + [\"Hello\"])\n",
    "# I imagine here doesn't change the object test, because just concatenate items\n",
    "print(id(test))\n",
    "\n",
    "# doesn't create a new object"
   ]
  },
  {
   "cell_type": "code",
   "execution_count": 50,
   "metadata": {},
   "outputs": [
    {
     "name": "stdout",
     "output_type": "stream",
     "text": [
      "0\n",
      "3\n",
      "6\n",
      "9\n",
      "12\n",
      "15\n",
      "18\n"
     ]
    }
   ],
   "source": [
    "for number in range(20):\n",
    "    if number % 3 == 0:\n",
    "        print(number)\n"
   ]
  },
  {
   "cell_type": "code",
   "execution_count": 51,
   "metadata": {},
   "outputs": [
    {
     "name": "stdout",
     "output_type": "stream",
     "text": [
      "[1, 2, 3, 4, 5]\n",
      "[1, 4, 9, 16, 25]\n"
     ]
    }
   ],
   "source": [
    "numbers = [1, 2, 3, 4, 5]\n",
    "print(numbers)\n",
    "\n",
    "for i in range(len(numbers)):\n",
    "    numbers[i] = numbers[i] ** 2\n",
    "\n",
    "print(numbers)"
   ]
  },
  {
   "cell_type": "code",
   "execution_count": 58,
   "metadata": {},
   "outputs": [
    {
     "name": "stdout",
     "output_type": "stream",
     "text": [
      "[1, 2, 3, 4, 5]\n",
      "[1, 4, 9, 16, 25]\n"
     ]
    }
   ],
   "source": [
    "numbers = [1, 2, 3, 4, 5]\n",
    "print(numbers)\n",
    "\n",
    "for i in numbers:\n",
    "    numbers[i-1] = numbers[i-1] ** 2\n",
    "\n",
    "print(numbers)"
   ]
  },
  {
   "cell_type": "code",
   "execution_count": 52,
   "metadata": {},
   "outputs": [
    {
     "name": "stdout",
     "output_type": "stream",
     "text": [
      "[9, 7, 13, 11, 10]\n"
     ]
    }
   ],
   "source": [
    "alist = [4, 2, 8, 6, 5]\n",
    "blist = [ ]\n",
    "for item in alist:\n",
    "    blist.append(item+5)\n",
    "print(blist)"
   ]
  },
  {
   "cell_type": "code",
   "execution_count": 53,
   "metadata": {},
   "outputs": [
    {
     "name": "stdout",
     "output_type": "stream",
     "text": [
      "25\n"
     ]
    }
   ],
   "source": [
    "sum = 0\n",
    "for num in [1, 3, 5, 7, 9]:\n",
    "    sum = sum + num\n",
    "print(sum)"
   ]
  },
  {
   "cell_type": "code",
   "execution_count": 61,
   "metadata": {},
   "outputs": [
    {
     "name": "stdout",
     "output_type": "stream",
     "text": [
      "Sally\n",
      "Brad\n",
      "2\n"
     ]
    }
   ],
   "source": [
    "long_names = 0\n",
    "for name in [\"Joe\", \"Sally\", \"Amy\", \"Brad\"]:\n",
    "    if len(name) > 3:\n",
    "        long_names += 1\n",
    "        print(name)\n",
    "        \n",
    "print(long_names)\n"
   ]
  },
  {
   "cell_type": "code",
   "execution_count": 62,
   "metadata": {},
   "outputs": [
    {
     "name": "stdout",
     "output_type": "stream",
     "text": [
      "8\n"
     ]
    }
   ],
   "source": [
    "s = \"what if we went to the zoo\"\n",
    "num_vowels = 0\n",
    "for i in s:\n",
    "    if i in ['a', 'e', 'i', 'o', 'u']:\n",
    "        num_vowels += 1\n",
    "print(num_vowels)"
   ]
  },
  {
   "cell_type": "code",
   "execution_count": 63,
   "metadata": {},
   "outputs": [
    {
     "name": "stdout",
     "output_type": "stream",
     "text": [
      "29\n"
     ]
    }
   ],
   "source": [
    "nums = [9, 3, 8, 11, 5, 29, 2]\n",
    "best_num = 0\n",
    "for n in nums:\n",
    "    if n > best_num:\n",
    "        best_num = n\n",
    "print(best_num)"
   ]
  },
  {
   "cell_type": "code",
   "execution_count": 64,
   "metadata": {},
   "outputs": [
    {
     "name": "stdout",
     "output_type": "stream",
     "text": [
      "The scores are 85,95,70,\n"
     ]
    }
   ],
   "source": [
    "scores = [85, 95, 70]\n",
    "result = ''\n",
    "for score in scores:\n",
    "   result = result + str(score) + ','\n",
    "\n",
    "print(\"The scores are \" + result)"
   ]
  },
  {
   "cell_type": "code",
   "execution_count": 65,
   "metadata": {},
   "outputs": [
    {
     "name": "stdout",
     "output_type": "stream",
     "text": [
      "5\n"
     ]
    }
   ],
   "source": [
    "s = \"We are learning!\"\n",
    "x = 0\n",
    "for i in s:\n",
    "    if i in ['a', 'b', 'c', 'd', 'e']:\n",
    "        x += 1\n",
    "print(x)"
   ]
  },
  {
   "cell_type": "code",
   "execution_count": 66,
   "metadata": {},
   "outputs": [
    {
     "name": "stdout",
     "output_type": "stream",
     "text": [
      "[2, 5, 9]\n",
      "[4, 10, 18]\n"
     ]
    }
   ],
   "source": [
    "def doubleStuff(aList):\n",
    "    \"\"\" Overwrite each element in aList with double its value. \"\"\"\n",
    "    for position in range(len(aList)):\n",
    "        aList[position] = 2 * aList[position]\n",
    "\n",
    "things = [2, 5, 9]\n",
    "print(things)\n",
    "doubleStuff(things)\n",
    "print(things)"
   ]
  },
  {
   "cell_type": "code",
   "execution_count": 67,
   "metadata": {},
   "outputs": [
    {
     "name": "stdout",
     "output_type": "stream",
     "text": [
      "[2, 5, 9]\n",
      "[4, 10, 18]\n"
     ]
    }
   ],
   "source": [
    "def doubleStuff(a_list):\n",
    "    \"\"\" Return a new list in which contains doubles of the elements in a_list. \"\"\"\n",
    "    new_list = []\n",
    "    for value in a_list:\n",
    "        new_elem = 2 * value\n",
    "        new_list.append(new_elem)\n",
    "    return new_list\n",
    "\n",
    "things = [2, 5, 9]\n",
    "print(things)\n",
    "things = doubleStuff(things)\n",
    "print(things)"
   ]
  },
  {
   "cell_type": "code",
   "execution_count": 9,
   "metadata": {},
   "outputs": [
    {
     "name": "stdout",
     "output_type": "stream",
     "text": [
      "0\n",
      "7\n",
      "14\n",
      "21\n",
      "28\n",
      "35\n",
      "42\n",
      "49\n",
      "56\n",
      "63\n",
      "70\n",
      "77\n",
      "84\n",
      "91\n",
      "98\n"
     ]
    }
   ],
   "source": [
    "for num in range(100):\n",
    "    if num % 7 == 0:\n",
    "        print(num)"
   ]
  },
  {
   "cell_type": "code",
   "execution_count": null,
   "metadata": {},
   "outputs": [],
   "source": [
    "count = 0\n",
    "if ( (rgb_code == 'B' or size < 100)\n",
    "     and num_tries <= 10 ):\n",
    "   count += 1\n",
    "\n",
    "print(count)"
   ]
  },
  {
   "cell_type": "code",
   "execution_count": null,
   "metadata": {},
   "outputs": [],
   "source": []
  },
  {
   "cell_type": "code",
   "execution_count": null,
   "metadata": {},
   "outputs": [],
   "source": []
  },
  {
   "cell_type": "code",
   "execution_count": null,
   "metadata": {},
   "outputs": [],
   "source": []
  },
  {
   "cell_type": "code",
   "execution_count": null,
   "metadata": {},
   "outputs": [],
   "source": []
  }
 ],
 "metadata": {
  "kernelspec": {
   "display_name": "Python 3 (ipykernel)",
   "language": "python",
   "name": "python3"
  },
  "language_info": {
   "codemirror_mode": {
    "name": "ipython",
    "version": 3
   },
   "file_extension": ".py",
   "mimetype": "text/x-python",
   "name": "python",
   "nbconvert_exporter": "python",
   "pygments_lexer": "ipython3",
   "version": "3.9.12"
  }
 },
 "nbformat": 4,
 "nbformat_minor": 4
}
