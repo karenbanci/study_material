{
 "cells": [
  {
   "cell_type": "markdown",
   "metadata": {},
   "source": [
    "# October 31, 2022"
   ]
  },
  {
   "cell_type": "code",
   "execution_count": null,
   "metadata": {},
   "outputs": [],
   "source": [
    "mylist = [1,2,3,4]\n",
    "yourlist = []\n",
    "\n",
    "yourlist1 = [item ** 2 for item in mylist if item % 2 ==1]\n",
    "\n",
    "print(yourlist1)"
   ]
  },
  {
   "cell_type": "code",
   "execution_count": null,
   "metadata": {},
   "outputs": [],
   "source": [
    "name = \"foothill\"\"\n",
    "yourlist = []\n",
    "yourlist = [ltr for ltr in name]\n",
    "print(type(yourlist))\n",
    "\n",
    "print(yourlist)"
   ]
  },
  {
   "cell_type": "code",
   "execution_count": null,
   "metadata": {},
   "outputs": [],
   "source": [
    "#unique items\n",
    "\n",
    "name = \"foothill\"\"\n",
    "yourlist = []\n",
    "yourlist = {ltr for ltr in name}\n",
    "\n",
    "print(type(yourlist))\n",
    "print(yourlist)"
   ]
  },
  {
   "cell_type": "code",
   "execution_count": null,
   "metadata": {},
   "outputs": [],
   "source": [
    "mylist = [1,2,3,4]\n",
    "yourlist = []\n",
    "\n",
    "for item in mylist:\n",
    "    yourlist.append(item ** 2)\n",
    "\n",
    "print(yourlist)\n",
    "\n",
    "yourlist1 = [item ** 2 for item in mylist if item % 2 ==1]\n",
    "print(yourlist1)"
   ]
  },
  {
   "cell_type": "code",
   "execution_count": null,
   "metadata": {},
   "outputs": [],
   "source": [
    "a = \"College\"\n",
    "b = \"Foothill\"\n",
    "c = \"Los Altos\"\n",
    "\n",
    "a,b,c = b,a,c\n",
    "print(a,b,c)"
   ]
  },
  {
   "cell_type": "markdown",
   "metadata": {},
   "source": [
    "# November 2, 2022\n"
   ]
  },
  {
   "cell_type": "code",
   "execution_count": 2,
   "metadata": {},
   "outputs": [
    {
     "ename": "NameError",
     "evalue": "name 'name_list' is not defined",
     "output_type": "error",
     "traceback": [
      "\u001b[0;31m---------------------------------------------------------------------------\u001b[0m",
      "\u001b[0;31mNameError\u001b[0m                                 Traceback (most recent call last)",
      "Input \u001b[0;32mIn [2]\u001b[0m, in \u001b[0;36m<cell line: 2>\u001b[0;34m()\u001b[0m\n\u001b[1;32m      1\u001b[0m name_list1 \u001b[38;5;241m=\u001b[39m [\u001b[38;5;124m\"\u001b[39m\u001b[38;5;124mKaren\u001b[39m\u001b[38;5;124m\"\u001b[39m, \u001b[38;5;124m\"\u001b[39m\u001b[38;5;124mJairo\u001b[39m\u001b[38;5;124m\"\u001b[39m, \u001b[38;5;124m\"\u001b[39m\u001b[38;5;124mCaroline\u001b[39m\u001b[38;5;124m\"\u001b[39m, \u001b[38;5;124m\"\u001b[39m\u001b[38;5;124mAlejandro\u001b[39m\u001b[38;5;124m\"\u001b[39m]\n\u001b[0;32m----> 2\u001b[0m \u001b[38;5;28mprint\u001b[39m(\u001b[43mname_list\u001b[49m)\n\u001b[1;32m      4\u001b[0m name_list2 \u001b[38;5;241m=\u001b[39m \u001b[38;5;124m\"\u001b[39m\u001b[38;5;124mKaren Jairo Caroline Alejandro\u001b[39m\u001b[38;5;124m\"\u001b[39m\n\u001b[1;32m      6\u001b[0m name_list3 \u001b[38;5;241m=\u001b[39m name_list2\u001b[38;5;241m.\u001b[39msplit()\n",
      "\u001b[0;31mNameError\u001b[0m: name 'name_list' is not defined"
     ]
    }
   ],
   "source": [
    "name_list1 = [\"Karen\", \"Jairo\", \"Caroline\", \"Alejandro\"]\n",
    "print(name_list)\n",
    "\n",
    "name_list2 = \"Karen Jairo Caroline Alejandro\"\n",
    "\n",
    "name_list3 = name_list2.split()\n",
    "print(name_list3)\n",
    "\n",
    "init = \"\"\n",
    "print(\"\\n\", id(init))\n",
    "print(\"\\n\", init)\n",
    "\n",
    "for ename in name_list3:\n",
    "    init = init + ename[0]\n",
    "    \n",
    "print(\"\\n\", id(init))\n",
    "print(\"\\n\", init)"
   ]
  },
  {
   "cell_type": "code",
   "execution_count": null,
   "metadata": {},
   "outputs": [],
   "source": [
    "name_list1 = [\"Karen\", \"Jairo\", \"Caroline\", \"Alejandro\"]\n",
    "print(name_list)\n",
    "\n",
    "name_list2 = \"Karen Jairo Caroline Alejandro\"\n",
    "\n",
    "name_list3 = name_list2.split()\n",
    "print(name_list3)\n",
    "\n",
    "init = \"\"\n",
    "i = 0\n",
    "print(\"\\n\", id(init))\n",
    "\n",
    "while i < len(name_list3):\n",
    "    init = init + name_list3[i][-1]\n",
    "    i = i + 1\n",
    "    \n",
    "print(\"\\n\", id(init))\n",
    "print(init)"
   ]
  },
  {
   "cell_type": "code",
   "execution_count": 1,
   "metadata": {},
   "outputs": [
    {
     "name": "stdout",
     "output_type": "stream",
     "text": [
      "['Karen', 'Jairo', 'Caroline', 'Alejandro']\n",
      "['Karen', 'Jairo', 'Caroline', 'Alejandro']\n",
      "\n",
      " 140181961426544\n",
      "End the program\n",
      "\n",
      " 140182252780336\n",
      "KJCA\n"
     ]
    }
   ],
   "source": [
    "name_list1 = [\"Karen\", \"Jairo\", \"Caroline\", \"Alejandro\"]\n",
    "print(name_list1)\n",
    "\n",
    "name_list2 = \"Karen Jairo Caroline Alejandro\"\n",
    "\n",
    "name_list3 = name_list2.split()\n",
    "print(name_list3)\n",
    "\n",
    "init = \"\"\n",
    "i = 0\n",
    "print(\"\\n\", id(init))\n",
    "\n",
    "while True:\n",
    "    init = init + name_list3[i][0]\n",
    "    if i < len(name_list3) - 1:\n",
    "        i = i + 1\n",
    "    else:\n",
    "        break\n",
    "print(\"End the program\")\n",
    "\n",
    "print(\"\\n\", id(init))\n",
    "print(init)"
   ]
  },
  {
   "cell_type": "markdown",
   "metadata": {},
   "source": [
    "### file ref"
   ]
  },
  {
   "cell_type": "code",
   "execution_count": 13,
   "metadata": {},
   "outputs": [],
   "source": [
    "outfile = open(\"emission.txt\", \"w\")\n",
    "\n",
    "name = [\"Karen\\n\", \"Jairo\\n\", \"Caroline\\n\", \"Alejandro\\n\"]\n",
    "\n",
    "outfile.write(\"Name \\tTest\\n\")\n",
    "\n",
    "for i in name:\n",
    "    outfile.write(i)\n",
    "\n",
    "outfile.close()"
   ]
  },
  {
   "cell_type": "code",
   "execution_count": 2,
   "metadata": {},
   "outputs": [
    {
     "name": "stdout",
     "output_type": "stream",
     "text": [
      "['hello', 'goodbye']\n",
      "['HELLO', 'GOODBYE']\n"
     ]
    }
   ],
   "source": [
    "def capList1(param): \n",
    "#Attempts to capitalize every element in param, but fails   \n",
    "        for item in param:\n",
    "                 item = item.upper() \n",
    "\n",
    "def capList2(param): \n",
    "#Capitalizes every element in the param list    \n",
    "        for i in range (len(param)):\n",
    "                param[i] = param[i].upper() \n",
    "\n",
    "# Test code \n",
    "list = [\"hello\",\"goodbye\"] \n",
    "capList1(list) \n",
    "print (list) \n",
    "capList2(list) \n",
    "print (list)"
   ]
  },
  {
   "cell_type": "code",
   "execution_count": 11,
   "metadata": {},
   "outputs": [
    {
     "name": "stdout",
     "output_type": "stream",
     "text": [
      "['Hello', 'Goodbye']\n"
     ]
    }
   ],
   "source": [
    "def capList3(param): \n",
    "#Capitalizes first letter    \n",
    "    for i in range (len(param)):\n",
    "            param[i] = param[i].title()\n",
    "\n",
    "# title() does the first lettler in uppercase\n",
    "# Test code \n",
    "list = [\"hello\",\"goodbye\"] \n",
    "capList3(list) \n",
    "print (list)"
   ]
  },
  {
   "cell_type": "code",
   "execution_count": null,
   "metadata": {},
   "outputs": [],
   "source": []
  },
  {
   "cell_type": "code",
   "execution_count": null,
   "metadata": {},
   "outputs": [],
   "source": []
  },
  {
   "cell_type": "code",
   "execution_count": null,
   "metadata": {},
   "outputs": [],
   "source": []
  },
  {
   "cell_type": "code",
   "execution_count": null,
   "metadata": {},
   "outputs": [],
   "source": []
  }
 ],
 "metadata": {
  "kernelspec": {
   "display_name": "Python 3 (ipykernel)",
   "language": "python",
   "name": "python3"
  },
  "language_info": {
   "codemirror_mode": {
    "name": "ipython",
    "version": 3
   },
   "file_extension": ".py",
   "mimetype": "text/x-python",
   "name": "python",
   "nbconvert_exporter": "python",
   "pygments_lexer": "ipython3",
   "version": "3.9.12"
  }
 },
 "nbformat": 4,
 "nbformat_minor": 4
}
