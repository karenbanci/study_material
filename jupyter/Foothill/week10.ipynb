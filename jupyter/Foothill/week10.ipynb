{
 "cells": [
  {
   "cell_type": "code",
   "execution_count": 10,
   "id": "9e179b63",
   "metadata": {},
   "outputs": [
    {
     "ename": "AttributeError",
     "evalue": "'Retangle' object has no attribute 'setData'",
     "output_type": "error",
     "traceback": [
      "\u001b[0;31m---------------------------------------------------------------------------\u001b[0m",
      "\u001b[0;31mAttributeError\u001b[0m                            Traceback (most recent call last)",
      "Input \u001b[0;32mIn [10]\u001b[0m, in \u001b[0;36m<cell line: 21>\u001b[0;34m()\u001b[0m\n\u001b[1;32m     17\u001b[0m         \u001b[38;5;28;01mreturn\u001b[39;00m \u001b[38;5;124mf\u001b[39m\u001b[38;5;124m\"\u001b[39m\u001b[38;5;124mInterestinf Stuff\u001b[39m\u001b[38;5;124m\"\u001b[39m\n\u001b[1;32m     19\u001b[0m r1 \u001b[38;5;241m=\u001b[39m Retangle()\n\u001b[0;32m---> 21\u001b[0m \u001b[43mr1\u001b[49m\u001b[38;5;241;43m.\u001b[39;49m\u001b[43msetData\u001b[49m(\u001b[38;5;241m5\u001b[39m,\u001b[38;5;241m10\u001b[39m)\n\u001b[1;32m     22\u001b[0m \u001b[38;5;28mprint\u001b[39m(r1)\n",
      "\u001b[0;31mAttributeError\u001b[0m: 'Retangle' object has no attribute 'setData'"
     ]
    }
   ],
   "source": [
    "class Retangle():\n",
    "    count = 1\n",
    "    \n",
    "    def __init__(self):\n",
    "        self.height = 0\n",
    "        self.width = 0\n",
    "        Retangle.count += 1\n",
    "        \n",
    "        def setData(self, newHeight, newWidth):\n",
    "            self.height = newHeight\n",
    "            self.width = newWidth  \n",
    "    \n",
    "    def __str___(self):\n",
    "        return f\"Height: {self.height} and Width:{self.width} object: {id(self)}\"\n",
    "    \n",
    "    def __repr__(self):\n",
    "        return f\"Interestinf Stuff\"\n",
    "\n",
    "r1 = Retangle()\n",
    "\n",
    "r1.setData(5,10)\n",
    "print(r1)"
   ]
  },
  {
   "cell_type": "code",
   "execution_count": null,
   "id": "1bcd3741",
   "metadata": {},
   "outputs": [],
   "source": []
  },
  {
   "cell_type": "code",
   "execution_count": null,
   "id": "71232f7a",
   "metadata": {},
   "outputs": [],
   "source": []
  },
  {
   "cell_type": "code",
   "execution_count": null,
   "id": "a91cc3c9",
   "metadata": {},
   "outputs": [],
   "source": []
  },
  {
   "cell_type": "code",
   "execution_count": null,
   "id": "56da3066",
   "metadata": {},
   "outputs": [],
   "source": []
  },
  {
   "cell_type": "code",
   "execution_count": null,
   "id": "c5c403ab",
   "metadata": {},
   "outputs": [],
   "source": []
  }
 ],
 "metadata": {
  "kernelspec": {
   "display_name": "Python 3 (ipykernel)",
   "language": "python",
   "name": "python3"
  },
  "language_info": {
   "codemirror_mode": {
    "name": "ipython",
    "version": 3
   },
   "file_extension": ".py",
   "mimetype": "text/x-python",
   "name": "python",
   "nbconvert_exporter": "python",
   "pygments_lexer": "ipython3",
   "version": "3.9.12"
  }
 },
 "nbformat": 4,
 "nbformat_minor": 5
}
