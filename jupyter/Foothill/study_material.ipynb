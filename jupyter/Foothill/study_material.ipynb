{
 "cells": [
  {
   "cell_type": "markdown",
   "metadata": {},
   "source": [
    "# Material for study\n"
   ]
  },
  {
   "cell_type": "markdown",
   "metadata": {},
   "source": [
    "### Transversal and the while Loop"
   ]
  },
  {
   "cell_type": "code",
   "execution_count": 1,
   "metadata": {},
   "outputs": [
    {
     "name": "stdout",
     "output_type": "stream",
     "text": [
      "o\n",
      "r\n",
      "a\n",
      "n\n",
      "g\n",
      "e\n",
      "\n",
      "o\n",
      "r\n",
      "a\n",
      "n\n",
      "g\n",
      "e\n"
     ]
    }
   ],
   "source": [
    "fruit = \"orange\"\n",
    "\n",
    "position = 0\n",
    "while position < len(fruit):\n",
    "    print(fruit[position])\n",
    "    position += 1\n",
    "\n",
    "print(\"\")\n",
    "for item in fruit:\n",
    "    print(item)"
   ]
  },
  {
   "cell_type": "markdown",
   "metadata": {},
   "source": [
    "### The in and not in operators\n"
   ]
  },
  {
   "cell_type": "code",
   "execution_count": 2,
   "metadata": {},
   "outputs": [
    {
     "name": "stdout",
     "output_type": "stream",
     "text": [
      "True\n",
      "False\n",
      "True\n",
      "False\n"
     ]
    }
   ],
   "source": [
    "print('p' in 'apple')\n",
    "print('i' in 'apple')\n",
    "print('ap' in 'apple')\n",
    "print('pa' in 'apple')"
   ]
  },
  {
   "cell_type": "code",
   "execution_count": 3,
   "metadata": {},
   "outputs": [
    {
     "name": "stdout",
     "output_type": "stream",
     "text": [
      "Number of tiles: 19\n",
      "Gap at each end: 2.5\n"
     ]
    }
   ],
   "source": [
    "\"\"\"\n",
    "The Tile Problem\n",
    "Computes the number of tiles needed and the gap at each end when placing tiles along a wall.\n",
    "\"\"\"\n",
    "\n",
    "# Define the dimensions.\n",
    "total_width = 100\n",
    "tile_width = 5\n",
    "\n",
    "# Calculate the tiles and gaps.\n",
    "number_of_pairs = (total_width - tile_width) // (2 * tile_width)\n",
    "number_of_tiles = 1 + 2 * number_of_pairs\n",
    "gap = (total_width - number_of_tiles * tile_width) / 2.0\n",
    "print(\"Number of tiles:\", number_of_tiles)\n",
    "print(\"Gap at each end:\", gap)"
   ]
  },
  {
   "cell_type": "code",
   "execution_count": 4,
   "metadata": {},
   "outputs": [
    {
     "name": "stdout",
     "output_type": "stream",
     "text": [
      "888.88\n",
      "888\n",
      "1729\n",
      "17.29\n"
     ]
    }
   ],
   "source": [
    "\"\"\"\n",
    "Use the str() function to convert between numbers and strings.\n",
    "\"\"\"\n",
    "\n",
    "balance = 888.88\n",
    "dollars = 888\n",
    "\n",
    "balance_as_string = str(balance)\n",
    "dollar_as_string = str(dollars)\n",
    "\n",
    "print(balance_as_string)\n",
    "print(dollar_as_string)\n",
    "\n",
    "# To convert a string containing a number into a numerical value, we use the int() and float() functions:\n",
    "price = int(\"1729\")\n",
    "print(price)\n",
    "\n",
    "price = float(\"17.29\")\n",
    "print(price)"
   ]
  },
  {
   "cell_type": "code",
   "execution_count": 5,
   "metadata": {},
   "outputs": [
    {
     "name": "stdout",
     "output_type": "stream",
     "text": [
      "you typed :<Future pending>\n"
     ]
    }
   ],
   "source": [
    "pay_rate = input(\"How much do you earn per hour? \")\n",
    "print(\"you typed :\" + str(pay_rate))"
   ]
  },
  {
   "cell_type": "markdown",
   "metadata": {},
   "source": [
    "    add tax to bill\n",
    "    calculate tip\n",
    "    add tip to bill\n",
    "    divide bill by 3"
   ]
  },
  {
   "cell_type": "code",
   "execution_count": 3,
   "metadata": {},
   "outputs": [
    {
     "name": "stdout",
     "output_type": "stream",
     "text": [
      "10.0\n",
      "110.0\n",
      "36.0\n"
     ]
    }
   ],
   "source": [
    "bill = 100\n",
    "\n",
    "tax_to_bill = bill * 0.1\n",
    "print(tax_to_bill)\n",
    "\n",
    "total_bill = bill + tax_to_bill\n",
    "print(total_bill)\n",
    "\n",
    "ask_to_divide = 3\n",
    "total_bill_divided_for = total_bill // ask_to_divide\n",
    "\n",
    "print(total_bill_divided_for)"
   ]
  },
  {
   "cell_type": "markdown",
   "metadata": {},
   "source": [
    " • Write a program that converts course percent to letter grade given the following:\n",
    "\n",
    "90 and above is an \"A\"\n",
    "\n",
    "80 - 89 is a \"B\"\n",
    "\n",
    "70-79 is a \"C\"\n",
    "\n",
    "60-69 is a \"D\"\n",
    "\n",
    "59 and below is an \"F\""
   ]
  },
  {
   "cell_type": "code",
   "execution_count": 6,
   "metadata": {},
   "outputs": [
    {
     "name": "stdout",
     "output_type": "stream",
     "text": [
      "D\n"
     ]
    }
   ],
   "source": [
    "grade = 67\n",
    "\n",
    "if grade > 90:\n",
    "    print(\"A\")\n",
    "elif grade > 80 and grade < 89:\n",
    "    print(\"B\")\n",
    "elif grade > 70 and grade < 79:\n",
    "    print(\"C\")\n",
    "elif grade > 60 and grade < 69:\n",
    "    print(\"D\")\n",
    "else:\n",
    "    print(\"F\")"
   ]
  },
  {
   "cell_type": "markdown",
   "metadata": {},
   "source": [
    "### Function Arguments and Parameters"
   ]
  },
  {
   "cell_type": "code",
   "execution_count": 8,
   "metadata": {},
   "outputs": [
    {
     "name": "stdout",
     "output_type": "stream",
     "text": [
      "turkey on sourdough with mayo \n",
      "ham on wheat with mustard tomato lettuce \n"
     ]
    }
   ],
   "source": [
    "def sandwich(bread, meat, *args): \n",
    "    print('%s on %s' % (meat, bread), end=' ') \n",
    "    if len(args) > 0: \n",
    "        print('with', end=' ') \n",
    "    for extra in args: \n",
    "        print(extra, end=' ') \n",
    "    print(\"\")\n",
    "\n",
    "\n",
    "sandwich('sourdough', 'turkey', 'mayo')\n",
    "sandwich('wheat', 'ham', 'mustard', 'tomato', 'lettuce')"
   ]
  },
  {
   "cell_type": "code",
   "execution_count": 9,
   "metadata": {},
   "outputs": [
    {
     "name": "stdout",
     "output_type": "stream",
     "text": [
      "sourdough on turkey\n",
      "   sauce: mayo\n",
      "wheat on ham\n",
      "   sauce1: mustard\n",
      "   veggie1: tomato\n",
      "   veggie2: lettuce\n"
     ]
    }
   ],
   "source": [
    "def sandwich(bread, meat, **kwargs):\n",
    "    print('%s on %s' % (bread, meat))\n",
    "    for category, extra in kwargs.items():\n",
    "        print('   %s: %s' % (category, extra))\n",
    "\n",
    "sandwich('sourdough', 'turkey', sauce='mayo')\n",
    "sandwich('wheat', 'ham', sauce1='mustard', veggie1='tomato', veggie2='lettuce')"
   ]
  },
  {
   "cell_type": "code",
   "execution_count": 10,
   "metadata": {},
   "outputs": [
    {
     "name": "stdout",
     "output_type": "stream",
     "text": [
      "notepad.exe\n",
      "Powerpoint.exe --file=pres.ppt --start=True --slide=3\n"
     ]
    }
   ],
   "source": [
    "def gen_command(application, **kwargs):\n",
    "    command = application\n",
    "    for argument in kwargs:\n",
    "        command += ' --%s=%s' % (argument, kwargs[argument])\n",
    "    return command\n",
    "\n",
    "print (gen_command('notepad.exe'))  # No options\n",
    "print (gen_command('Powerpoint.exe', file='pres.ppt', start=True, slide=3))"
   ]
  },
  {
   "cell_type": "code",
   "execution_count": 23,
   "metadata": {},
   "outputs": [
    {
     "name": "stdout",
     "output_type": "stream",
     "text": [
      "estou testando um jeito de modificar uma string helloBLABLABLAoi\n"
     ]
    }
   ],
   "source": [
    "def change_name(name, **kwargs):\n",
    "    test = name\n",
    "    for i in kwargs:\n",
    "        test += '%sBLABLABLA%s' % (i, kwargs[i])\n",
    "    return test\n",
    "\n",
    "print(change_name(\"estou testando um jeito de modificar uma string \", hello=\"oi\"))"
   ]
  },
  {
   "cell_type": "markdown",
   "metadata": {},
   "source": [
    "### Multiple function outputs"
   ]
  },
  {
   "cell_type": "code",
   "execution_count": 24,
   "metadata": {},
   "outputs": [
    {
     "name": "stdout",
     "output_type": "stream",
     "text": [
      "Average score: 73.33333333333333\n",
      "Standard deviation: 15.260697523012796\n"
     ]
    }
   ],
   "source": [
    "student_scores = [75, 84, 66, 99, 51, 65]\n",
    "\n",
    "def get_grade_stats(scores):\n",
    "    # Calculate the arithmetic mean\n",
    "    mean = sum(student_scores)/len(scores)\n",
    "    \n",
    "    # Calculate the standard deviation\n",
    "    tmp = 0\n",
    "    for i in range(len(scores)):\n",
    "        tmp += (scores[i] - mean )**2\n",
    "    std_dev = (tmp/len(scores))**0.5\n",
    "\n",
    "    # Package and return average, standard deviation in a tuple\n",
    "    return mean, std_dev\n",
    "\n",
    "# Unpack tuple\n",
    "average, standard_deviation = get_grade_stats(student_scores)\n",
    "\n",
    "print('Average score:', average)\n",
    "print('Standard deviation:', standard_deviation)"
   ]
  },
  {
   "cell_type": "markdown",
   "metadata": {},
   "source": [
    "### Passing Arguments into Parameters"
   ]
  },
  {
   "cell_type": "code",
   "execution_count": 28,
   "metadata": {},
   "outputs": [
    {
     "name": "stdout",
     "output_type": "stream",
     "text": [
      "****\n"
     ]
    }
   ],
   "source": [
    "def print_chars(número, símbolo = '*'):\n",
    "      return símbolo * número\n",
    "\n",
    "print(print_chars(4, símbolo = '*'))"
   ]
  },
  {
   "cell_type": "code",
   "execution_count": 34,
   "metadata": {},
   "outputs": [
    {
     "name": "stdout",
     "output_type": "stream",
     "text": [
      "@meix@, cerej@, b@n@n@ e goi@b@\n"
     ]
    }
   ],
   "source": [
    "def modify_string(string, character):\n",
    "    for i in string:\n",
    "        return string.replace(\"a\", character)\n",
    "    \n",
    "string = \"ameixa, cereja, banana e goiaba\"\n",
    "character = \"@\"\n",
    "print(modify_string(string, character))"
   ]
  },
  {
   "cell_type": "markdown",
   "metadata": {},
   "source": [
    "### lambda"
   ]
  },
  {
   "cell_type": "markdown",
   "metadata": {},
   "source": [
    "Normalmente, as funções são criadas para um de dois propósitos: (a) reduzir a duplicação de código ou (b) modularizar o código.\n",
    "\n",
    "* Se seu aplicativo contiver trechos de código duplicados em vários locais, você poderá colocar uma cópia desse código em uma função, dar um nome à função e, em seguida, usando esse nome de função, chamá-la de vários locais em seu código.\n",
    "\n",
    "* Se você tem um pedaço de código que executa uma operação bem definida - mas é muito longo e complicado e interrompe o fluxo legível do seu programa - então você pode extrair esse código longo e retorcido e colocá-lo em uma função por si só.\n"
   ]
  },
  {
   "cell_type": "code",
   "execution_count": 35,
   "metadata": {},
   "outputs": [
    {
     "name": "stdout",
     "output_type": "stream",
     "text": [
      "100\n",
      "functionList[0](5)= 10\n",
      "functionList[1](5)= 25\n",
      "functionList[2](5)= 3125\n"
     ]
    }
   ],
   "source": [
    "functionList = [lambda x: x+x , lambda x: x*x, lambda x: x**x]\n",
    "\n",
    "# we can call an individual lambda in this list on the argument 10 with the following code:\n",
    "print(functionList[1](10))\n",
    "\n",
    "# or we can call all the lambdas in this list on the argument 5 with the following loop:\n",
    "for index in range(3):\n",
    "     print (\"functionList[%i](5)= %i\"  %  (index, functionList[index](5)) )"
   ]
  },
  {
   "cell_type": "markdown",
   "metadata": {},
   "source": [
    "### Functions That Modify Their Parameters"
   ]
  },
  {
   "cell_type": "code",
   "execution_count": 36,
   "metadata": {},
   "outputs": [
    {
     "name": "stdout",
     "output_type": "stream",
     "text": [
      "2000\n",
      "-------------\n",
      "175.0\n",
      "-------------\n",
      "[2175.0, 3262.4999999999995, 4350.0]\n",
      "2000\n",
      "-------------\n",
      "[2000, 3000, 4000]\n"
     ]
    }
   ],
   "source": [
    "\"\"\" Demonstrates functions attempting to modify their parameters. Two of these functions don't work.\n",
    "    Code also shows that returning a value from a function works when modifying the parameters doesn't work.\n",
    "\"\"\"\n",
    "\n",
    "def addSalesTax(price):\n",
    "    \"\"\"\n",
    "    attempts to add tax to price, but it doesn't work because only a value is sent\n",
    "    into the price parameter, not the variable\n",
    "    \"\"\"\n",
    "    price = price * 0.0875\n",
    "\n",
    "def salesTax(price):\n",
    "    \"\"\"\n",
    "    returns the amount of sales tax that would be charged on price\n",
    "    \"\"\"\n",
    "    return price * 0.0875\n",
    "\n",
    "def addTaxToPricesInList(list):\n",
    "    \"\"\"\n",
    "    changes list by adding salesTax to the value that is in the list\n",
    "    \"\"\"\n",
    "    for index in range (len(list)):\n",
    "        list[index] = list[index] * 1.0875\n",
    "\n",
    "def notAddTaxToPricesInList(list):\n",
    "    \"\"\"\n",
    "    accesses individual values in the list and so changes are not reflected back in the calling code\n",
    "    \"\"\"\n",
    "    for price in list:\n",
    "        price = price * 1.0875\n",
    "\n",
    "\n",
    "purchase = 2000\n",
    "addSalesTax(purchase)\n",
    "print (purchase)\n",
    "print ('-------------')\n",
    "purchase = 2000\n",
    "total = salesTax(purchase)\n",
    "print (total)\n",
    "print ('-------------')\n",
    "listOfPrices = [purchase, 3000, 4000]\n",
    "addTaxToPricesInList(listOfPrices)\n",
    "print (listOfPrices)\n",
    "print (purchase)    # note this has not changed\n",
    "print ('-------------')\n",
    "listOfPrices = [purchase, 3000, 4000]\n",
    "notAddTaxToPricesInList(listOfPrices)\n",
    "print (listOfPrices)"
   ]
  },
  {
   "cell_type": "markdown",
   "metadata": {},
   "source": [
    "## O'Reilly"
   ]
  },
  {
   "cell_type": "markdown",
   "metadata": {},
   "source": [
    "Desclocamento"
   ]
  },
  {
   "cell_type": "code",
   "execution_count": 7,
   "metadata": {},
   "outputs": [
    {
     "name": "stdout",
     "output_type": "stream",
     "text": [
      "['tenho', 'histórias']\n",
      "['para', 'contar']\n"
     ]
    }
   ],
   "source": [
    "lista1 = [\"tenho\", \"histórias\", \"para\", \"contar\"]\n",
    "print(lista1[:2])\n",
    "\n",
    "lista2 = [\"tenho\", \"histórias\", \"para\", \"contar\"]\n",
    "print(lista2[2:])"
   ]
  },
  {
   "cell_type": "markdown",
   "metadata": {},
   "source": [
    "Sublistas"
   ]
  },
  {
   "cell_type": "code",
   "execution_count": 12,
   "metadata": {},
   "outputs": [
    {
     "name": "stdout",
     "output_type": "stream",
     "text": [
      "[1, 2, 3, 4]\n",
      "index [3]:  4\n",
      "\n",
      " [5, 6, 7, 8]\n",
      "index [2]:  3\n",
      "\n",
      "  [9, 10, 11, 12]\n",
      "index [1]: 2\n"
     ]
    }
   ],
   "source": [
    "matriz = [[1,2,3,4],[5,6,7,8],[9,10,11,12]]\n",
    "print(matriz[0])\n",
    "print(\"index [3]: \", matriz[0][3])\n",
    "print(\"\\n\",matriz[1])\n",
    "print(\"index [2]: \", matriz[0][2])\n",
    "print(\"\\n \",matriz[2])\n",
    "print(\"index [1]:\", matriz[0][1])"
   ]
  },
  {
   "cell_type": "markdown",
   "metadata": {},
   "source": [
    "Atribuições de índice e fatia"
   ]
  },
  {
   "cell_type": "code",
   "execution_count": 23,
   "metadata": {},
   "outputs": [
    {
     "name": "stdout",
     "output_type": "stream",
     "text": [
      "receita do bolo:  ['farinha', 'leite', 'manteiga']\n",
      "\n",
      " receita do bolo com açúcar:  ['farinha', 'açúcar', 'manteiga']\n",
      "\n",
      " receita completa:  ['farinha', 'açúcar', 'coloca no forno']\n"
     ]
    }
   ],
   "source": [
    "bolo = ['farinha', 'leite', 'manteiga']\n",
    "print('receita do bolo: ', bolo)\n",
    "\n",
    "bolo[1] = 'açúcar'\n",
    "print('\\n receita do bolo com açúcar: ', bolo)\n",
    "\n",
    "bolo[2:] = ['coloca no forno']\n",
    "print('\\n receita completa: ', bolo)\n"
   ]
  },
  {
   "cell_type": "code",
   "execution_count": 29,
   "metadata": {},
   "outputs": [
    {
     "name": "stdout",
     "output_type": "stream",
     "text": [
      "receita do bolo:  ['farinha', 'leite', 'manteiga']\n",
      "\n",
      " receita do bolo:  ['farinha', 'leite', 'manteiga', 'açúcar']\n",
      "\n",
      " receita do bolo:  ['farinha', 'ovos', 'leite', 'manteiga', 'açúcar']\n"
     ]
    }
   ],
   "source": [
    "bolo = ['farinha', 'leite', 'manteiga']\n",
    "print('receita do bolo: ', bolo)\n",
    "\n",
    "bolo.append('açúcar')\n",
    "print('\\n receita do bolo: ', bolo)\n",
    "\n",
    "bolo.insert(1, 'ovos')\n",
    "print('\\n receita do bolo: ', bolo)"
   ]
  },
  {
   "cell_type": "code",
   "execution_count": 12,
   "metadata": {},
   "outputs": [
    {
     "name": "stdout",
     "output_type": "stream",
     "text": [
      "[1, 4, 2, 9]\n",
      "None\n",
      "[9, 4, 2, 1]\n"
     ]
    }
   ],
   "source": [
    "def swapfirst_and_last(my_list):\n",
    "    temp = my_list[0]\n",
    "    my_list[0] = my_list[-1] \n",
    "    my_list[-1] = temp \n",
    "    \n",
    "    \n",
    "    \n",
    "my_list = [1,4,2,9]\n",
    "print(my_list)\n",
    "print(swapfirst_and_last(my_list))\n",
    "print(my_list)"
   ]
  },
  {
   "cell_type": "code",
   "execution_count": 22,
   "metadata": {},
   "outputs": [
    {
     "name": "stdout",
     "output_type": "stream",
     "text": [
      "[1, 4, 2, 9]\n",
      "None\n",
      "[9, 1, 4, 2]\n"
     ]
    }
   ],
   "source": [
    "def shift_right(my_list):\n",
    "    my_list.insert(0, my_list.pop(-1))\n",
    "\n",
    "my_list = [1,4,2,9] \n",
    "print(my_list)\n",
    "print(shift_right(my_list))\n",
    "print(my_list)"
   ]
  },
  {
   "cell_type": "markdown",
   "metadata": {},
   "source": [
    "## double\n",
    "    "
   ]
  },
  {
   "cell_type": "code",
   "execution_count": 24,
   "metadata": {},
   "outputs": [
    {
     "name": "stdout",
     "output_type": "stream",
     "text": [
      "[2, 4, 2, 9]\n",
      "[2, 8, 2, 9]\n",
      "[2, 8, 4, 9]\n",
      "[2, 8, 4, 18]\n",
      "None\n",
      "[2, 8, 4, 18]\n"
     ]
    }
   ],
   "source": [
    "my_list = [1,4,2,9] \n",
    "\n",
    "def double(my_list):\n",
    "    for i in range(len(my_list)):\n",
    "        my_list[i] = my_list[i] * 2\n",
    "        print(my_list)\n",
    "    \n",
    "print(double(my_list))\n",
    "print(my_list)"
   ]
  },
  {
   "cell_type": "markdown",
   "metadata": {},
   "source": [
    "## is_sorted()"
   ]
  },
  {
   "cell_type": "code",
   "execution_count": 27,
   "metadata": {},
   "outputs": [
    {
     "name": "stdout",
     "output_type": "stream",
     "text": [
      "my_list is not sorted\n"
     ]
    }
   ],
   "source": [
    "my_list = [1,2,3,9,6] \n",
    "\n",
    "def is_sorted(my_list):\n",
    "    index = 0\n",
    "\n",
    "    while index < len(my_list)-1:\n",
    "        if my_list[index] < my_list[index+1]:\n",
    "            index += 1\n",
    "        else:\n",
    "            return False\n",
    "    return True\n",
    "      \n",
    "\n",
    "        \n",
    "if is_sorted(my_list):\n",
    "    print(\"my_list is sorted\")\n",
    "else:\n",
    "    print(\"my_list is not sorted\")"
   ]
  },
  {
   "cell_type": "markdown",
   "metadata": {},
   "source": [
    "## replace_evens() \n"
   ]
  },
  {
   "cell_type": "code",
   "execution_count": 31,
   "metadata": {},
   "outputs": [
    {
     "name": "stdout",
     "output_type": "stream",
     "text": [
      "[1, 4, 2, 9]\n",
      "None\n",
      "[1, 0, 0, 9]\n"
     ]
    }
   ],
   "source": [
    "my_list = [1,4,2,9] \n",
    "\n",
    "def replace_evens(my_list):\n",
    "    for i in range(len(my_list)):\n",
    "        if my_list[i] % 2 == 0:\n",
    "            my_list[i] = 0\n",
    "        \n",
    "print(my_list)\n",
    "print(replace_evens(my_list))\n",
    "print(my_list)"
   ]
  },
  {
   "cell_type": "code",
   "execution_count": 6,
   "metadata": {},
   "outputs": [
    {
     "ename": "IndexError",
     "evalue": "list index out of range",
     "output_type": "error",
     "traceback": [
      "\u001b[0;31m---------------------------------------------------------------------------\u001b[0m",
      "\u001b[0;31mIndexError\u001b[0m                                Traceback (most recent call last)",
      "Input \u001b[0;32mIn [6]\u001b[0m, in \u001b[0;36m<cell line: 14>\u001b[0;34m()\u001b[0m\n\u001b[1;32m     10\u001b[0m             index \u001b[38;5;241m+\u001b[39m\u001b[38;5;241m=\u001b[39m \u001b[38;5;241m1\u001b[39m\n\u001b[1;32m     11\u001b[0m         count \u001b[38;5;241m+\u001b[39m\u001b[38;5;241m=\u001b[39m \u001b[38;5;241m1\u001b[39m\n\u001b[0;32m---> 14\u001b[0m \u001b[38;5;28mprint\u001b[39m(\u001b[43mis_sorted\u001b[49m\u001b[43m(\u001b[49m\u001b[43mmy_list\u001b[49m\u001b[43m)\u001b[49m)\n\u001b[1;32m     16\u001b[0m \u001b[38;5;28;01mif\u001b[39;00m is_sorted(my_list):\n\u001b[1;32m     17\u001b[0m     \u001b[38;5;28mprint\u001b[39m(\u001b[38;5;124m\"\u001b[39m\u001b[38;5;124mmy_list is sorted\u001b[39m\u001b[38;5;124m\"\u001b[39m)\n",
      "Input \u001b[0;32mIn [6]\u001b[0m, in \u001b[0;36mis_sorted\u001b[0;34m(my_list)\u001b[0m\n\u001b[1;32m      6\u001b[0m length \u001b[38;5;241m=\u001b[39m \u001b[38;5;28mlen\u001b[39m(my_list)\n\u001b[1;32m      8\u001b[0m \u001b[38;5;28;01mwhile\u001b[39;00m index \u001b[38;5;241m<\u001b[39m length:\n\u001b[0;32m----> 9\u001b[0m     \u001b[38;5;28;01mif\u001b[39;00m my_list[index] \u001b[38;5;241m<\u001b[39m \u001b[43mmy_list\u001b[49m\u001b[43m[\u001b[49m\u001b[43mindex\u001b[49m\u001b[38;5;241;43m+\u001b[39;49m\u001b[38;5;241;43m1\u001b[39;49m\u001b[43m]\u001b[49m:\n\u001b[1;32m     10\u001b[0m         index \u001b[38;5;241m+\u001b[39m\u001b[38;5;241m=\u001b[39m \u001b[38;5;241m1\u001b[39m\n\u001b[1;32m     11\u001b[0m     count \u001b[38;5;241m+\u001b[39m\u001b[38;5;241m=\u001b[39m \u001b[38;5;241m1\u001b[39m\n",
      "\u001b[0;31mIndexError\u001b[0m: list index out of range"
     ]
    }
   ],
   "source": [
    "\n",
    "\n",
    "        \n"
   ]
  },
  {
   "cell_type": "markdown",
   "metadata": {},
   "source": [
    "## Listas"
   ]
  },
  {
   "cell_type": "code",
   "execution_count": 4,
   "metadata": {},
   "outputs": [
    {
     "name": "stdout",
     "output_type": "stream",
     "text": [
      "first test1 [1]\n",
      "first id 140624074510400\n",
      "\n",
      "second test2 [2, 3, 4, 1]\n",
      "second id 140624074510400\n",
      "\n",
      "third test3 [2, 3, 4, 1, 5, 6, 7]\n",
      "third id 140624074510400\n",
      "\n",
      "fourth test4 [2, 3, 4, 1, 5, 6, 7, 8, 9, 10]\n",
      "fourth id 140624074510400\n"
     ]
    }
   ],
   "source": [
    "list = [1]\n",
    "print(\"first test1\", list)\n",
    "print(\"first id\", id(list))\n",
    "\n",
    "list[:0] = [2,3,4]\n",
    "print(\"\\nsecond test2\", list)\n",
    "print(\"second id\", id(list))\n",
    "\n",
    "list[len(list):]= [5,6,7]\n",
    "print(\"\\nthird test3\", list)\n",
    "print(\"third id\", id(list))\n",
    "\n",
    "list.extend([8,9,10])\n",
    "print(\"\\nfourth test4\", list)\n",
    "print(\"fourth id\", id(list))"
   ]
  },
  {
   "cell_type": "code",
   "execution_count": 7,
   "metadata": {},
   "outputs": [
    {
     "name": "stdout",
     "output_type": "stream",
     "text": [
      "first test1 [1, 2, 3]\n",
      "first id 140624074512384\n",
      "\n",
      "second test1 [1, 2, 3, 101010]\n",
      "second id 140624074512384\n",
      "\n",
      "third test1 [1, 2, 3, 101010, 454545]\n",
      "third id 140624074512384\n"
     ]
    }
   ],
   "source": [
    "lista = [1,2,3]\n",
    "print(\"first test1\", lista)\n",
    "print(\"first id\", id(lista))\n",
    "\n",
    "lista.append(101010)\n",
    "print(\"\\nsecond test1\", lista)\n",
    "print(\"second id\", id(lista))\n",
    "\n",
    "\n",
    "print(\"\\nthird test1\", lista + [454545])\n",
    "print(\"third id\", id(lista))"
   ]
  },
  {
   "cell_type": "markdown",
   "metadata": {},
   "source": [
    "## Dicionários"
   ]
  },
  {
   "cell_type": "code",
   "execution_count": 15,
   "metadata": {},
   "outputs": [
    {
     "name": "stdout",
     "output_type": "stream",
     "text": [
      "primeiro teste {'nome': 'karen', 'idade': 30}\n",
      "ID teste 140624347284608\n",
      "\n",
      "nesting teste {'CTO': {'nome': 'karen', 'idade': 30}}\n",
      "ID teste 140624347279616\n",
      "\n",
      "alternativo teste {'nome': 'karen', 'idade': 30}\n",
      "ID teste 140625445022656\n"
     ]
    },
    {
     "ename": "NameError",
     "evalue": "name 'keyslist' is not defined",
     "output_type": "error",
     "traceback": [
      "\u001b[0;31m---------------------------------------------------------------------------\u001b[0m",
      "\u001b[0;31mNameError\u001b[0m                                 Traceback (most recent call last)",
      "Input \u001b[0;32mIn [15]\u001b[0m, in \u001b[0;36m<cell line: 16>\u001b[0;34m()\u001b[0m\n\u001b[1;32m     12\u001b[0m \u001b[38;5;28mprint\u001b[39m(\u001b[38;5;124m\"\u001b[39m\u001b[38;5;130;01m\\n\u001b[39;00m\u001b[38;5;124malternativo teste\u001b[39m\u001b[38;5;124m\"\u001b[39m, alternativo)\n\u001b[1;32m     13\u001b[0m \u001b[38;5;28mprint\u001b[39m(\u001b[38;5;124m\"\u001b[39m\u001b[38;5;124mID teste\u001b[39m\u001b[38;5;124m\"\u001b[39m, \u001b[38;5;28mid\u001b[39m(alternativo))\n\u001b[0;32m---> 16\u001b[0m alternativo2 \u001b[38;5;241m=\u001b[39m \u001b[38;5;28mdict\u001b[39m(\u001b[38;5;28mzip\u001b[39m(\u001b[43mkeyslist\u001b[49m, valueslist))\n\u001b[1;32m     17\u001b[0m \u001b[38;5;28mprint\u001b[39m(\u001b[38;5;124m\"\u001b[39m\u001b[38;5;130;01m\\n\u001b[39;00m\u001b[38;5;124malternativo1\u001b[39m\u001b[38;5;124m\"\u001b[39m, alternativo2)\n\u001b[1;32m     18\u001b[0m \u001b[38;5;28mprint\u001b[39m(\u001b[38;5;124m\"\u001b[39m\u001b[38;5;124mID teste\u001b[39m\u001b[38;5;124m\"\u001b[39m, \u001b[38;5;28mid\u001b[39m(alternativo2))\n",
      "\u001b[0;31mNameError\u001b[0m: name 'keyslist' is not defined"
     ]
    }
   ],
   "source": [
    "dicionario = {} #vazio\n",
    "\n",
    "dicionario = {\"nome\": \"karen\", \"idade\": 30}\n",
    "print(\"primeiro teste\", dicionario)\n",
    "print(\"ID teste\", id(dicionario))\n",
    "\n",
    "nesting = {\"CTO\": {\"nome\": \"karen\", \"idade\": 30}}\n",
    "print(\"\\nnesting teste\", nesting)\n",
    "print(\"ID teste\", id(nesting))\n",
    "\n",
    "alternativo = dict(nome=\"karen\", idade=30)\n",
    "print(\"\\nalternativo teste\", alternativo)\n",
    "print(\"ID teste\", id(alternativo))\n",
    "\n",
    "\n",
    "alternativo2 = dict(zip(keyslist, valueslist))\n",
    "print(\"\\nalternativo1\", alternativo2)\n",
    "print(\"ID teste\", id(alternativo2))\n",
    "\n",
    "testando2 = dict.fromkeys(['name', 'age'])\n",
    "print(\"\\ntestando2\", testando2)\n",
    "print(\"ID teste\", id(testando2))\n"
   ]
  },
  {
   "cell_type": "markdown",
   "metadata": {},
   "source": [
    "D.keys() --------- Métodos: todoschaves,\n",
    "\n",
    "D.values() --------- tudo valores,\n",
    "\n",
    "D.items() --------- todas as chaves + valores tuplas,\n",
    "\n",
    "D.copy() --------- cópia de(nível superior),\n",
    "\n",
    "D.clear() --------- limpar(remover todos os itens),\n",
    "\n",
    "D.update(D2) --------- mesclar por chaves,\n",
    "\n",
    "D.get(key, default?) --------- buscar por chave, se ausente padrão (ou Nenhum),\n",
    "\n",
    "D.pop(key, default?) --------- remover por chave, se ausente padrão (ou erro)\n",
    "\n",
    "D.setdefault(key, default?) --------- buscar por chave, se ausente, defina o padrão (ou Nenhum),\n",
    "\n",
    "D.popitem() --------- remover/retornar qualquer par (chave, valor); etc.\n"
   ]
  },
  {
   "cell_type": "code",
   "execution_count": 36,
   "metadata": {},
   "outputs": [
    {
     "name": "stdout",
     "output_type": "stream",
     "text": [
      "primeiro teste {'nome': 'karen', 'idade': 30}\n",
      "ID teste 140624347228544\n",
      "karen\n",
      "tamanho do dicionario 2\n",
      "\n",
      "substitui Karen por Jairo {'nome': 'Jairo', 'idade': 28}\n",
      "ID teste 140624347228544\n",
      "\n",
      "adicionei a conjuge {'nome': 'Jairo', 'idade': 28, 'conjuge': 'Karen'}\n",
      "ID teste 140624347228544\n",
      "\n",
      "itens -----------  dict_items([('nome', 'Jairo'), ('idade', 28), ('conjuge', 'Karen')])\n",
      "valores -----------  dict_values(['Jairo', 28, 'Karen'])\n",
      "get -----------  Jairo\n",
      "update -----------  None\n"
     ]
    }
   ],
   "source": [
    "dicionario = {\"nome\": \"karen\", \"idade\": 30}\n",
    "print(\"primeiro teste\", dicionario)\n",
    "print(\"ID teste\", id(dicionario))\n",
    "print(dicionario[\"nome\"])\n",
    "print(\"tamanho do dicionario\",len(dicionario))\n",
    "\n",
    "dicionario[\"nome\"] = \"Jairo\"\n",
    "dicionario[\"idade\"] = 28\n",
    "print(\"\\nsubstitui Karen por Jairo\", dicionario)\n",
    "print(\"ID teste\", id(dicionario))\n",
    "\n",
    "dicionario[\"conjuge\"] = \"Karen\"\n",
    "print(\"\\nadicionei a conjuge\", dicionario)\n",
    "print(\"ID teste\", id(dicionario))\n",
    "\n",
    "print(\"\\nitens ----------- \", dicionario.items())\n",
    "print(\"valores ----------- \", dicionario.values())\n",
    "print(\"get ----------- \", dicionario.get(\"nome\"))\n",
    "dic2 = {\"midname\":\"Alejandro\" }\n",
    "print(\"update ----------- \", dicionario.update(dic2))"
   ]
  },
  {
   "cell_type": "code",
   "execution_count": 43,
   "metadata": {},
   "outputs": [
    {
     "ename": "SyntaxError",
     "evalue": "invalid syntax (2618849271.py, line 2)",
     "output_type": "error",
     "traceback": [
      "\u001b[0;36m  Input \u001b[0;32mIn [43]\u001b[0;36m\u001b[0m\n\u001b[0;31m    for i in lst # SyntaxError: invalid syntax (missing colon)\u001b[0m\n\u001b[0m                 ^\u001b[0m\n\u001b[0;31mSyntaxError\u001b[0m\u001b[0;31m:\u001b[0m invalid syntax\n"
     ]
    }
   ],
   "source": [
    "lst = [1,2,3,4]\n",
    "for i in lst # SyntaxError: invalid syntax (missing colon)\n",
    "    print(i)"
   ]
  },
  {
   "cell_type": "markdown",
   "metadata": {},
   "source": [
    "# Aritmetic\n",
    "\n",
    "- int\n",
    "- floats"
   ]
  },
  {
   "cell_type": "code",
   "execution_count": 45,
   "metadata": {},
   "outputs": [
    {
     "data": {
      "text/plain": [
       "9"
      ]
     },
     "execution_count": 45,
     "metadata": {},
     "output_type": "execute_result"
    }
   ],
   "source": [
    "4 + 5.\n"
   ]
  },
  {
   "cell_type": "code",
   "execution_count": 46,
   "metadata": {},
   "outputs": [
    {
     "data": {
      "text/plain": [
       "9"
      ]
     },
     "execution_count": 46,
     "metadata": {},
     "output_type": "execute_result"
    }
   ],
   "source": [
    "4 + 5"
   ]
  },
  {
   "cell_type": "code",
   "execution_count": 51,
   "metadata": {},
   "outputs": [
    {
     "data": {
      "text/plain": [
       "tuple"
      ]
     },
     "execution_count": 51,
     "metadata": {},
     "output_type": "execute_result"
    }
   ],
   "source": [
    "type((233,2))"
   ]
  },
  {
   "cell_type": "code",
   "execution_count": 53,
   "metadata": {},
   "outputs": [
    {
     "name": "stdout",
     "output_type": "stream",
     "text": [
      "['Jairo', 'Karen']\n",
      "140624618908416\n",
      "['Jairo', 'Karen', ['Alejandro', 'Caroline']]\n",
      "140624618908416\n"
     ]
    }
   ],
   "source": [
    "moradores_da_casa = [\"Jairo\", \"Karen\"]\n",
    "entrou = [\"Alejandro\", \"Caroline\"]\n",
    "print(moradores_da_casa)\n",
    "print(id(moradores_da_casa))\n",
    "\n",
    "moradores_da_casa.append(entrou)\n",
    "print(moradores_da_casa)\n",
    "print(id(moradores_da_casa))"
   ]
  },
  {
   "cell_type": "code",
   "execution_count": 55,
   "metadata": {},
   "outputs": [
    {
     "ename": "ZeroDivisionError",
     "evalue": "division by zero",
     "output_type": "error",
     "traceback": [
      "\u001b[0;31m---------------------------------------------------------------------------\u001b[0m",
      "\u001b[0;31mZeroDivisionError\u001b[0m                         Traceback (most recent call last)",
      "Input \u001b[0;32mIn [55]\u001b[0m, in \u001b[0;36m<cell line: 1>\u001b[0;34m()\u001b[0m\n\u001b[0;32m----> 1\u001b[0m \u001b[38;5;28mtype\u001b[39m(erro1 \u001b[38;5;241m=\u001b[39m \u001b[38;5;241;43m9\u001b[39;49m\u001b[43m \u001b[49m\u001b[38;5;241;43m/\u001b[39;49m\u001b[43m \u001b[49m\u001b[38;5;241;43m0\u001b[39;49m)\n",
      "\u001b[0;31mZeroDivisionError\u001b[0m: division by zero"
     ]
    }
   ],
   "source": [
    "\n"
   ]
  },
  {
   "cell_type": "code",
   "execution_count": 56,
   "metadata": {},
   "outputs": [
    {
     "ename": "NameError",
     "evalue": "name 'name' is not defined",
     "output_type": "error",
     "traceback": [
      "\u001b[0;31m---------------------------------------------------------------------------\u001b[0m",
      "\u001b[0;31mNameError\u001b[0m                                 Traceback (most recent call last)",
      "Input \u001b[0;32mIn [56]\u001b[0m, in \u001b[0;36m<cell line: 1>\u001b[0;34m()\u001b[0m\n\u001b[0;32m----> 1\u001b[0m \u001b[38;5;28;01mfor\u001b[39;00m i \u001b[38;5;129;01min\u001b[39;00m \u001b[43mname\u001b[49m:\n\u001b[1;32m      2\u001b[0m     \u001b[38;5;28mprint\u001b[39m(i)\n",
      "\u001b[0;31mNameError\u001b[0m: name 'name' is not defined"
     ]
    }
   ],
   "source": [
    "for i in name:\n",
    "    print(i)"
   ]
  },
  {
   "cell_type": "code",
   "execution_count": 57,
   "metadata": {},
   "outputs": [
    {
     "ename": "SyntaxError",
     "evalue": "invalid syntax (1186186902.py, line 3)",
     "output_type": "error",
     "traceback": [
      "\u001b[0;36m  Input \u001b[0;32mIn [57]\u001b[0;36m\u001b[0m\n\u001b[0;31m    && noErrors)\u001b[0m\n\u001b[0m     ^\u001b[0m\n\u001b[0;31mSyntaxError\u001b[0m\u001b[0;31m:\u001b[0m invalid syntax\n"
     ]
    }
   ],
   "source": [
    "# if all is well, call the method ComputeAnswer()\n",
    "if (x > 17\n",
    "&& noErrors)\n",
    "ComputeAnswer(x);"
   ]
  },
  {
   "cell_type": "code",
   "execution_count": 62,
   "metadata": {},
   "outputs": [
    {
     "ename": "NameError",
     "evalue": "name 'myAge' is not defined",
     "output_type": "error",
     "traceback": [
      "\u001b[0;31m---------------------------------------------------------------------------\u001b[0m",
      "\u001b[0;31mNameError\u001b[0m                                 Traceback (most recent call last)",
      "Input \u001b[0;32mIn [62]\u001b[0m, in \u001b[0;36m<cell line: 1>\u001b[0;34m()\u001b[0m\n\u001b[0;32m----> 1\u001b[0m \u001b[38;5;28;01mif\u001b[39;00m (\u001b[43mmyAge\u001b[49m \u001b[38;5;241m>\u001b[39m\u001b[38;5;241m=\u001b[39m \u001b[38;5;241m10\u001b[39m \u001b[38;5;241m&\u001b[39m myAge \u001b[38;5;241m<\u001b[39m\u001b[38;5;241m=\u001b[39m \u001b[38;5;241m15\u001b[39m):\n\u001b[1;32m      2\u001b[0m     age_category_two \u001b[38;5;241m=\u001b[39m true\n",
      "\u001b[0;31mNameError\u001b[0m: name 'myAge' is not defined"
     ]
    }
   ],
   "source": [
    "if (myAge >= 10 & myAge <= 15):\n",
    "    age_category_two = true;"
   ]
  },
  {
   "cell_type": "code",
   "execution_count": 15,
   "metadata": {},
   "outputs": [
    {
     "name": "stdout",
     "output_type": "stream",
     "text": [
      "<class 'int'>\n"
     ]
    }
   ],
   "source": [
    "num1 = 4\n",
    "\n",
    "answer = int(num1 / 3.3)\n",
    "print(type(answer))"
   ]
  },
  {
   "cell_type": "code",
   "execution_count": 14,
   "metadata": {},
   "outputs": [
    {
     "name": "stdout",
     "output_type": "stream",
     "text": [
      "14\n"
     ]
    }
   ],
   "source": [
    "y = 3 ** 2 // 4 + 12\n",
    "print(y)"
   ]
  },
  {
   "cell_type": "code",
   "execution_count": 81,
   "metadata": {},
   "outputs": [
    {
     "name": "stdout",
     "output_type": "stream",
     "text": [
      "9\n",
      "2\n"
     ]
    }
   ],
   "source": [
    "x = 3 ** 2\n",
    "print(x)\n",
    "x = x // 4\n",
    "print(x)"
   ]
  },
  {
   "cell_type": "code",
   "execution_count": 83,
   "metadata": {},
   "outputs": [
    {
     "name": "stdout",
     "output_type": "stream",
     "text": [
      "200\n"
     ]
    }
   ],
   "source": [
    "count = 0\n",
    "for k in range(1, 201):\n",
    "   count += 1\n",
    "print(count)"
   ]
  },
  {
   "cell_type": "code",
   "execution_count": 84,
   "metadata": {},
   "outputs": [
    {
     "name": "stdout",
     "output_type": "stream",
     "text": [
      "5\n"
     ]
    }
   ],
   "source": [
    "count = -2\n",
    "for k in range(3, 10):\n",
    "   count += 1\n",
    "print(count)"
   ]
  },
  {
   "cell_type": "code",
   "execution_count": 89,
   "metadata": {},
   "outputs": [
    {
     "data": {
      "text/plain": [
       "list"
      ]
     },
     "execution_count": 89,
     "metadata": {},
     "output_type": "execute_result"
    }
   ],
   "source": [
    "type([-3])"
   ]
  },
  {
   "cell_type": "code",
   "execution_count": 9,
   "metadata": {},
   "outputs": [
    {
     "name": "stdout",
     "output_type": "stream",
     "text": [
      "30.242424242424242\n"
     ]
    }
   ],
   "source": [
    "num1 = 998\n",
    "num2 = 33\n",
    "answer = float(num1/num2)\n",
    "print(answer)"
   ]
  },
  {
   "cell_type": "code",
   "execution_count": 8,
   "metadata": {},
   "outputs": [
    {
     "name": "stdout",
     "output_type": "stream",
     "text": [
      "30.0\n"
     ]
    }
   ],
   "source": [
    "num1 = 998\n",
    "num2 = 33\n",
    "answer = float(num1//num2)\n",
    "print(answer)"
   ]
  },
  {
   "cell_type": "code",
   "execution_count": 11,
   "metadata": {},
   "outputs": [
    {
     "name": "stdout",
     "output_type": "stream",
     "text": [
      "0\n"
     ]
    }
   ],
   "source": [
    "counter = 0\n",
    "myAge = 10\n",
    "\n",
    "if not (myAge <= 10 or myAge >= 15):\n",
    "    counter += 1\n",
    "\n",
    "print(counter)"
   ]
  },
  {
   "cell_type": "code",
   "execution_count": null,
   "metadata": {},
   "outputs": [],
   "source": []
  }
 ],
 "metadata": {
  "kernelspec": {
   "display_name": "Python 3 (ipykernel)",
   "language": "python",
   "name": "python3"
  },
  "language_info": {
   "codemirror_mode": {
    "name": "ipython",
    "version": 3
   },
   "file_extension": ".py",
   "mimetype": "text/x-python",
   "name": "python",
   "nbconvert_exporter": "python",
   "pygments_lexer": "ipython3",
   "version": "3.9.12"
  }
 },
 "nbformat": 4,
 "nbformat_minor": 4
}
