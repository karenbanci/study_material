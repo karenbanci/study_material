{
 "cells": [
  {
   "cell_type": "markdown",
   "id": "f65ea093",
   "metadata": {},
   "source": [
    "## Objects are Python’s abstraction (representation) for data. All data in a Python program is represented by objects  \n",
    "- Every object has an identity, a type and a value.  \n",
    " - _id_ is the _location in RAM_ of the object\n",
    " - _type_ is the _name_ of the class that \"created\" the object\n",
    " - _value_ is the _value_ of the object\n",
    "- An object’s _identity and type_ never changes once it has been created\n",
    "- Mutability\n",
    " - Objects whose values can be changed are _mutable_\n",
    " - Objects whose values cannot be changed are _immutable_\n",
    "- The _‘is’_ operator compares the identity of two objects; _‘is’_ users the id() function to determine an objects' identity."
   ]
  },
  {
   "cell_type": "code",
   "execution_count": 1,
   "id": "0f44c57d",
   "metadata": {},
   "outputs": [
    {
     "name": "stdout",
     "output_type": "stream",
     "text": [
      "identity (id): 0x25ce59c55d0 \n",
      "type: <class 'int'> \n",
      "value 100\n"
     ]
    }
   ],
   "source": [
    "# Create an int object\n",
    "number = 100\n",
    "print(f\"identity (id): {hex(id(number))} \\ntype: {type(number)} \\nvalue {number}\")"
   ]
  },
  {
   "cell_type": "markdown",
   "id": "46a015f0",
   "metadata": {},
   "source": [
    "- An object’s type determines the operations that the object supports   \n",
    " - (e.g., “does it have a length?”)  \n",
    " - The value of some objects can change.  \n",
    "  - Objects whose value can change are said to be mutable;   \n",
    "  - Objects whose value is unchangeable once they are created are called immutable. \n"
   ]
  },
  {
   "cell_type": "code",
   "execution_count": 2,
   "id": "67983cec",
   "metadata": {},
   "outputs": [
    {
     "data": {
      "text/plain": [
       "15"
      ]
     },
     "execution_count": 2,
     "metadata": {},
     "output_type": "execute_result"
    }
   ],
   "source": [
    "a = 5\n",
    "b = 10\n",
    "a + b"
   ]
  },
  {
   "cell_type": "code",
   "execution_count": 3,
   "id": "6fdeeb01",
   "metadata": {},
   "outputs": [
    {
     "data": {
      "text/plain": [
       "'510'"
      ]
     },
     "execution_count": 3,
     "metadata": {},
     "output_type": "execute_result"
    }
   ],
   "source": [
    "c\n",
    "a + b\n"
   ]
  },
  {
   "cell_type": "markdown",
   "id": "1a395c8c",
   "metadata": {},
   "source": [
    "a + b   a.add(b)          a.__add__(b)\n",
    "\n",
    "def __add__(arg):    \n",
    "\n"
   ]
  },
  {
   "cell_type": "code",
   "execution_count": 9,
   "id": "05504e96",
   "metadata": {},
   "outputs": [
    {
     "name": "stdout",
     "output_type": "stream",
     "text": [
      "15.0\n"
     ]
    }
   ],
   "source": [
    "a = 5.\n",
    "b = 10\n",
    "c = a.__add__(b)\n",
    "print(c)"
   ]
  },
  {
   "cell_type": "code",
   "execution_count": 10,
   "id": "bf60ef85",
   "metadata": {},
   "outputs": [
    {
     "name": "stdout",
     "output_type": "stream",
     "text": [
      "510\n",
      "<class 'str'>\n"
     ]
    }
   ],
   "source": [
    "a = \"5\"\n",
    "b = \"10\"\n",
    "c = a.__add__(b)\n",
    "print(c)\n",
    "print(type(c))"
   ]
  },
  {
   "cell_type": "markdown",
   "id": "11a17051",
   "metadata": {},
   "source": [
    "_type_ is an object"
   ]
  },
  {
   "cell_type": "code",
   "execution_count": 11,
   "id": "00a41a60",
   "metadata": {},
   "outputs": [
    {
     "data": {
      "text/plain": [
       "type"
      ]
     },
     "execution_count": 11,
     "metadata": {},
     "output_type": "execute_result"
    }
   ],
   "source": [
    "type(type)"
   ]
  },
  {
   "cell_type": "code",
   "execution_count": 12,
   "id": "8747d348",
   "metadata": {
    "scrolled": true
   },
   "outputs": [
    {
     "data": {
      "text/plain": [
       "'0x7ffc066bbc60'"
      ]
     },
     "execution_count": 12,
     "metadata": {},
     "output_type": "execute_result"
    }
   ],
   "source": [
    "hex(id(type))"
   ]
  },
  {
   "cell_type": "markdown",
   "id": "95d1d609",
   "metadata": {},
   "source": [
    "- The value of an immutable container object that contains a reference to a mutable object can change when the latter’s value is changed  \n",
    " - However the container is still considered immutable  \n",
    " - Because the collection of objects it contains cannot be changed. \n",
    "- So, immutability is not strictly the same as having an unchangeable value, it is more subtle.  \n",
    "- An object’s mutability is determined by its type  \n",
    " - for instance, numbers, strings and tuples are immutable, \n",
    " - while dictionaries and lists are mutable."
   ]
  },
  {
   "cell_type": "code",
   "execution_count": 76,
   "id": "ffd91ca1",
   "metadata": {},
   "outputs": [
    {
     "name": "stdout",
     "output_type": "stream",
     "text": [
      "1\n",
      "2\n"
     ]
    }
   ],
   "source": [
    "class Car():\n",
    "    \"Instance of car class from the docstring\"\n",
    "    cars = 0\n",
    "    def __init__(self, color, brand, engine, hp):\n",
    "        self.color = color\n",
    "        self.brand = brand\n",
    "        self.engine = engine\n",
    "        self.hp = hp\n",
    "        Car.cars = Car.cars + 1\n",
    "    \n",
    "    def mpg(self, miles, gallons):\n",
    "        return miles/gallons\n",
    "    \n",
    "    def __str__(self):\n",
    "        return f\"{self.brand} {self.color} {self.engine} {self.hp}\"\n",
    "    \n",
    "car1 = Car(\"Red\",\"Toyota\",\"4-Cyl\", 300)\n",
    "print(Car.cars)\n",
    "car2 = Car(\"Black\", \"Honda\", \"6-Cyl\", 400)\n",
    "print(Car.cars)\n",
    "#car1.mpg(100, 4)"
   ]
  },
  {
   "cell_type": "code",
   "execution_count": 77,
   "id": "4b203fd3",
   "metadata": {},
   "outputs": [
    {
     "name": "stdout",
     "output_type": "stream",
     "text": [
      "Help on class Car in module __main__:\n",
      "\n",
      "class Car(builtins.object)\n",
      " |  Car(color, brand, engine, hp)\n",
      " |  \n",
      " |  Instance of car class from the docsring\n",
      " |  \n",
      " |  Methods defined here:\n",
      " |  \n",
      " |  __init__(self, color, brand, engine, hp)\n",
      " |      Initialize self.  See help(type(self)) for accurate signature.\n",
      " |  \n",
      " |  __str__(self)\n",
      " |      Return str(self).\n",
      " |  \n",
      " |  mpg(self, miles, gallons)\n",
      " |  \n",
      " |  ----------------------------------------------------------------------\n",
      " |  Data descriptors defined here:\n",
      " |  \n",
      " |  __dict__\n",
      " |      dictionary for instance variables (if defined)\n",
      " |  \n",
      " |  __weakref__\n",
      " |      list of weak references to the object (if defined)\n",
      " |  \n",
      " |  ----------------------------------------------------------------------\n",
      " |  Data and other attributes defined here:\n",
      " |  \n",
      " |  cars = 2\n",
      "\n"
     ]
    }
   ],
   "source": [
    "help(Car)"
   ]
  },
  {
   "cell_type": "code",
   "execution_count": 62,
   "id": "f3e6f870",
   "metadata": {},
   "outputs": [
    {
     "name": "stdout",
     "output_type": "stream",
     "text": [
      "3\n"
     ]
    }
   ],
   "source": [
    "car3 = Car(\"Gray\", \"Tesla\", \"Std+\", 500)\n",
    "print(Car.cars)"
   ]
  },
  {
   "cell_type": "code",
   "execution_count": 69,
   "id": "855a440c",
   "metadata": {},
   "outputs": [
    {
     "name": "stdout",
     "output_type": "stream",
     "text": [
      "0x25cebcfb0d0\n",
      "Honda Black 6-Cyl 400\n"
     ]
    }
   ],
   "source": [
    "print(hex(id(car1)))\n",
    "print(car2)"
   ]
  },
  {
   "cell_type": "markdown",
   "id": "ff9ab120",
   "metadata": {},
   "source": [
    "When creating an instance of a class\n",
    "-  Call __new__()"
   ]
  },
  {
   "cell_type": "code",
   "execution_count": 23,
   "id": "b7925284",
   "metadata": {},
   "outputs": [
    {
     "name": "stdout",
     "output_type": "stream",
     "text": [
      "300\n",
      "<class '__main__.Car'>\n",
      "400\n",
      "2598118639744\n"
     ]
    }
   ],
   "source": [
    "print(car1.hp)\n",
    "print(type(car1))\n",
    "print(car2.hp)\n",
    "print(id(car1))"
   ]
  },
  {
   "cell_type": "code",
   "execution_count": 27,
   "id": "9fd0e036",
   "metadata": {},
   "outputs": [
    {
     "name": "stdout",
     "output_type": "stream",
     "text": [
      "This is the time for ... This is the time for ...\n",
      "2598128187072 2598128187072\n"
     ]
    }
   ],
   "source": [
    "a = \"This is the time for ...\"\n",
    "b = a\n",
    "print(a, b)\n",
    "print(id(a), id(b))"
   ]
  },
  {
   "cell_type": "code",
   "execution_count": 28,
   "id": "add912e2",
   "metadata": {},
   "outputs": [
    {
     "ename": "NameError",
     "evalue": "name 'a' is not defined",
     "output_type": "error",
     "traceback": [
      "\u001b[1;31m---------------------------------------------------------------------------\u001b[0m",
      "\u001b[1;31mNameError\u001b[0m                                 Traceback (most recent call last)",
      "Input \u001b[1;32mIn [28]\u001b[0m, in \u001b[0;36m<cell line: 2>\u001b[1;34m()\u001b[0m\n\u001b[0;32m      1\u001b[0m \u001b[38;5;28;01mdel\u001b[39;00m(a)\n\u001b[1;32m----> 2\u001b[0m \u001b[38;5;28mprint\u001b[39m(\u001b[43ma\u001b[49m)\n",
      "\u001b[1;31mNameError\u001b[0m: name 'a' is not defined"
     ]
    }
   ],
   "source": [
    "del(a)\n",
    "print(a)"
   ]
  },
  {
   "cell_type": "code",
   "execution_count": 29,
   "id": "7afc62b1",
   "metadata": {},
   "outputs": [
    {
     "name": "stdout",
     "output_type": "stream",
     "text": [
      "This is the time for ...\n"
     ]
    }
   ],
   "source": [
    "print(b)"
   ]
  },
  {
   "cell_type": "markdown",
   "id": "b8b94694",
   "metadata": {},
   "source": [
    "Some objects contain references to other objects;   \n",
    "- these are called containers. \n",
    "- Examples of containers are tuples, lists and dictionaries. \n",
    "-The references are part of a container’s value. \n",
    "- In most cases, when we talk about the value of a container, we imply the values, not the identities of the contained objects; \n",
    "- however, when we talk about the mutability of a container, only the identities of the immediately contained objects are implied. \n",
    "- So, if an immutable container (like a tuple) contains a reference to a mutable object, its value changes if that mutable object is changed."
   ]
  },
  {
   "cell_type": "code",
   "execution_count": 30,
   "id": "e2da5a74",
   "metadata": {},
   "outputs": [
    {
     "name": "stdout",
     "output_type": "stream",
     "text": [
      "[1, 2, 3]\n"
     ]
    }
   ],
   "source": [
    "lst1 = [1, 2, 3]\n",
    "print(lst1)"
   ]
  },
  {
   "cell_type": "code",
   "execution_count": 31,
   "id": "59421f61",
   "metadata": {},
   "outputs": [
    {
     "data": {
      "text/plain": [
       "[1, 99, 3]"
      ]
     },
     "execution_count": 31,
     "metadata": {},
     "output_type": "execute_result"
    }
   ],
   "source": [
    "lst1[1] = 99\n",
    "lst1"
   ]
  },
  {
   "cell_type": "code",
   "execution_count": 33,
   "id": "18213e64",
   "metadata": {
    "scrolled": true
   },
   "outputs": [
    {
     "ename": "TypeError",
     "evalue": "'tuple' object does not support item assignment",
     "output_type": "error",
     "traceback": [
      "\u001b[1;31m---------------------------------------------------------------------------\u001b[0m",
      "\u001b[1;31mTypeError\u001b[0m                                 Traceback (most recent call last)",
      "Input \u001b[1;32mIn [33]\u001b[0m, in \u001b[0;36m<cell line: 2>\u001b[1;34m()\u001b[0m\n\u001b[0;32m      1\u001b[0m tup1 \u001b[38;5;241m=\u001b[39m (\u001b[38;5;241m1\u001b[39m,\u001b[38;5;241m2\u001b[39m,\u001b[38;5;241m3\u001b[39m)\n\u001b[1;32m----> 2\u001b[0m tup1[\u001b[38;5;241m1\u001b[39m] \u001b[38;5;241m=\u001b[39m \u001b[38;5;241m99\u001b[39m\n",
      "\u001b[1;31mTypeError\u001b[0m: 'tuple' object does not support item assignment"
     ]
    }
   ],
   "source": [
    "tup1 = (1,2,3)\n",
    "tup1[1] = 99"
   ]
  },
  {
   "cell_type": "code",
   "execution_count": 36,
   "id": "1979fe33",
   "metadata": {},
   "outputs": [
    {
     "name": "stdout",
     "output_type": "stream",
     "text": [
      "2598012283312\n",
      "(5, 10)\n"
     ]
    }
   ],
   "source": [
    "a = 5\n",
    "print(id(a))\n",
    "b = 10\n",
    "tup1 = (a, b)\n",
    "print(tup1)"
   ]
  },
  {
   "cell_type": "code",
   "execution_count": 37,
   "id": "d134102e",
   "metadata": {},
   "outputs": [
    {
     "name": "stdout",
     "output_type": "stream",
     "text": [
      "2598012284752\n",
      "(5, 10)\n"
     ]
    }
   ],
   "source": [
    "a = 50\n",
    "print(id(a))\n",
    "print(tup1)"
   ]
  },
  {
   "cell_type": "markdown",
   "id": "2e5489d8",
   "metadata": {},
   "source": [
    "Types affect almost all aspects of object behavior. Even the importance of object identity is affected in some sense: for immutable types, operations that compute new values may actually return a reference to any existing object with the same type and value, while for mutable objects this is not allowed. E.g., after a = 1; b = 1, a and b may or may not refer to the same object with the value one, depending on the implementation, but after c = []; d = [], c and d are guaranteed to refer to two different, unique, newly created empty lists. (Note that c = d = [] assigns the same object to both c and d.)"
   ]
  },
  {
   "cell_type": "code",
   "execution_count": 38,
   "id": "a0857383",
   "metadata": {},
   "outputs": [
    {
     "name": "stdout",
     "output_type": "stream",
     "text": [
      "9\n"
     ]
    }
   ],
   "source": [
    "def __str__(i):\n",
    "    return i\n",
    "print(__str__(9))"
   ]
  },
  {
   "cell_type": "code",
   "execution_count": 39,
   "id": "ad26fbf5",
   "metadata": {},
   "outputs": [
    {
     "name": "stdout",
     "output_type": "stream",
     "text": [
      "id=0x25ce5996a30 value=9\n"
     ]
    }
   ],
   "source": [
    "def __repr__(i):\n",
    "    return f\"id={hex(id(i))} value={i}\"\n",
    "print(__repr__(9))"
   ]
  }
 ],
 "metadata": {
  "kernelspec": {
   "display_name": "Python 3 (ipykernel)",
   "language": "python",
   "name": "python3"
  },
  "language_info": {
   "codemirror_mode": {
    "name": "ipython",
    "version": 3
   },
   "file_extension": ".py",
   "mimetype": "text/x-python",
   "name": "python",
   "nbconvert_exporter": "python",
   "pygments_lexer": "ipython3",
   "version": "3.9.12"
  }
 },
 "nbformat": 4,
 "nbformat_minor": 5
}
